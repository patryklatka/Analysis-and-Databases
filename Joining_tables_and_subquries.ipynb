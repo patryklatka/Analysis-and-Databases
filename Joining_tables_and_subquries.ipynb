{
  "nbformat": 4,
  "nbformat_minor": 0,
  "metadata": {
    "colab": {
      "provenance": [],
      "authorship_tag": "ABX9TyNOl7h820AD7XnQoSFjl745",
      "include_colab_link": true
    },
    "kernelspec": {
      "name": "ir",
      "display_name": "R"
    },
    "language_info": {
      "name": "R"
    }
  },
  "cells": [
    {
      "cell_type": "markdown",
      "metadata": {
        "id": "view-in-github",
        "colab_type": "text"
      },
      "source": [
        "<a href=\"https://colab.research.google.com/github/patryklatka/Analysis-and-Databases/blob/main/Joining_tables_and_subquries.ipynb\" target=\"_parent\"><img src=\"https://colab.research.google.com/assets/colab-badge.svg\" alt=\"Open In Colab\"/></a>"
      ]
    },
    {
      "cell_type": "markdown",
      "source": [
        "###In this exercise, I learned how to join tables and learned about the functionality of subqueries.###"
      ],
      "metadata": {
        "id": "KESH-EGN2w-r"
      }
    },
    {
      "cell_type": "code",
      "source": [
        "dsn_database = \"wbauer_adb_2023\"   # Specify the name of  Database\n",
        "dsn_hostname = \"pgsql-196447.vipserv.org\"  # Specify host name\n",
        "dsn_port = \"5432\"                # Specify your port number.\n",
        "dsn_uid = \"wbauer_adb\"         # Specify your username.\n",
        "dsn_pwd = \"adb2020\"        # Specify your password.\n",
        "\n",
        "install.packages(\"RPostgres\")\n",
        "library(DBI)\n",
        "library(RPostgres)\n",
        "\n",
        "con <- dbConnect(Postgres(), dbname = dsn_database, host=dsn_hostname, port=dsn_port, user=dsn_uid, password=dsn_pwd)"
      ],
      "metadata": {
        "id": "TA7ESsMFDJmY",
        "colab": {
          "base_uri": "https://localhost:8080/"
        },
        "outputId": "6294a506-e109-49fa-d4df-6524c0c1f984"
      },
      "execution_count": 50,
      "outputs": [
        {
          "output_type": "stream",
          "name": "stderr",
          "text": [
            "Installing package into ‘/usr/local/lib/R/site-library’\n",
            "(as ‘lib’ is unspecified)\n",
            "\n"
          ]
        }
      ]
    },
    {
      "cell_type": "markdown",
      "source": [
        "**Below I wrote some functions, which I then used to solve the tasks.**"
      ],
      "metadata": {
        "id": "09wv0WE94F_3"
      }
    },
    {
      "cell_type": "code",
      "source": [
        "film_in_category<- function(category_id)\n",
        "{\n",
        "    # A function that returns the result of a database query of the movie title, language, and category for the given category id.\n",
        "    # Example of the resulting table:\n",
        "    # | |title |language |category|\n",
        "    # |0 |Amadeus Holy |English |Action|.\n",
        "    #\n",
        "    # The resulting table is to be sorted by so many movie and language.\n",
        "    #\n",
        "    # If the input conditions are not met then the function should return NULL.\n",
        "    #\n",
        "    # Parameters:\n",
        "    # category_id (integer): the value of the category id for which we are executing the query.\n",
        "    #\n",
        "    # Returns:\n",
        "    # DataFrame: the DataFrame containing the results of the query.\n",
        "    if(is.integer(category_id)){\n",
        "        film_in_category <- dbGetQuery(con, paste(\"SELECT film.title title, language.name as language, category.name as category\n",
        "                        FROM film_category\n",
        "                        INNER JOIN film ON film_category.film_id = film.film_id\n",
        "                        INNER JOIN language ON film.language_id = language.language_id\n",
        "                        INNER JOIN category ON category.category_id = film_category.category_id\n",
        "                        WHERE film_category.category_id =\", category_id,\n",
        "                        \"ORDER BY film.title ASC, language.name ASC \"))\n",
        "\n",
        "        return(film_in_category)\n",
        "    }\n",
        "    else{\n",
        "        return(NULL)\n",
        "    }\n",
        "}"
      ],
      "metadata": {
        "id": "D79CflhUEHVu"
      },
      "execution_count": 51,
      "outputs": []
    },
    {
      "cell_type": "code",
      "source": [
        "number_films_in_category <- function(category_id){\n",
        "    # Function that returns the result of a database query about the number of movies in the given category by the id of the category.\n",
        "    # Example of the resulting table:\n",
        "    # | |category |count|\n",
        "    # |0 |Action |64 |\n",
        "    #\n",
        "    # If the input conditions are not met then the function should return a NULL value.\n",
        "    #\n",
        "    # Parameters:\n",
        "    # category_id (integer): the value of the category id for which we are executing the query.\n",
        "    #\n",
        "    # Returns:\n",
        "    # DataFrame: dataFrame containing the results of the query\n",
        "    if(is.integer(category_id)){\n",
        "    number_films_in_category <- dbGetQuery(con, paste(\"SELECT c.name category, COUNT(f.film_id)\n",
        "                            FROM category c\n",
        "                            INNER JOIN film_category fc ON c.category_id = fc.category_id\n",
        "                            INNER JOIN film f on fc.film_id = f.film_id\n",
        "                            WHERE c.category_id =\", category_id,\n",
        "                            \"GROUP BY c.category_id\"))\n",
        "    return(number_films_in_category)\n",
        "    }\n",
        "    else{\n",
        "        return(NULL)\n",
        "    }\n",
        "}"
      ],
      "metadata": {
        "id": "mGzeu8rnEFyL"
      },
      "execution_count": 52,
      "outputs": []
    },
    {
      "cell_type": "code",
      "source": [
        "number_film_by_length <- function(min_length, max_length){\n",
        "    # Function that returns the result of the database query for the number of videos for each length between the min_length and max_length values.\n",
        "    # Example of the resulting table:\n",
        "    # | |length |count|\n",
        "    # |0 |46 |64 |\n",
        "    #\n",
        "    # If the input conditions are not met then the function should return a NULL value.\n",
        "    #\n",
        "    # Parameters:\n",
        "    # min_length (int,double): value of the minimum length of the movie\n",
        "    # max_length (int,double): value of the maximum length of the movie\n",
        "    #\n",
        "    # Returns:\n",
        "    # pd.DataFrame: dataFrame containing the results of the query\n",
        "    if((is.integer(min_length) | is.double(min_length)) & (is.integer(max_length) | is.double(max_length)) & min_length < max_length){\n",
        "    number_film_by_length <- dbGetQuery(con, paste(\"SELECT film.length as length, COUNT(film.title) as count\n",
        "                            FROM category\n",
        "                            INNER JOIN film_category ON category.category_id = film_category.category_id\n",
        "                            INNER JOIN film on film_category.film_id = film.film_id\n",
        "                            WHERE film.length BETWEEN\", min_length ,\"and\",  max_length,\n",
        "                            \"GROUP BY film.length\"))\n",
        "    return(number_film_by_length)\n",
        "    }\n",
        "    else{\n",
        "        return(NULL)\n",
        "    }\n",
        "}"
      ],
      "metadata": {
        "id": "u3J5U6rjEEZT"
      },
      "execution_count": 53,
      "outputs": []
    },
    {
      "cell_type": "code",
      "source": [
        "client_from_city<- function(city){\n",
        "    # Function that returns the result of querying the database for a list of customers from the specified city by the city value.\n",
        "    # Example of the resulting table:\n",
        "    # | |city |first_name |last_name\n",
        "    # |0 |Athenai |Linda |Williams\n",
        "    #\n",
        "    # The resulting table is to be sorted by customer's last name and first name.\n",
        "    #\n",
        "    # If the input conditions are not met then the function should return NULL.\n",
        "    #\n",
        "    # Parameters:\n",
        "    # city (character): the name of the city for which we are to make a list of customers.\n",
        "    #\n",
        "    # Returns:\n",
        "    # dataFrame: dataFrame containing the results of the query\n",
        "    if(is.character(city)){\n",
        "    client_from_city <- dbGetQuery(con, paste(\"SELECT c.city, cus.first_name, cus.last_name\n",
        "                               FROM customer cus\n",
        "                               INNER JOIN address ad ON cus.address_id = ad.address_id\n",
        "                               INNER JOIN city c ON ad.city_id = c.city_id\n",
        "                               WHERE c.city = '\", city, \"'\", sep = \"\"))\n",
        "    return(client_from_city)\n",
        "    }\n",
        "    else{\n",
        "        return(NULL)\n",
        "    }\n",
        "}"
      ],
      "metadata": {
        "id": "nV_gqno3EC9F"
      },
      "execution_count": 54,
      "outputs": []
    },
    {
      "cell_type": "code",
      "source": [
        "avg_amount_by_length<-function(length){\n",
        "    # A function that returns the result of a database query of the average value of movie rentals for a given length of length.\n",
        "    # Example of the resulting table:\n",
        "    # | |length |avg\n",
        "    # |0 |48 |4.295389\n",
        "    #\n",
        "    #\n",
        "    # If the input conditions are not met then the function should return a NULL value.\n",
        "    #\n",
        "    # Parameters:\n",
        "    # length (integer,double): the length of the movie for which we should borrow the average value of borrowed movies.\n",
        "    #\n",
        "    # Returns:\n",
        "    # DataFrame: dataFrame containing the results of the query\n",
        "    if(is.integer(length) | is.double(length)){\n",
        "    avg_amount_by_length <- dbGetQuery(con, paste(\"SELECT f.length, AVG(p.amount)\n",
        "                                   FROM film f\n",
        "                                   INNER JOIN inventory i ON f.film_id = i.film_id\n",
        "                                   INNER JOIN rental r ON i.inventory_id = r.inventory_id\n",
        "                                   INNER JOIN payment p  ON r.rental_id = p.rental_id\n",
        "                                   WHERE f.length =\", length,\n",
        "                                   \"GROUP BY f.length\"))\n",
        "    return(avg_amount_by_length)\n",
        "    }\n",
        "    else{\n",
        "        return(NULL)\n",
        "    }\n",
        "}"
      ],
      "metadata": {
        "id": "nav1KCkyEBfE"
      },
      "execution_count": 55,
      "outputs": []
    },
    {
      "cell_type": "code",
      "source": [
        "client_by_sum_length<-function(sum_min){\n",
        "    # A function that returns the result of a database query about the total time of rented movies by customers above a given value .\n",
        "    # Example of the resulting table:\n",
        "    # | |first_name |last_name |sum\n",
        "    # |0 |Brian |Wyman |1265\n",
        "    #\n",
        "    # The resulting table should be sorted by sum, first_name and customer name.\n",
        "    # If the input conditions are not met then the function should return NULL.\n",
        "    #\n",
        "    # Parameters:\n",
        "    # sum_min (integer,double): the minimum value of the sum of the length of the rented movies that the customer must meet.\n",
        "    #\n",
        "    # Returns:\n",
        "    # DataFrame: dataFrame containing the results of the query.\n",
        "    if(is.numeric(sum_min)){\n",
        "    client_by_sum_length <-dbGetQuery(con, paste(\"SELECT  cus.first_name, cus.last_name, SUM(f.length)\n",
        "                               FROM customer cus\n",
        "                               INNER JOIN rental r ON cus.customer_id = r.customer_id\n",
        "                               INNER JOIN inventory i ON r.inventory_id = i.inventory_id\n",
        "                               INNER JOIN film f ON i.film_id = f.film_id\n",
        "                               GROUP BY cus.first_name, cus.last_name\n",
        "                               HAVING SUM(f.length) >=\", sum_min,\n",
        "                                \"ORDER BY sum(f.length), cus.last_name, cus.first_name \"\n",
        "                               ))\n",
        "\n",
        "    return(client_by_sum_length)\n",
        "    }\n",
        "    else{\n",
        "        return(NULL)\n",
        "    }\n",
        "}"
      ],
      "metadata": {
        "id": "kQ1Xne1AEAOV"
      },
      "execution_count": 56,
      "outputs": []
    },
    {
      "cell_type": "code",
      "source": [
        "category_statistic_length<-function(name){\n",
        "    # Function that returns the result of a query to the database about the statistics of the length of movies in the category with the given name.\n",
        "    # Example of the resulting table:\n",
        "    # | |category |avg |sum |min |max\n",
        "    # |0 |Action |111.60 |7143 |47 |185\n",
        "    #\n",
        "    # If the input conditions are not met then the function should return NULL.\n",
        "    #\n",
        "    # Parameters:\n",
        "    # name (character): The name of the category for which the statistic is to be output.\n",
        "    #\n",
        "    # Returns:\n",
        "    # DataFrame: DataFrame containing the results of the query.\n",
        "    if(is.character(name)){\n",
        "    category_statistic_length <- dbGetQuery(con, paste(\"SELECT c.name as category, AVG(f.length), SUM(f.length), MIN(f.length), MAX(f.length)\n",
        "                                        FROM film f\n",
        "                                        INNER JOIN film_category fc ON f.film_id = fc.film_id\n",
        "                                        INNER JOIN category c ON fc.category_id = c.category_id\n",
        "                                        GROUP BY c.name\n",
        "                                        HAVING c.name = '\", name, \"'\", sep=\"\"))\n",
        "    return(category_statistic_length)\n",
        "    }\n",
        "    else{\n",
        "        return(NULL)\n",
        "    }\n",
        "}"
      ],
      "metadata": {
        "id": "i0xvhJtWD967"
      },
      "execution_count": 57,
      "outputs": []
    },
    {
      "cell_type": "markdown",
      "source": [
        "**Find a list of all videos of the same length.**"
      ],
      "metadata": {
        "id": "JpcbA93M46Dn"
      }
    },
    {
      "cell_type": "code",
      "source": [
        "solution <- dbGetQuery(con, \"SELECT title, length\n",
        "                    FROM film\n",
        "                    WHERE length = 102\")\n",
        "solution"
      ],
      "metadata": {
        "id": "R8fxklLpD44T",
        "colab": {
          "base_uri": "https://localhost:8080/",
          "height": 443
        },
        "outputId": "de0774eb-d145-495f-9156-f5405ff45f02"
      },
      "execution_count": 58,
      "outputs": [
        {
          "output_type": "display_data",
          "data": {
            "text/html": [
              "<table class=\"dataframe\">\n",
              "<caption>A data.frame: 11 × 2</caption>\n",
              "<thead>\n",
              "\t<tr><th scope=col>title</th><th scope=col>length</th></tr>\n",
              "\t<tr><th scope=col>&lt;chr&gt;</th><th scope=col>&lt;int&gt;</th></tr>\n",
              "</thead>\n",
              "<tbody>\n",
              "\t<tr><td>Boiled Dares      </td><td>102</td></tr>\n",
              "\t<tr><td>Falcon Volume     </td><td>102</td></tr>\n",
              "\t<tr><td>Giant Troopers    </td><td>102</td></tr>\n",
              "\t<tr><td>Heavyweights Beast</td><td>102</td></tr>\n",
              "\t<tr><td>Jeopardy Encino   </td><td>102</td></tr>\n",
              "\t<tr><td>Opus Ice          </td><td>102</td></tr>\n",
              "\t<tr><td>Panic Club        </td><td>102</td></tr>\n",
              "\t<tr><td>Robbers Joon      </td><td>102</td></tr>\n",
              "\t<tr><td>Rock Instinct     </td><td>102</td></tr>\n",
              "\t<tr><td>Scarface Bang     </td><td>102</td></tr>\n",
              "\t<tr><td>Treasure Command  </td><td>102</td></tr>\n",
              "</tbody>\n",
              "</table>\n"
            ],
            "text/markdown": "\nA data.frame: 11 × 2\n\n| title &lt;chr&gt; | length &lt;int&gt; |\n|---|---|\n| Boiled Dares       | 102 |\n| Falcon Volume      | 102 |\n| Giant Troopers     | 102 |\n| Heavyweights Beast | 102 |\n| Jeopardy Encino    | 102 |\n| Opus Ice           | 102 |\n| Panic Club         | 102 |\n| Robbers Joon       | 102 |\n| Rock Instinct      | 102 |\n| Scarface Bang      | 102 |\n| Treasure Command   | 102 |\n\n",
            "text/latex": "A data.frame: 11 × 2\n\\begin{tabular}{ll}\n title & length\\\\\n <chr> & <int>\\\\\n\\hline\n\t Boiled Dares       & 102\\\\\n\t Falcon Volume      & 102\\\\\n\t Giant Troopers     & 102\\\\\n\t Heavyweights Beast & 102\\\\\n\t Jeopardy Encino    & 102\\\\\n\t Opus Ice           & 102\\\\\n\t Panic Club         & 102\\\\\n\t Robbers Joon       & 102\\\\\n\t Rock Instinct      & 102\\\\\n\t Scarface Bang      & 102\\\\\n\t Treasure Command   & 102\\\\\n\\end{tabular}\n",
            "text/plain": [
              "   title              length\n",
              "1  Boiled Dares       102   \n",
              "2  Falcon Volume      102   \n",
              "3  Giant Troopers     102   \n",
              "4  Heavyweights Beast 102   \n",
              "5  Jeopardy Encino    102   \n",
              "6  Opus Ice           102   \n",
              "7  Panic Club         102   \n",
              "8  Robbers Joon       102   \n",
              "9  Rock Instinct      102   \n",
              "10 Scarface Bang      102   \n",
              "11 Treasure Command   102   "
            ]
          },
          "metadata": {}
        }
      ]
    },
    {
      "cell_type": "markdown",
      "source": [
        "**Find all customers living in the same city.**"
      ],
      "metadata": {
        "id": "bTEKo3SL48OV"
      }
    },
    {
      "cell_type": "code",
      "source": [
        "solution <- dbGetQuery(con, \"SELECT city, first_name, last_name\n",
        "              FROM customer\n",
        "              INNER JOIN address ON customer.address_id = address.address_id\n",
        "              INNER JOIN city ON address.city_id = city.city_id\n",
        "              WHERE city = 'Abu Dhabi'\n",
        "              ORDER BY first_name ASC\")\n",
        "solution"
      ],
      "metadata": {
        "id": "fSJIGHptD4Ab",
        "colab": {
          "base_uri": "https://localhost:8080/",
          "height": 129
        },
        "outputId": "a37e0670-17d9-491b-a430-38bf2fa38c02"
      },
      "execution_count": 59,
      "outputs": [
        {
          "output_type": "display_data",
          "data": {
            "text/html": [
              "<table class=\"dataframe\">\n",
              "<caption>A data.frame: 1 × 3</caption>\n",
              "<thead>\n",
              "\t<tr><th scope=col>city</th><th scope=col>first_name</th><th scope=col>last_name</th></tr>\n",
              "\t<tr><th scope=col>&lt;chr&gt;</th><th scope=col>&lt;chr&gt;</th><th scope=col>&lt;chr&gt;</th></tr>\n",
              "</thead>\n",
              "<tbody>\n",
              "\t<tr><td>Abu Dhabi</td><td>Tom</td><td>Milner</td></tr>\n",
              "</tbody>\n",
              "</table>\n"
            ],
            "text/markdown": "\nA data.frame: 1 × 3\n\n| city &lt;chr&gt; | first_name &lt;chr&gt; | last_name &lt;chr&gt; |\n|---|---|---|\n| Abu Dhabi | Tom | Milner |\n\n",
            "text/latex": "A data.frame: 1 × 3\n\\begin{tabular}{lll}\n city & first\\_name & last\\_name\\\\\n <chr> & <chr> & <chr>\\\\\n\\hline\n\t Abu Dhabi & Tom & Milner\\\\\n\\end{tabular}\n",
            "text/plain": [
              "  city      first_name last_name\n",
              "1 Abu Dhabi Tom        Milner   "
            ]
          },
          "metadata": {}
        }
      ]
    },
    {
      "cell_type": "markdown",
      "source": [
        "**Calculate the average cost of renting all movies.**"
      ],
      "metadata": {
        "id": "tig43paW4-wW"
      }
    },
    {
      "cell_type": "code",
      "source": [
        "solution <- dbGetQuery(con, \"SELECT AVG(payment.amount)\n",
        "                   FROM payment\")\n",
        "solution"
      ],
      "metadata": {
        "id": "YB8n7bM2D3GP",
        "colab": {
          "base_uri": "https://localhost:8080/",
          "height": 164
        },
        "outputId": "7122fef7-0999-45b8-d62d-21dd650131f9"
      },
      "execution_count": 60,
      "outputs": [
        {
          "output_type": "display_data",
          "data": {
            "text/html": [
              "<table class=\"dataframe\">\n",
              "<caption>A data.frame: 1 × 1</caption>\n",
              "<thead>\n",
              "\t<tr><th scope=col>avg</th></tr>\n",
              "\t<tr><th scope=col>&lt;dbl&gt;</th></tr>\n",
              "</thead>\n",
              "<tbody>\n",
              "\t<tr><td>4.200606</td></tr>\n",
              "</tbody>\n",
              "</table>\n"
            ],
            "text/markdown": "\nA data.frame: 1 × 1\n\n| avg &lt;dbl&gt; |\n|---|\n| 4.200606 |\n\n",
            "text/latex": "A data.frame: 1 × 1\n\\begin{tabular}{l}\n avg\\\\\n <dbl>\\\\\n\\hline\n\t 4.200606\\\\\n\\end{tabular}\n",
            "text/plain": [
              "  avg     \n",
              "1 4.200606"
            ]
          },
          "metadata": {}
        }
      ]
    },
    {
      "cell_type": "markdown",
      "source": [
        "**Calculate and display the number of movies in all categories.**"
      ],
      "metadata": {
        "id": "LmtxOUBG5BCf"
      }
    },
    {
      "cell_type": "code",
      "source": [
        "solution <- dbGetQuery(con, \"SELECT cat.name, COUNT(f.film_id)\n",
        "                   FROM category cat\n",
        "                   INNER JOIN  film_category fc ON cat.category_id = fc.category_id\n",
        "                   INNER JOIN film f ON fc.film_id = f.film_id\n",
        "                   GROUP BY cat.name\n",
        "                   \")\n",
        "solution"
      ],
      "metadata": {
        "id": "PMVo6nJtD2A_",
        "colab": {
          "base_uri": "https://localhost:8080/",
          "height": 600
        },
        "outputId": "021dfc26-dc00-498c-a114-152bd793ff5d"
      },
      "execution_count": 61,
      "outputs": [
        {
          "output_type": "display_data",
          "data": {
            "text/html": [
              "<table class=\"dataframe\">\n",
              "<caption>A data.frame: 16 × 2</caption>\n",
              "<thead>\n",
              "\t<tr><th scope=col>name</th><th scope=col>count</th></tr>\n",
              "\t<tr><th scope=col>&lt;chr&gt;</th><th scope=col>&lt;int64&gt;</th></tr>\n",
              "</thead>\n",
              "<tbody>\n",
              "\t<tr><td>Family     </td><td>69</td></tr>\n",
              "\t<tr><td>Games      </td><td>61</td></tr>\n",
              "\t<tr><td>Animation  </td><td>66</td></tr>\n",
              "\t<tr><td>Classics   </td><td>57</td></tr>\n",
              "\t<tr><td>Documentary</td><td>68</td></tr>\n",
              "\t<tr><td>New        </td><td>63</td></tr>\n",
              "\t<tr><td>Sports     </td><td>74</td></tr>\n",
              "\t<tr><td>Children   </td><td>60</td></tr>\n",
              "\t<tr><td>Music      </td><td>51</td></tr>\n",
              "\t<tr><td>Travel     </td><td>57</td></tr>\n",
              "\t<tr><td>Foreign    </td><td>73</td></tr>\n",
              "\t<tr><td>Drama      </td><td>62</td></tr>\n",
              "\t<tr><td>Horror     </td><td>56</td></tr>\n",
              "\t<tr><td>Action     </td><td>64</td></tr>\n",
              "\t<tr><td>Sci-Fi     </td><td>61</td></tr>\n",
              "\t<tr><td>Comedy     </td><td>58</td></tr>\n",
              "</tbody>\n",
              "</table>\n"
            ],
            "text/markdown": "\nA data.frame: 16 × 2\n\n| name &lt;chr&gt; | count &lt;int64&gt; |\n|---|---|\n| Family      | 69 |\n| Games       | 61 |\n| Animation   | 66 |\n| Classics    | 57 |\n| Documentary | 68 |\n| New         | 63 |\n| Sports      | 74 |\n| Children    | 60 |\n| Music       | 51 |\n| Travel      | 57 |\n| Foreign     | 73 |\n| Drama       | 62 |\n| Horror      | 56 |\n| Action      | 64 |\n| Sci-Fi      | 61 |\n| Comedy      | 58 |\n\n",
            "text/latex": "A data.frame: 16 × 2\n\\begin{tabular}{ll}\n name & count\\\\\n <chr> & <int64>\\\\\n\\hline\n\t Family      & 69\\\\\n\t Games       & 61\\\\\n\t Animation   & 66\\\\\n\t Classics    & 57\\\\\n\t Documentary & 68\\\\\n\t New         & 63\\\\\n\t Sports      & 74\\\\\n\t Children    & 60\\\\\n\t Music       & 51\\\\\n\t Travel      & 57\\\\\n\t Foreign     & 73\\\\\n\t Drama       & 62\\\\\n\t Horror      & 56\\\\\n\t Action      & 64\\\\\n\t Sci-Fi      & 61\\\\\n\t Comedy      & 58\\\\\n\\end{tabular}\n",
            "text/plain": [
              "   name        count\n",
              "1  Family      69   \n",
              "2  Games       61   \n",
              "3  Animation   66   \n",
              "4  Classics    57   \n",
              "5  Documentary 68   \n",
              "6  New         63   \n",
              "7  Sports      74   \n",
              "8  Children    60   \n",
              "9  Music       51   \n",
              "10 Travel      57   \n",
              "11 Foreign     73   \n",
              "12 Drama       62   \n",
              "13 Horror      56   \n",
              "14 Action      64   \n",
              "15 Sci-Fi      61   \n",
              "16 Comedy      58   "
            ]
          },
          "metadata": {}
        }
      ]
    },
    {
      "cell_type": "markdown",
      "source": [
        "**Display the number of all customers grouped by country.**"
      ],
      "metadata": {
        "id": "fdlznTaT5EW-"
      }
    },
    {
      "cell_type": "code",
      "source": [
        "solution <- dbGetQuery(con, \"SELECT ct.country, COUNT(cus.customer_id)\n",
        "                   FROM customer cus\n",
        "                   INNER JOIN address ad ON cus.address_id = ad.address_id\n",
        "                   INNER JOIN city c ON ad.city_id = c.city_id\n",
        "                   INNER JOIN country ct ON c.country_id = ct.country_id\n",
        "                   GROUP BY ct.country_id\n",
        "                   ORDER BY COUNT(cus.customer_id) DESC\")\n",
        "solution"
      ],
      "metadata": {
        "id": "TRhJmRCKD00O",
        "colab": {
          "base_uri": "https://localhost:8080/",
          "height": 1000
        },
        "outputId": "feb10902-ab91-4429-9fca-7a74d127342b"
      },
      "execution_count": 62,
      "outputs": [
        {
          "output_type": "display_data",
          "data": {
            "text/html": [
              "<table class=\"dataframe\">\n",
              "<caption>A data.frame: 108 × 2</caption>\n",
              "<thead>\n",
              "\t<tr><th scope=col>country</th><th scope=col>count</th></tr>\n",
              "\t<tr><th scope=col>&lt;chr&gt;</th><th scope=col>&lt;int64&gt;</th></tr>\n",
              "</thead>\n",
              "<tbody>\n",
              "\t<tr><td>India             </td><td>60</td></tr>\n",
              "\t<tr><td>China             </td><td>53</td></tr>\n",
              "\t<tr><td>United States     </td><td>36</td></tr>\n",
              "\t<tr><td>Japan             </td><td>31</td></tr>\n",
              "\t<tr><td>Mexico            </td><td>30</td></tr>\n",
              "\t<tr><td>Russian Federation</td><td>28</td></tr>\n",
              "\t<tr><td>Brazil            </td><td>28</td></tr>\n",
              "\t<tr><td>Philippines       </td><td>20</td></tr>\n",
              "\t<tr><td>Turkey            </td><td>15</td></tr>\n",
              "\t<tr><td>Indonesia         </td><td>14</td></tr>\n",
              "\t<tr><td>Argentina         </td><td>13</td></tr>\n",
              "\t<tr><td>Nigeria           </td><td>13</td></tr>\n",
              "\t<tr><td>South Africa      </td><td>11</td></tr>\n",
              "\t<tr><td>Taiwan            </td><td>10</td></tr>\n",
              "\t<tr><td>United Kingdom    </td><td> 9</td></tr>\n",
              "\t<tr><td>Iran              </td><td> 8</td></tr>\n",
              "\t<tr><td>Poland            </td><td> 8</td></tr>\n",
              "\t<tr><td>Germany           </td><td> 7</td></tr>\n",
              "\t<tr><td>Venezuela         </td><td> 7</td></tr>\n",
              "\t<tr><td>Italy             </td><td> 7</td></tr>\n",
              "\t<tr><td>Vietnam           </td><td> 6</td></tr>\n",
              "\t<tr><td>Colombia          </td><td> 6</td></tr>\n",
              "\t<tr><td>Egypt             </td><td> 6</td></tr>\n",
              "\t<tr><td>Ukraine           </td><td> 6</td></tr>\n",
              "\t<tr><td>Canada            </td><td> 5</td></tr>\n",
              "\t<tr><td>South Korea       </td><td> 5</td></tr>\n",
              "\t<tr><td>Netherlands       </td><td> 5</td></tr>\n",
              "\t<tr><td>Pakistan          </td><td> 5</td></tr>\n",
              "\t<tr><td>Spain             </td><td> 5</td></tr>\n",
              "\t<tr><td>Saudi Arabia      </td><td> 5</td></tr>\n",
              "\t<tr><td>⋮</td><td>⋮</td></tr>\n",
              "\t<tr><td>Zambia                          </td><td>1</td></tr>\n",
              "\t<tr><td>Malawi                          </td><td>1</td></tr>\n",
              "\t<tr><td>Finland                         </td><td>1</td></tr>\n",
              "\t<tr><td>Tonga                           </td><td>1</td></tr>\n",
              "\t<tr><td>Afghanistan                     </td><td>1</td></tr>\n",
              "\t<tr><td>Lithuania                       </td><td>1</td></tr>\n",
              "\t<tr><td>Madagascar                      </td><td>1</td></tr>\n",
              "\t<tr><td>Virgin Islands, U.S.            </td><td>1</td></tr>\n",
              "\t<tr><td>Saint Vincent and the Grenadines</td><td>1</td></tr>\n",
              "\t<tr><td>Moldova                         </td><td>1</td></tr>\n",
              "\t<tr><td>Anguilla                        </td><td>1</td></tr>\n",
              "\t<tr><td>Slovakia                        </td><td>1</td></tr>\n",
              "\t<tr><td>Nepal                           </td><td>1</td></tr>\n",
              "\t<tr><td>Estonia                         </td><td>1</td></tr>\n",
              "\t<tr><td>Chad                            </td><td>1</td></tr>\n",
              "\t<tr><td>Sweden                          </td><td>1</td></tr>\n",
              "\t<tr><td>Iraq                            </td><td>1</td></tr>\n",
              "\t<tr><td>American Samoa                  </td><td>1</td></tr>\n",
              "\t<tr><td>Turkmenistan                    </td><td>1</td></tr>\n",
              "\t<tr><td>Brunei                          </td><td>1</td></tr>\n",
              "\t<tr><td>Bahrain                         </td><td>1</td></tr>\n",
              "\t<tr><td>Senegal                         </td><td>1</td></tr>\n",
              "\t<tr><td>North Korea                     </td><td>1</td></tr>\n",
              "\t<tr><td>Hong Kong                       </td><td>1</td></tr>\n",
              "\t<tr><td>Tuvalu                          </td><td>1</td></tr>\n",
              "\t<tr><td>Sri Lanka                       </td><td>1</td></tr>\n",
              "\t<tr><td>Ethiopia                        </td><td>1</td></tr>\n",
              "\t<tr><td>Holy See (Vatican City State)   </td><td>1</td></tr>\n",
              "\t<tr><td>Greenland                       </td><td>1</td></tr>\n",
              "\t<tr><td>Tunisia                         </td><td>1</td></tr>\n",
              "</tbody>\n",
              "</table>\n"
            ],
            "text/markdown": "\nA data.frame: 108 × 2\n\n| country &lt;chr&gt; | count &lt;int64&gt; |\n|---|---|\n| India              | 60 |\n| China              | 53 |\n| United States      | 36 |\n| Japan              | 31 |\n| Mexico             | 30 |\n| Russian Federation | 28 |\n| Brazil             | 28 |\n| Philippines        | 20 |\n| Turkey             | 15 |\n| Indonesia          | 14 |\n| Argentina          | 13 |\n| Nigeria            | 13 |\n| South Africa       | 11 |\n| Taiwan             | 10 |\n| United Kingdom     |  9 |\n| Iran               |  8 |\n| Poland             |  8 |\n| Germany            |  7 |\n| Venezuela          |  7 |\n| Italy              |  7 |\n| Vietnam            |  6 |\n| Colombia           |  6 |\n| Egypt              |  6 |\n| Ukraine            |  6 |\n| Canada             |  5 |\n| South Korea        |  5 |\n| Netherlands        |  5 |\n| Pakistan           |  5 |\n| Spain              |  5 |\n| Saudi Arabia       |  5 |\n| ⋮ | ⋮ |\n| Zambia                           | 1 |\n| Malawi                           | 1 |\n| Finland                          | 1 |\n| Tonga                            | 1 |\n| Afghanistan                      | 1 |\n| Lithuania                        | 1 |\n| Madagascar                       | 1 |\n| Virgin Islands, U.S.             | 1 |\n| Saint Vincent and the Grenadines | 1 |\n| Moldova                          | 1 |\n| Anguilla                         | 1 |\n| Slovakia                         | 1 |\n| Nepal                            | 1 |\n| Estonia                          | 1 |\n| Chad                             | 1 |\n| Sweden                           | 1 |\n| Iraq                             | 1 |\n| American Samoa                   | 1 |\n| Turkmenistan                     | 1 |\n| Brunei                           | 1 |\n| Bahrain                          | 1 |\n| Senegal                          | 1 |\n| North Korea                      | 1 |\n| Hong Kong                        | 1 |\n| Tuvalu                           | 1 |\n| Sri Lanka                        | 1 |\n| Ethiopia                         | 1 |\n| Holy See (Vatican City State)    | 1 |\n| Greenland                        | 1 |\n| Tunisia                          | 1 |\n\n",
            "text/latex": "A data.frame: 108 × 2\n\\begin{tabular}{ll}\n country & count\\\\\n <chr> & <int64>\\\\\n\\hline\n\t India              & 60\\\\\n\t China              & 53\\\\\n\t United States      & 36\\\\\n\t Japan              & 31\\\\\n\t Mexico             & 30\\\\\n\t Russian Federation & 28\\\\\n\t Brazil             & 28\\\\\n\t Philippines        & 20\\\\\n\t Turkey             & 15\\\\\n\t Indonesia          & 14\\\\\n\t Argentina          & 13\\\\\n\t Nigeria            & 13\\\\\n\t South Africa       & 11\\\\\n\t Taiwan             & 10\\\\\n\t United Kingdom     &  9\\\\\n\t Iran               &  8\\\\\n\t Poland             &  8\\\\\n\t Germany            &  7\\\\\n\t Venezuela          &  7\\\\\n\t Italy              &  7\\\\\n\t Vietnam            &  6\\\\\n\t Colombia           &  6\\\\\n\t Egypt              &  6\\\\\n\t Ukraine            &  6\\\\\n\t Canada             &  5\\\\\n\t South Korea        &  5\\\\\n\t Netherlands        &  5\\\\\n\t Pakistan           &  5\\\\\n\t Spain              &  5\\\\\n\t Saudi Arabia       &  5\\\\\n\t ⋮ & ⋮\\\\\n\t Zambia                           & 1\\\\\n\t Malawi                           & 1\\\\\n\t Finland                          & 1\\\\\n\t Tonga                            & 1\\\\\n\t Afghanistan                      & 1\\\\\n\t Lithuania                        & 1\\\\\n\t Madagascar                       & 1\\\\\n\t Virgin Islands, U.S.             & 1\\\\\n\t Saint Vincent and the Grenadines & 1\\\\\n\t Moldova                          & 1\\\\\n\t Anguilla                         & 1\\\\\n\t Slovakia                         & 1\\\\\n\t Nepal                            & 1\\\\\n\t Estonia                          & 1\\\\\n\t Chad                             & 1\\\\\n\t Sweden                           & 1\\\\\n\t Iraq                             & 1\\\\\n\t American Samoa                   & 1\\\\\n\t Turkmenistan                     & 1\\\\\n\t Brunei                           & 1\\\\\n\t Bahrain                          & 1\\\\\n\t Senegal                          & 1\\\\\n\t North Korea                      & 1\\\\\n\t Hong Kong                        & 1\\\\\n\t Tuvalu                           & 1\\\\\n\t Sri Lanka                        & 1\\\\\n\t Ethiopia                         & 1\\\\\n\t Holy See (Vatican City State)    & 1\\\\\n\t Greenland                        & 1\\\\\n\t Tunisia                          & 1\\\\\n\\end{tabular}\n",
            "text/plain": [
              "    country                          count\n",
              "1   India                            60   \n",
              "2   China                            53   \n",
              "3   United States                    36   \n",
              "4   Japan                            31   \n",
              "5   Mexico                           30   \n",
              "6   Russian Federation               28   \n",
              "7   Brazil                           28   \n",
              "8   Philippines                      20   \n",
              "9   Turkey                           15   \n",
              "10  Indonesia                        14   \n",
              "11  Argentina                        13   \n",
              "12  Nigeria                          13   \n",
              "13  South Africa                     11   \n",
              "14  Taiwan                           10   \n",
              "15  United Kingdom                    9   \n",
              "16  Iran                              8   \n",
              "17  Poland                            8   \n",
              "18  Germany                           7   \n",
              "19  Venezuela                         7   \n",
              "20  Italy                             7   \n",
              "21  Vietnam                           6   \n",
              "22  Colombia                          6   \n",
              "23  Egypt                             6   \n",
              "24  Ukraine                           6   \n",
              "25  Canada                            5   \n",
              "26  South Korea                       5   \n",
              "27  Netherlands                       5   \n",
              "28  Pakistan                          5   \n",
              "29  Spain                             5   \n",
              "30  Saudi Arabia                      5   \n",
              "⋮   ⋮                                ⋮    \n",
              "79  Zambia                           1    \n",
              "80  Malawi                           1    \n",
              "81  Finland                          1    \n",
              "82  Tonga                            1    \n",
              "83  Afghanistan                      1    \n",
              "84  Lithuania                        1    \n",
              "85  Madagascar                       1    \n",
              "86  Virgin Islands, U.S.             1    \n",
              "87  Saint Vincent and the Grenadines 1    \n",
              "88  Moldova                          1    \n",
              "89  Anguilla                         1    \n",
              "90  Slovakia                         1    \n",
              "91  Nepal                            1    \n",
              "92  Estonia                          1    \n",
              "93  Chad                             1    \n",
              "94  Sweden                           1    \n",
              "95  Iraq                             1    \n",
              "96  American Samoa                   1    \n",
              "97  Turkmenistan                     1    \n",
              "98  Brunei                           1    \n",
              "99  Bahrain                          1    \n",
              "100 Senegal                          1    \n",
              "101 North Korea                      1    \n",
              "102 Hong Kong                        1    \n",
              "103 Tuvalu                           1    \n",
              "104 Sri Lanka                        1    \n",
              "105 Ethiopia                         1    \n",
              "106 Holy See (Vatican City State)    1    \n",
              "107 Greenland                        1    \n",
              "108 Tunisia                          1    "
            ]
          },
          "metadata": {}
        }
      ]
    },
    {
      "cell_type": "markdown",
      "source": [
        "**Display information about a store that has more than 100 customers and less than 300 customers.**"
      ],
      "metadata": {
        "id": "fzHAQKLb5HcW"
      }
    },
    {
      "cell_type": "code",
      "source": [
        "solution <- dbGetQuery(con, \"SELECT store_id, count(customer_id)\n",
        "                FROM customer\n",
        "                GROUP BY store_id\n",
        "                HAVING count(customer_id) BETWEEN 100 AND 300\")\n",
        "solution"
      ],
      "metadata": {
        "id": "3M7wFX98Dzyt",
        "colab": {
          "base_uri": "https://localhost:8080/",
          "height": 129
        },
        "outputId": "c9ccdaba-3a70-41fd-d76d-7cf95290afa6"
      },
      "execution_count": 63,
      "outputs": [
        {
          "output_type": "display_data",
          "data": {
            "text/html": [
              "<table class=\"dataframe\">\n",
              "<caption>A data.frame: 1 × 2</caption>\n",
              "<thead>\n",
              "\t<tr><th scope=col>store_id</th><th scope=col>count</th></tr>\n",
              "\t<tr><th scope=col>&lt;int&gt;</th><th scope=col>&lt;int64&gt;</th></tr>\n",
              "</thead>\n",
              "<tbody>\n",
              "\t<tr><td>2</td><td>273</td></tr>\n",
              "</tbody>\n",
              "</table>\n"
            ],
            "text/markdown": "\nA data.frame: 1 × 2\n\n| store_id &lt;int&gt; | count &lt;int64&gt; |\n|---|---|\n| 2 | 273 |\n\n",
            "text/latex": "A data.frame: 1 × 2\n\\begin{tabular}{ll}\n store\\_id & count\\\\\n <int> & <int64>\\\\\n\\hline\n\t 2 & 273\\\\\n\\end{tabular}\n",
            "text/plain": [
              "  store_id count\n",
              "1 2        273  "
            ]
          },
          "metadata": {}
        }
      ]
    },
    {
      "cell_type": "markdown",
      "source": [
        "**Select all customers who have watched movies for more than 200 hours**"
      ],
      "metadata": {
        "id": "y2DLiRzi5KO_"
      }
    },
    {
      "cell_type": "code",
      "source": [
        "solution <- dbGetQuery(con, \"SELECT cus.first_name, cus.last_name, SUM(f.length)\n",
        "                               FROM customer cus\n",
        "                               INNER JOIN rental r ON cus.customer_id = r.customer_id\n",
        "                               INNER JOIN inventory i ON r.inventory_id = i.inventory_id\n",
        "                               INNER JOIN film f ON i.film_id = f.film_id\n",
        "                               GROUP BY cus.first_name, cus.last_name\n",
        "                               HAVING SUM(f.length) >= 12000\")\n",
        "solution"
      ],
      "metadata": {
        "id": "JnC470rADnU1",
        "colab": {
          "base_uri": "https://localhost:8080/",
          "height": 98
        },
        "outputId": "0bbbc8e0-43ff-44bf-fa2c-6b8a7f4144de"
      },
      "execution_count": 64,
      "outputs": [
        {
          "output_type": "display_data",
          "data": {
            "text/html": [
              "<table class=\"dataframe\">\n",
              "<caption>A data.frame: 0 × 3</caption>\n",
              "<thead>\n",
              "\t<tr><th scope=col>first_name</th><th scope=col>last_name</th><th scope=col>sum</th></tr>\n",
              "\t<tr><th scope=col>&lt;chr&gt;</th><th scope=col>&lt;chr&gt;</th><th scope=col>&lt;int64&gt;</th></tr>\n",
              "</thead>\n",
              "<tbody>\n",
              "</tbody>\n",
              "</table>\n"
            ],
            "text/markdown": "\nA data.frame: 0 × 3\n\n| first_name &lt;chr&gt; | last_name &lt;chr&gt; | sum &lt;int64&gt; |\n|---|---|---|\n\n",
            "text/latex": "A data.frame: 0 × 3\n\\begin{tabular}{lll}\n first\\_name & last\\_name & sum\\\\\n <chr> & <chr> & <int64>\\\\\n\\hline\n\\end{tabular}\n",
            "text/plain": [
              "     first_name last_name sum"
            ]
          },
          "metadata": {}
        }
      ]
    },
    {
      "cell_type": "markdown",
      "source": [
        "**Calculate the average value of a movie rental.**"
      ],
      "metadata": {
        "id": "lpqe2uLB5MLu"
      }
    },
    {
      "cell_type": "code",
      "source": [
        "solution<- dbGetQuery(con, \"SELECT  f.title, AVG(pay.amount)\n",
        "                                   FROM payment pay\n",
        "                                   INNER JOIN rental r ON pay.rental_id = r.rental_id\n",
        "                                   INNER JOIN inventory i ON i.inventory_id = r.inventory_id\n",
        "                                   INNER JOIN film f ON f.film_id = i.film_id\n",
        "                                   GROUP BY f.title\")\n",
        "solution"
      ],
      "metadata": {
        "id": "wRW4ZXScDl-M",
        "colab": {
          "base_uri": "https://localhost:8080/",
          "height": 1000
        },
        "outputId": "16aa6a4c-abe2-4f35-8ebf-60bc5a5bb917"
      },
      "execution_count": 65,
      "outputs": [
        {
          "output_type": "display_data",
          "data": {
            "text/html": [
              "<table class=\"dataframe\">\n",
              "<caption>A data.frame: 958 × 2</caption>\n",
              "<thead>\n",
              "\t<tr><th scope=col>title</th><th scope=col>avg</th></tr>\n",
              "\t<tr><th scope=col>&lt;chr&gt;</th><th scope=col>&lt;dbl&gt;</th></tr>\n",
              "</thead>\n",
              "<tbody>\n",
              "\t<tr><td>Graceland Dynamite  </td><td>6.323333</td></tr>\n",
              "\t<tr><td>Opus Ice            </td><td>6.090000</td></tr>\n",
              "\t<tr><td>Braveheart Human    </td><td>3.390000</td></tr>\n",
              "\t<tr><td>Wonderful Drop      </td><td>5.865000</td></tr>\n",
              "\t<tr><td>Rush Goodfellas     </td><td>2.918571</td></tr>\n",
              "\t<tr><td>Purple Movie        </td><td>4.406667</td></tr>\n",
              "\t<tr><td>Minority Kiss       </td><td>2.324167</td></tr>\n",
              "\t<tr><td>Luke Mummy          </td><td>4.132857</td></tr>\n",
              "\t<tr><td>Fantasy Troopers    </td><td>1.704286</td></tr>\n",
              "\t<tr><td>Grinch Massage      </td><td>5.490000</td></tr>\n",
              "\t<tr><td>Gaslight Crusade    </td><td>3.927500</td></tr>\n",
              "\t<tr><td>Microcosmos Paradise</td><td>3.656667</td></tr>\n",
              "\t<tr><td>Saturn Name         </td><td>5.451538</td></tr>\n",
              "\t<tr><td>Memento Zoolander   </td><td>6.836154</td></tr>\n",
              "\t<tr><td>Sunset Racer        </td><td>1.704286</td></tr>\n",
              "\t<tr><td>Zoolander Fiction   </td><td>4.456667</td></tr>\n",
              "\t<tr><td>Carol Texas         </td><td>4.695882</td></tr>\n",
              "\t<tr><td>Arabia Dogma        </td><td>1.823333</td></tr>\n",
              "\t<tr><td>Minds Truman        </td><td>7.621579</td></tr>\n",
              "\t<tr><td>Stepmom Dream       </td><td>5.253158</td></tr>\n",
              "\t<tr><td>Baked Cleopatra     </td><td>5.123333</td></tr>\n",
              "\t<tr><td>Closer Bang         </td><td>6.365000</td></tr>\n",
              "\t<tr><td>Enough Raging       </td><td>3.240000</td></tr>\n",
              "\t<tr><td>Grosse Wonderful    </td><td>5.865000</td></tr>\n",
              "\t<tr><td>Innocent Usual      </td><td>7.374615</td></tr>\n",
              "\t<tr><td>Sleepless Monsoon   </td><td>6.107647</td></tr>\n",
              "\t<tr><td>Suit Walls          </td><td>7.095263</td></tr>\n",
              "\t<tr><td>Wizard Coldblooded  </td><td>6.056667</td></tr>\n",
              "\t<tr><td>Lonely Elephant     </td><td>5.066923</td></tr>\n",
              "\t<tr><td>Victory Academy     </td><td>1.434444</td></tr>\n",
              "\t<tr><td>⋮</td><td>⋮</td></tr>\n",
              "\t<tr><td>Full Flatliners       </td><td>3.390000</td></tr>\n",
              "\t<tr><td>Park Citizen          </td><td>8.156667</td></tr>\n",
              "\t<tr><td>Savannah Town         </td><td>2.290000</td></tr>\n",
              "\t<tr><td>Dynamite Tarzan       </td><td>2.642174</td></tr>\n",
              "\t<tr><td>Virginian Pluto       </td><td>1.910000</td></tr>\n",
              "\t<tr><td>Expecations Natural   </td><td>5.990000</td></tr>\n",
              "\t<tr><td>North Tequila         </td><td>5.767778</td></tr>\n",
              "\t<tr><td>Oleander Clue         </td><td>2.767778</td></tr>\n",
              "\t<tr><td>Anaconda Confessions  </td><td>2.878889</td></tr>\n",
              "\t<tr><td>Chicago North         </td><td>5.656667</td></tr>\n",
              "\t<tr><td>Circus Youth          </td><td>3.847143</td></tr>\n",
              "\t<tr><td>Secret Groundhog      </td><td>5.568947</td></tr>\n",
              "\t<tr><td>Murder Antitrust      </td><td>3.751905</td></tr>\n",
              "\t<tr><td>Nemo Campus           </td><td>4.275714</td></tr>\n",
              "\t<tr><td>Road Roxanne          </td><td>6.813529</td></tr>\n",
              "\t<tr><td>Beauty Grease         </td><td>5.990000</td></tr>\n",
              "\t<tr><td>Slipper Fidelity      </td><td>1.775714</td></tr>\n",
              "\t<tr><td>Right Cranes          </td><td>5.290000</td></tr>\n",
              "\t<tr><td>Intolerable Intentions</td><td>5.704286</td></tr>\n",
              "\t<tr><td>River Outlaw          </td><td>2.990526</td></tr>\n",
              "\t<tr><td>Idaho Love            </td><td>4.590000</td></tr>\n",
              "\t<tr><td>Detective Vision      </td><td>2.615000</td></tr>\n",
              "\t<tr><td>Balloon Homeward      </td><td>4.171818</td></tr>\n",
              "\t<tr><td>Christmas Moonshine   </td><td>1.411053</td></tr>\n",
              "\t<tr><td>Lover Truman          </td><td>6.101111</td></tr>\n",
              "\t<tr><td>Mockingbird Hollywood </td><td>2.444545</td></tr>\n",
              "\t<tr><td>Gathering Calendar    </td><td>1.990000</td></tr>\n",
              "\t<tr><td>Drums Dynamite        </td><td>1.913077</td></tr>\n",
              "\t<tr><td>Samurai Lion          </td><td>4.240000</td></tr>\n",
              "\t<tr><td>Pond Seattle          </td><td>3.434444</td></tr>\n",
              "</tbody>\n",
              "</table>\n"
            ],
            "text/markdown": "\nA data.frame: 958 × 2\n\n| title &lt;chr&gt; | avg &lt;dbl&gt; |\n|---|---|\n| Graceland Dynamite   | 6.323333 |\n| Opus Ice             | 6.090000 |\n| Braveheart Human     | 3.390000 |\n| Wonderful Drop       | 5.865000 |\n| Rush Goodfellas      | 2.918571 |\n| Purple Movie         | 4.406667 |\n| Minority Kiss        | 2.324167 |\n| Luke Mummy           | 4.132857 |\n| Fantasy Troopers     | 1.704286 |\n| Grinch Massage       | 5.490000 |\n| Gaslight Crusade     | 3.927500 |\n| Microcosmos Paradise | 3.656667 |\n| Saturn Name          | 5.451538 |\n| Memento Zoolander    | 6.836154 |\n| Sunset Racer         | 1.704286 |\n| Zoolander Fiction    | 4.456667 |\n| Carol Texas          | 4.695882 |\n| Arabia Dogma         | 1.823333 |\n| Minds Truman         | 7.621579 |\n| Stepmom Dream        | 5.253158 |\n| Baked Cleopatra      | 5.123333 |\n| Closer Bang          | 6.365000 |\n| Enough Raging        | 3.240000 |\n| Grosse Wonderful     | 5.865000 |\n| Innocent Usual       | 7.374615 |\n| Sleepless Monsoon    | 6.107647 |\n| Suit Walls           | 7.095263 |\n| Wizard Coldblooded   | 6.056667 |\n| Lonely Elephant      | 5.066923 |\n| Victory Academy      | 1.434444 |\n| ⋮ | ⋮ |\n| Full Flatliners        | 3.390000 |\n| Park Citizen           | 8.156667 |\n| Savannah Town          | 2.290000 |\n| Dynamite Tarzan        | 2.642174 |\n| Virginian Pluto        | 1.910000 |\n| Expecations Natural    | 5.990000 |\n| North Tequila          | 5.767778 |\n| Oleander Clue          | 2.767778 |\n| Anaconda Confessions   | 2.878889 |\n| Chicago North          | 5.656667 |\n| Circus Youth           | 3.847143 |\n| Secret Groundhog       | 5.568947 |\n| Murder Antitrust       | 3.751905 |\n| Nemo Campus            | 4.275714 |\n| Road Roxanne           | 6.813529 |\n| Beauty Grease          | 5.990000 |\n| Slipper Fidelity       | 1.775714 |\n| Right Cranes           | 5.290000 |\n| Intolerable Intentions | 5.704286 |\n| River Outlaw           | 2.990526 |\n| Idaho Love             | 4.590000 |\n| Detective Vision       | 2.615000 |\n| Balloon Homeward       | 4.171818 |\n| Christmas Moonshine    | 1.411053 |\n| Lover Truman           | 6.101111 |\n| Mockingbird Hollywood  | 2.444545 |\n| Gathering Calendar     | 1.990000 |\n| Drums Dynamite         | 1.913077 |\n| Samurai Lion           | 4.240000 |\n| Pond Seattle           | 3.434444 |\n\n",
            "text/latex": "A data.frame: 958 × 2\n\\begin{tabular}{ll}\n title & avg\\\\\n <chr> & <dbl>\\\\\n\\hline\n\t Graceland Dynamite   & 6.323333\\\\\n\t Opus Ice             & 6.090000\\\\\n\t Braveheart Human     & 3.390000\\\\\n\t Wonderful Drop       & 5.865000\\\\\n\t Rush Goodfellas      & 2.918571\\\\\n\t Purple Movie         & 4.406667\\\\\n\t Minority Kiss        & 2.324167\\\\\n\t Luke Mummy           & 4.132857\\\\\n\t Fantasy Troopers     & 1.704286\\\\\n\t Grinch Massage       & 5.490000\\\\\n\t Gaslight Crusade     & 3.927500\\\\\n\t Microcosmos Paradise & 3.656667\\\\\n\t Saturn Name          & 5.451538\\\\\n\t Memento Zoolander    & 6.836154\\\\\n\t Sunset Racer         & 1.704286\\\\\n\t Zoolander Fiction    & 4.456667\\\\\n\t Carol Texas          & 4.695882\\\\\n\t Arabia Dogma         & 1.823333\\\\\n\t Minds Truman         & 7.621579\\\\\n\t Stepmom Dream        & 5.253158\\\\\n\t Baked Cleopatra      & 5.123333\\\\\n\t Closer Bang          & 6.365000\\\\\n\t Enough Raging        & 3.240000\\\\\n\t Grosse Wonderful     & 5.865000\\\\\n\t Innocent Usual       & 7.374615\\\\\n\t Sleepless Monsoon    & 6.107647\\\\\n\t Suit Walls           & 7.095263\\\\\n\t Wizard Coldblooded   & 6.056667\\\\\n\t Lonely Elephant      & 5.066923\\\\\n\t Victory Academy      & 1.434444\\\\\n\t ⋮ & ⋮\\\\\n\t Full Flatliners        & 3.390000\\\\\n\t Park Citizen           & 8.156667\\\\\n\t Savannah Town          & 2.290000\\\\\n\t Dynamite Tarzan        & 2.642174\\\\\n\t Virginian Pluto        & 1.910000\\\\\n\t Expecations Natural    & 5.990000\\\\\n\t North Tequila          & 5.767778\\\\\n\t Oleander Clue          & 2.767778\\\\\n\t Anaconda Confessions   & 2.878889\\\\\n\t Chicago North          & 5.656667\\\\\n\t Circus Youth           & 3.847143\\\\\n\t Secret Groundhog       & 5.568947\\\\\n\t Murder Antitrust       & 3.751905\\\\\n\t Nemo Campus            & 4.275714\\\\\n\t Road Roxanne           & 6.813529\\\\\n\t Beauty Grease          & 5.990000\\\\\n\t Slipper Fidelity       & 1.775714\\\\\n\t Right Cranes           & 5.290000\\\\\n\t Intolerable Intentions & 5.704286\\\\\n\t River Outlaw           & 2.990526\\\\\n\t Idaho Love             & 4.590000\\\\\n\t Detective Vision       & 2.615000\\\\\n\t Balloon Homeward       & 4.171818\\\\\n\t Christmas Moonshine    & 1.411053\\\\\n\t Lover Truman           & 6.101111\\\\\n\t Mockingbird Hollywood  & 2.444545\\\\\n\t Gathering Calendar     & 1.990000\\\\\n\t Drums Dynamite         & 1.913077\\\\\n\t Samurai Lion           & 4.240000\\\\\n\t Pond Seattle           & 3.434444\\\\\n\\end{tabular}\n",
            "text/plain": [
              "    title                  avg     \n",
              "1   Graceland Dynamite     6.323333\n",
              "2   Opus Ice               6.090000\n",
              "3   Braveheart Human       3.390000\n",
              "4   Wonderful Drop         5.865000\n",
              "5   Rush Goodfellas        2.918571\n",
              "6   Purple Movie           4.406667\n",
              "7   Minority Kiss          2.324167\n",
              "8   Luke Mummy             4.132857\n",
              "9   Fantasy Troopers       1.704286\n",
              "10  Grinch Massage         5.490000\n",
              "11  Gaslight Crusade       3.927500\n",
              "12  Microcosmos Paradise   3.656667\n",
              "13  Saturn Name            5.451538\n",
              "14  Memento Zoolander      6.836154\n",
              "15  Sunset Racer           1.704286\n",
              "16  Zoolander Fiction      4.456667\n",
              "17  Carol Texas            4.695882\n",
              "18  Arabia Dogma           1.823333\n",
              "19  Minds Truman           7.621579\n",
              "20  Stepmom Dream          5.253158\n",
              "21  Baked Cleopatra        5.123333\n",
              "22  Closer Bang            6.365000\n",
              "23  Enough Raging          3.240000\n",
              "24  Grosse Wonderful       5.865000\n",
              "25  Innocent Usual         7.374615\n",
              "26  Sleepless Monsoon      6.107647\n",
              "27  Suit Walls             7.095263\n",
              "28  Wizard Coldblooded     6.056667\n",
              "29  Lonely Elephant        5.066923\n",
              "30  Victory Academy        1.434444\n",
              "⋮   ⋮                      ⋮       \n",
              "929 Full Flatliners        3.390000\n",
              "930 Park Citizen           8.156667\n",
              "931 Savannah Town          2.290000\n",
              "932 Dynamite Tarzan        2.642174\n",
              "933 Virginian Pluto        1.910000\n",
              "934 Expecations Natural    5.990000\n",
              "935 North Tequila          5.767778\n",
              "936 Oleander Clue          2.767778\n",
              "937 Anaconda Confessions   2.878889\n",
              "938 Chicago North          5.656667\n",
              "939 Circus Youth           3.847143\n",
              "940 Secret Groundhog       5.568947\n",
              "941 Murder Antitrust       3.751905\n",
              "942 Nemo Campus            4.275714\n",
              "943 Road Roxanne           6.813529\n",
              "944 Beauty Grease          5.990000\n",
              "945 Slipper Fidelity       1.775714\n",
              "946 Right Cranes           5.290000\n",
              "947 Intolerable Intentions 5.704286\n",
              "948 River Outlaw           2.990526\n",
              "949 Idaho Love             4.590000\n",
              "950 Detective Vision       2.615000\n",
              "951 Balloon Homeward       4.171818\n",
              "952 Christmas Moonshine    1.411053\n",
              "953 Lover Truman           6.101111\n",
              "954 Mockingbird Hollywood  2.444545\n",
              "955 Gathering Calendar     1.990000\n",
              "956 Drums Dynamite         1.913077\n",
              "957 Samurai Lion           4.240000\n",
              "958 Pond Seattle           3.434444"
            ]
          },
          "metadata": {}
        }
      ]
    },
    {
      "cell_type": "markdown",
      "source": [
        "**Calculate the average value of movie length in all categories.**"
      ],
      "metadata": {
        "id": "4t8YVWLi5OGX"
      }
    },
    {
      "cell_type": "code",
      "source": [
        "solution <- dbGetQuery(con, \"SELECT cat.name, AVG(f.length)\n",
        "                   FROM category cat\n",
        "                   INNER JOIN  film_category fc ON cat.category_id = fc.category_id\n",
        "                   INNER JOIN film f ON fc.film_id = f.film_id\n",
        "                   GROUP BY cat.name\")\n",
        "solution"
      ],
      "metadata": {
        "id": "pVR0iVGYDkbk",
        "colab": {
          "base_uri": "https://localhost:8080/",
          "height": 600
        },
        "outputId": "b996597e-2932-4f26-a670-d91c5e3922e4"
      },
      "execution_count": 66,
      "outputs": [
        {
          "output_type": "display_data",
          "data": {
            "text/html": [
              "<table class=\"dataframe\">\n",
              "<caption>A data.frame: 16 × 2</caption>\n",
              "<thead>\n",
              "\t<tr><th scope=col>name</th><th scope=col>avg</th></tr>\n",
              "\t<tr><th scope=col>&lt;chr&gt;</th><th scope=col>&lt;dbl&gt;</th></tr>\n",
              "</thead>\n",
              "<tbody>\n",
              "\t<tr><td>Family     </td><td>114.7826</td></tr>\n",
              "\t<tr><td>Games      </td><td>127.8361</td></tr>\n",
              "\t<tr><td>Animation  </td><td>111.0152</td></tr>\n",
              "\t<tr><td>Classics   </td><td>111.6667</td></tr>\n",
              "\t<tr><td>Documentary</td><td>108.7500</td></tr>\n",
              "\t<tr><td>New        </td><td>111.1270</td></tr>\n",
              "\t<tr><td>Sports     </td><td>128.2027</td></tr>\n",
              "\t<tr><td>Children   </td><td>109.8000</td></tr>\n",
              "\t<tr><td>Music      </td><td>113.6471</td></tr>\n",
              "\t<tr><td>Travel     </td><td>113.3158</td></tr>\n",
              "\t<tr><td>Foreign    </td><td>121.6986</td></tr>\n",
              "\t<tr><td>Drama      </td><td>120.8387</td></tr>\n",
              "\t<tr><td>Horror     </td><td>112.4821</td></tr>\n",
              "\t<tr><td>Action     </td><td>111.6094</td></tr>\n",
              "\t<tr><td>Sci-Fi     </td><td>108.1967</td></tr>\n",
              "\t<tr><td>Comedy     </td><td>115.8276</td></tr>\n",
              "</tbody>\n",
              "</table>\n"
            ],
            "text/markdown": "\nA data.frame: 16 × 2\n\n| name &lt;chr&gt; | avg &lt;dbl&gt; |\n|---|---|\n| Family      | 114.7826 |\n| Games       | 127.8361 |\n| Animation   | 111.0152 |\n| Classics    | 111.6667 |\n| Documentary | 108.7500 |\n| New         | 111.1270 |\n| Sports      | 128.2027 |\n| Children    | 109.8000 |\n| Music       | 113.6471 |\n| Travel      | 113.3158 |\n| Foreign     | 121.6986 |\n| Drama       | 120.8387 |\n| Horror      | 112.4821 |\n| Action      | 111.6094 |\n| Sci-Fi      | 108.1967 |\n| Comedy      | 115.8276 |\n\n",
            "text/latex": "A data.frame: 16 × 2\n\\begin{tabular}{ll}\n name & avg\\\\\n <chr> & <dbl>\\\\\n\\hline\n\t Family      & 114.7826\\\\\n\t Games       & 127.8361\\\\\n\t Animation   & 111.0152\\\\\n\t Classics    & 111.6667\\\\\n\t Documentary & 108.7500\\\\\n\t New         & 111.1270\\\\\n\t Sports      & 128.2027\\\\\n\t Children    & 109.8000\\\\\n\t Music       & 113.6471\\\\\n\t Travel      & 113.3158\\\\\n\t Foreign     & 121.6986\\\\\n\t Drama       & 120.8387\\\\\n\t Horror      & 112.4821\\\\\n\t Action      & 111.6094\\\\\n\t Sci-Fi      & 108.1967\\\\\n\t Comedy      & 115.8276\\\\\n\\end{tabular}\n",
            "text/plain": [
              "   name        avg     \n",
              "1  Family      114.7826\n",
              "2  Games       127.8361\n",
              "3  Animation   111.0152\n",
              "4  Classics    111.6667\n",
              "5  Documentary 108.7500\n",
              "6  New         111.1270\n",
              "7  Sports      128.2027\n",
              "8  Children    109.8000\n",
              "9  Music       113.6471\n",
              "10 Travel      113.3158\n",
              "11 Foreign     121.6986\n",
              "12 Drama       120.8387\n",
              "13 Horror      112.4821\n",
              "14 Action      111.6094\n",
              "15 Sci-Fi      108.1967\n",
              "16 Comedy      115.8276"
            ]
          },
          "metadata": {}
        }
      ]
    },
    {
      "cell_type": "markdown",
      "source": [
        "**Find the longest movie titles in all categories.**"
      ],
      "metadata": {
        "id": "1JbryP9h5QFH"
      }
    },
    {
      "cell_type": "code",
      "source": [
        "solution<- dbGetQuery(con, \"SELECT cat.name, f.title, f.length\n",
        "                   FROM category cat\n",
        "                   INNER JOIN  film_category fc ON cat.category_id = fc.category_id\n",
        "                   INNER JOIN film f ON fc.film_id = f.film_id\n",
        "                    WHERE f.length IN (SELECT MAX(f.length)\n",
        "                                       FROM category cat\n",
        "                                       INNER JOIN  film_category fc ON cat.category_id = fc.category_id\n",
        "                                       INNER JOIN film f ON fc.film_id = f.film_id\n",
        "                                        GROUP BY cat.name)\n",
        "                    ORDER BY cat.name\")\n",
        "solution"
      ],
      "metadata": {
        "id": "0lsJYSJsDjb8",
        "colab": {
          "base_uri": "https://localhost:8080/",
          "height": 1000
        },
        "outputId": "9e909b4a-9f5c-4c5b-c2fc-479167a0633c"
      },
      "execution_count": 67,
      "outputs": [
        {
          "output_type": "display_data",
          "data": {
            "text/html": [
              "<table class=\"dataframe\">\n",
              "<caption>A data.frame: 43 × 3</caption>\n",
              "<thead>\n",
              "\t<tr><th scope=col>name</th><th scope=col>title</th><th scope=col>length</th></tr>\n",
              "\t<tr><th scope=col>&lt;chr&gt;</th><th scope=col>&lt;chr&gt;</th><th scope=col>&lt;int&gt;</th></tr>\n",
              "</thead>\n",
              "<tbody>\n",
              "\t<tr><td>Action     </td><td>Darn Forrester    </td><td>185</td></tr>\n",
              "\t<tr><td>Action     </td><td>Worst Banger      </td><td>185</td></tr>\n",
              "\t<tr><td>Animation  </td><td>Sons Interview    </td><td>184</td></tr>\n",
              "\t<tr><td>Animation  </td><td>Lawless Vision    </td><td>181</td></tr>\n",
              "\t<tr><td>Animation  </td><td>Gangs Pride       </td><td>185</td></tr>\n",
              "\t<tr><td>Animation  </td><td>Theory Mermaid    </td><td>184</td></tr>\n",
              "\t<tr><td>Animation  </td><td>Pond Seattle      </td><td>185</td></tr>\n",
              "\t<tr><td>Children   </td><td>Fury Murder       </td><td>178</td></tr>\n",
              "\t<tr><td>Children   </td><td>Wrong Behavior    </td><td>178</td></tr>\n",
              "\t<tr><td>Classics   </td><td>Conspiracy Spirit </td><td>184</td></tr>\n",
              "\t<tr><td>Comedy     </td><td>Control Anthem    </td><td>185</td></tr>\n",
              "\t<tr><td>Documentary</td><td>Wife Turn         </td><td>183</td></tr>\n",
              "\t<tr><td>Documentary</td><td>Young Language    </td><td>183</td></tr>\n",
              "\t<tr><td>Drama      </td><td>Wardrobe Phantom  </td><td>178</td></tr>\n",
              "\t<tr><td>Drama      </td><td>Jacket Frisco     </td><td>181</td></tr>\n",
              "\t<tr><td>Family     </td><td>King Evolution    </td><td>184</td></tr>\n",
              "\t<tr><td>Foreign    </td><td>Innocent Usual    </td><td>178</td></tr>\n",
              "\t<tr><td>Foreign    </td><td>Catch Amistad     </td><td>183</td></tr>\n",
              "\t<tr><td>Foreign    </td><td>Crystal Breaking  </td><td>184</td></tr>\n",
              "\t<tr><td>Foreign    </td><td>Hotel Happiness   </td><td>181</td></tr>\n",
              "\t<tr><td>Foreign    </td><td>Intrigue Worst    </td><td>181</td></tr>\n",
              "\t<tr><td>Foreign    </td><td>Madness Attacks   </td><td>178</td></tr>\n",
              "\t<tr><td>Foreign    </td><td>Rocketeer Mother  </td><td>178</td></tr>\n",
              "\t<tr><td>Foreign    </td><td>Sorority Queen    </td><td>184</td></tr>\n",
              "\t<tr><td>Games      </td><td>Moonwalker Fool   </td><td>184</td></tr>\n",
              "\t<tr><td>Games      </td><td>Name Detective    </td><td>178</td></tr>\n",
              "\t<tr><td>Games      </td><td>Chicago North     </td><td>185</td></tr>\n",
              "\t<tr><td>Games      </td><td>Haunting Pianist  </td><td>181</td></tr>\n",
              "\t<tr><td>Horror     </td><td>Love Suicides     </td><td>181</td></tr>\n",
              "\t<tr><td>Horror     </td><td>Analyze Hoosiers  </td><td>181</td></tr>\n",
              "\t<tr><td>Music      </td><td>Home Pity         </td><td>185</td></tr>\n",
              "\t<tr><td>Music      </td><td>Scalawag Duck     </td><td>183</td></tr>\n",
              "\t<tr><td>New        </td><td>Frontier Cabin    </td><td>183</td></tr>\n",
              "\t<tr><td>New        </td><td>Runaway Tenenbaums</td><td>181</td></tr>\n",
              "\t<tr><td>New        </td><td>Wild Apollo       </td><td>181</td></tr>\n",
              "\t<tr><td>Sci-Fi     </td><td>Express Lonely    </td><td>178</td></tr>\n",
              "\t<tr><td>Sci-Fi     </td><td>Soldiers Evolution</td><td>185</td></tr>\n",
              "\t<tr><td>Sports     </td><td>Drop Waterfront   </td><td>178</td></tr>\n",
              "\t<tr><td>Sports     </td><td>Smoochy Control   </td><td>184</td></tr>\n",
              "\t<tr><td>Sports     </td><td>Image Princess    </td><td>178</td></tr>\n",
              "\t<tr><td>Sports     </td><td>Star Operation    </td><td>181</td></tr>\n",
              "\t<tr><td>Travel     </td><td>Muscle Bright     </td><td>185</td></tr>\n",
              "\t<tr><td>Travel     </td><td>Sweet Brotherhood </td><td>185</td></tr>\n",
              "</tbody>\n",
              "</table>\n"
            ],
            "text/markdown": "\nA data.frame: 43 × 3\n\n| name &lt;chr&gt; | title &lt;chr&gt; | length &lt;int&gt; |\n|---|---|---|\n| Action      | Darn Forrester     | 185 |\n| Action      | Worst Banger       | 185 |\n| Animation   | Sons Interview     | 184 |\n| Animation   | Lawless Vision     | 181 |\n| Animation   | Gangs Pride        | 185 |\n| Animation   | Theory Mermaid     | 184 |\n| Animation   | Pond Seattle       | 185 |\n| Children    | Fury Murder        | 178 |\n| Children    | Wrong Behavior     | 178 |\n| Classics    | Conspiracy Spirit  | 184 |\n| Comedy      | Control Anthem     | 185 |\n| Documentary | Wife Turn          | 183 |\n| Documentary | Young Language     | 183 |\n| Drama       | Wardrobe Phantom   | 178 |\n| Drama       | Jacket Frisco      | 181 |\n| Family      | King Evolution     | 184 |\n| Foreign     | Innocent Usual     | 178 |\n| Foreign     | Catch Amistad      | 183 |\n| Foreign     | Crystal Breaking   | 184 |\n| Foreign     | Hotel Happiness    | 181 |\n| Foreign     | Intrigue Worst     | 181 |\n| Foreign     | Madness Attacks    | 178 |\n| Foreign     | Rocketeer Mother   | 178 |\n| Foreign     | Sorority Queen     | 184 |\n| Games       | Moonwalker Fool    | 184 |\n| Games       | Name Detective     | 178 |\n| Games       | Chicago North      | 185 |\n| Games       | Haunting Pianist   | 181 |\n| Horror      | Love Suicides      | 181 |\n| Horror      | Analyze Hoosiers   | 181 |\n| Music       | Home Pity          | 185 |\n| Music       | Scalawag Duck      | 183 |\n| New         | Frontier Cabin     | 183 |\n| New         | Runaway Tenenbaums | 181 |\n| New         | Wild Apollo        | 181 |\n| Sci-Fi      | Express Lonely     | 178 |\n| Sci-Fi      | Soldiers Evolution | 185 |\n| Sports      | Drop Waterfront    | 178 |\n| Sports      | Smoochy Control    | 184 |\n| Sports      | Image Princess     | 178 |\n| Sports      | Star Operation     | 181 |\n| Travel      | Muscle Bright      | 185 |\n| Travel      | Sweet Brotherhood  | 185 |\n\n",
            "text/latex": "A data.frame: 43 × 3\n\\begin{tabular}{lll}\n name & title & length\\\\\n <chr> & <chr> & <int>\\\\\n\\hline\n\t Action      & Darn Forrester     & 185\\\\\n\t Action      & Worst Banger       & 185\\\\\n\t Animation   & Sons Interview     & 184\\\\\n\t Animation   & Lawless Vision     & 181\\\\\n\t Animation   & Gangs Pride        & 185\\\\\n\t Animation   & Theory Mermaid     & 184\\\\\n\t Animation   & Pond Seattle       & 185\\\\\n\t Children    & Fury Murder        & 178\\\\\n\t Children    & Wrong Behavior     & 178\\\\\n\t Classics    & Conspiracy Spirit  & 184\\\\\n\t Comedy      & Control Anthem     & 185\\\\\n\t Documentary & Wife Turn          & 183\\\\\n\t Documentary & Young Language     & 183\\\\\n\t Drama       & Wardrobe Phantom   & 178\\\\\n\t Drama       & Jacket Frisco      & 181\\\\\n\t Family      & King Evolution     & 184\\\\\n\t Foreign     & Innocent Usual     & 178\\\\\n\t Foreign     & Catch Amistad      & 183\\\\\n\t Foreign     & Crystal Breaking   & 184\\\\\n\t Foreign     & Hotel Happiness    & 181\\\\\n\t Foreign     & Intrigue Worst     & 181\\\\\n\t Foreign     & Madness Attacks    & 178\\\\\n\t Foreign     & Rocketeer Mother   & 178\\\\\n\t Foreign     & Sorority Queen     & 184\\\\\n\t Games       & Moonwalker Fool    & 184\\\\\n\t Games       & Name Detective     & 178\\\\\n\t Games       & Chicago North      & 185\\\\\n\t Games       & Haunting Pianist   & 181\\\\\n\t Horror      & Love Suicides      & 181\\\\\n\t Horror      & Analyze Hoosiers   & 181\\\\\n\t Music       & Home Pity          & 185\\\\\n\t Music       & Scalawag Duck      & 183\\\\\n\t New         & Frontier Cabin     & 183\\\\\n\t New         & Runaway Tenenbaums & 181\\\\\n\t New         & Wild Apollo        & 181\\\\\n\t Sci-Fi      & Express Lonely     & 178\\\\\n\t Sci-Fi      & Soldiers Evolution & 185\\\\\n\t Sports      & Drop Waterfront    & 178\\\\\n\t Sports      & Smoochy Control    & 184\\\\\n\t Sports      & Image Princess     & 178\\\\\n\t Sports      & Star Operation     & 181\\\\\n\t Travel      & Muscle Bright      & 185\\\\\n\t Travel      & Sweet Brotherhood  & 185\\\\\n\\end{tabular}\n",
            "text/plain": [
              "   name        title              length\n",
              "1  Action      Darn Forrester     185   \n",
              "2  Action      Worst Banger       185   \n",
              "3  Animation   Sons Interview     184   \n",
              "4  Animation   Lawless Vision     181   \n",
              "5  Animation   Gangs Pride        185   \n",
              "6  Animation   Theory Mermaid     184   \n",
              "7  Animation   Pond Seattle       185   \n",
              "8  Children    Fury Murder        178   \n",
              "9  Children    Wrong Behavior     178   \n",
              "10 Classics    Conspiracy Spirit  184   \n",
              "11 Comedy      Control Anthem     185   \n",
              "12 Documentary Wife Turn          183   \n",
              "13 Documentary Young Language     183   \n",
              "14 Drama       Wardrobe Phantom   178   \n",
              "15 Drama       Jacket Frisco      181   \n",
              "16 Family      King Evolution     184   \n",
              "17 Foreign     Innocent Usual     178   \n",
              "18 Foreign     Catch Amistad      183   \n",
              "19 Foreign     Crystal Breaking   184   \n",
              "20 Foreign     Hotel Happiness    181   \n",
              "21 Foreign     Intrigue Worst     181   \n",
              "22 Foreign     Madness Attacks    178   \n",
              "23 Foreign     Rocketeer Mother   178   \n",
              "24 Foreign     Sorority Queen     184   \n",
              "25 Games       Moonwalker Fool    184   \n",
              "26 Games       Name Detective     178   \n",
              "27 Games       Chicago North      185   \n",
              "28 Games       Haunting Pianist   181   \n",
              "29 Horror      Love Suicides      181   \n",
              "30 Horror      Analyze Hoosiers   181   \n",
              "31 Music       Home Pity          185   \n",
              "32 Music       Scalawag Duck      183   \n",
              "33 New         Frontier Cabin     183   \n",
              "34 New         Runaway Tenenbaums 181   \n",
              "35 New         Wild Apollo        181   \n",
              "36 Sci-Fi      Express Lonely     178   \n",
              "37 Sci-Fi      Soldiers Evolution 185   \n",
              "38 Sports      Drop Waterfront    178   \n",
              "39 Sports      Smoochy Control    184   \n",
              "40 Sports      Image Princess     178   \n",
              "41 Sports      Star Operation     181   \n",
              "42 Travel      Muscle Bright      185   \n",
              "43 Travel      Sweet Brotherhood  185   "
            ]
          },
          "metadata": {}
        }
      ]
    },
    {
      "cell_type": "markdown",
      "source": [
        "**Find the longest movie in all categories. Compare the result with point 10.**"
      ],
      "metadata": {
        "id": "ZiH9RJ1o5Sce"
      }
    },
    {
      "cell_type": "code",
      "source": [
        "solution <- dbGetQuery(con, \"SELECT title, length\n",
        "                   from film\n",
        "                   WHERE length = (SELECT MAX(length)\n",
        "                                    FROM film)\")\n",
        "solution"
      ],
      "metadata": {
        "id": "T4cTSPr1Dh8E",
        "colab": {
          "base_uri": "https://localhost:8080/",
          "height": 411
        },
        "outputId": "30ac4b9a-79cb-484b-ec7f-19e97737b300"
      },
      "execution_count": 68,
      "outputs": [
        {
          "output_type": "display_data",
          "data": {
            "text/html": [
              "<table class=\"dataframe\">\n",
              "<caption>A data.frame: 10 × 2</caption>\n",
              "<thead>\n",
              "\t<tr><th scope=col>title</th><th scope=col>length</th></tr>\n",
              "\t<tr><th scope=col>&lt;chr&gt;</th><th scope=col>&lt;int&gt;</th></tr>\n",
              "</thead>\n",
              "<tbody>\n",
              "\t<tr><td>Chicago North     </td><td>185</td></tr>\n",
              "\t<tr><td>Control Anthem    </td><td>185</td></tr>\n",
              "\t<tr><td>Darn Forrester    </td><td>185</td></tr>\n",
              "\t<tr><td>Gangs Pride       </td><td>185</td></tr>\n",
              "\t<tr><td>Home Pity         </td><td>185</td></tr>\n",
              "\t<tr><td>Muscle Bright     </td><td>185</td></tr>\n",
              "\t<tr><td>Pond Seattle      </td><td>185</td></tr>\n",
              "\t<tr><td>Soldiers Evolution</td><td>185</td></tr>\n",
              "\t<tr><td>Sweet Brotherhood </td><td>185</td></tr>\n",
              "\t<tr><td>Worst Banger      </td><td>185</td></tr>\n",
              "</tbody>\n",
              "</table>\n"
            ],
            "text/markdown": "\nA data.frame: 10 × 2\n\n| title &lt;chr&gt; | length &lt;int&gt; |\n|---|---|\n| Chicago North      | 185 |\n| Control Anthem     | 185 |\n| Darn Forrester     | 185 |\n| Gangs Pride        | 185 |\n| Home Pity          | 185 |\n| Muscle Bright      | 185 |\n| Pond Seattle       | 185 |\n| Soldiers Evolution | 185 |\n| Sweet Brotherhood  | 185 |\n| Worst Banger       | 185 |\n\n",
            "text/latex": "A data.frame: 10 × 2\n\\begin{tabular}{ll}\n title & length\\\\\n <chr> & <int>\\\\\n\\hline\n\t Chicago North      & 185\\\\\n\t Control Anthem     & 185\\\\\n\t Darn Forrester     & 185\\\\\n\t Gangs Pride        & 185\\\\\n\t Home Pity          & 185\\\\\n\t Muscle Bright      & 185\\\\\n\t Pond Seattle       & 185\\\\\n\t Soldiers Evolution & 185\\\\\n\t Sweet Brotherhood  & 185\\\\\n\t Worst Banger       & 185\\\\\n\\end{tabular}\n",
            "text/plain": [
              "   title              length\n",
              "1  Chicago North      185   \n",
              "2  Control Anthem     185   \n",
              "3  Darn Forrester     185   \n",
              "4  Gangs Pride        185   \n",
              "5  Home Pity          185   \n",
              "6  Muscle Bright      185   \n",
              "7  Pond Seattle       185   \n",
              "8  Soldiers Evolution 185   \n",
              "9  Sweet Brotherhood  185   \n",
              "10 Worst Banger       185   "
            ]
          },
          "metadata": {}
        }
      ]
    }
  ]
}