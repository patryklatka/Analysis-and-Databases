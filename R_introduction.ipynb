{
  "nbformat": 4,
  "nbformat_minor": 0,
  "metadata": {
    "colab": {
      "provenance": [],
      "authorship_tag": "ABX9TyNRzq+K3NcSP/5bN53Gl6Yn",
      "include_colab_link": true
    },
    "kernelspec": {
      "name": "ir",
      "display_name": "R"
    },
    "language_info": {
      "name": "R"
    }
  },
  "cells": [
    {
      "cell_type": "markdown",
      "metadata": {
        "id": "view-in-github",
        "colab_type": "text"
      },
      "source": [
        "<a href=\"https://colab.research.google.com/github/patryklatka/Analysis-and-Databases/blob/main/R_introduction.ipynb\" target=\"_parent\"><img src=\"https://colab.research.google.com/assets/colab-badge.svg\" alt=\"Open In Colab\"/></a>"
      ]
    },
    {
      "cell_type": "markdown",
      "source": [
        "#In this exercise, I learned the basics of the R language, such as data types, vectors, conditional expression, for loop, data frame, file loading, and data visualization using the ggplot2 package.\n",
        "\n",
        "Above each task I rewrote its content.\n",
        "\n",
        "\n",
        "**Exercise 1: Create vectors:**.\n",
        "\n",
        "Create a vector of the following values: `5, 10, 15, 20, 25`\n",
        "\n",
        "Perform the following operations:\n",
        "- Select values greater than 15\n",
        "- Count the average of the vector\n",
        "- Count the sum of the first three elements\n"
      ],
      "metadata": {
        "id": "emZ51UYlck45"
      }
    },
    {
      "cell_type": "code",
      "source": [
        "wektor <- c(5, 10, 15, 20, 25)\n",
        "wektor15 <- wektor[wektor > 15]\n",
        "mean <- mean(wektor)\n",
        "sum3 <- sum(wektor[1:3])"
      ],
      "metadata": {
        "id": "QToiW7XitCgi"
      },
      "execution_count": 2,
      "outputs": []
    },
    {
      "cell_type": "markdown",
      "source": [
        "\n",
        "**Exercise 2: Conditional instructions:**.\n",
        "You have a list of exam results. Write R code to check whether each score is pass (greater than or equal to 60) or fail (less than 60). Output \"Pass\" or \"Fail\" as appropriate.\n"
      ],
      "metadata": {
        "id": "c2jykLjptGs5"
      }
    },
    {
      "cell_type": "code",
      "source": [
        "wyniki <- c(75, 48, 90, 60, 30)\n",
        "\n",
        "for (wynik in wyniki) {\n",
        "  if (wynik >=  60) {\n",
        "    cat('Zaliczony', '\\n')\n",
        "  } else {\n",
        "    cat('Niezaliczony', '\\n')\n",
        "  }\n",
        "}\n"
      ],
      "metadata": {
        "id": "mFI7j6Rztx34",
        "colab": {
          "base_uri": "https://localhost:8080/"
        },
        "outputId": "5be48ce1-1e1e-4f42-966c-d4fb64412e38"
      },
      "execution_count": 3,
      "outputs": [
        {
          "output_type": "stream",
          "name": "stdout",
          "text": [
            "Zaliczony \n",
            "Niezaliczony \n",
            "Zaliczony \n",
            "Zaliczony \n",
            "Niezaliczony \n"
          ]
        }
      ]
    },
    {
      "cell_type": "markdown",
      "source": [
        "\n",
        "**Exercise 3: Creating and manipulating data frames**.\n",
        "\n",
        "Using the dataset:\n",
        "\n",
        "| Imię  | Wiek  | Punkty |\n",
        "| :---: | :---: | :----: |\n",
        "|  Jan  |  25   |   85   |\n",
        "|  Ola  |  30   |   92   |\n",
        "|  Ela  |  28   |   78   |\n",
        "\n",
        "\n",
        "Create a data frame from the data in this table\n",
        "- add a column \"Grade\" calculated according to the AGH scale\n",
        "- filter the data to those with age under 30.\n"
      ],
      "metadata": {
        "id": "QAH1RnNIt0Eh"
      }
    },
    {
      "cell_type": "code",
      "source": [
        "df <- data.frame(\n",
        "  Imię = c('Jan', 'Ola', 'Ela'),\n",
        "  Wiek = c(25, 30, 28),\n",
        "  Punkty = c(85, 92, 78)\n",
        ")\n",
        "j = 1\n",
        "Ocena = c(0,0,0)\n",
        "for (i in df[['Punkty']]){\n",
        "  if (i >= 50 & i < 80){\n",
        "  Ocena[j] <- 3\n",
        "  }\n",
        "  else if\n",
        "  ( i >= 80 & i < 90){\n",
        "  Ocena[j] <- 4\n",
        "  }\n",
        "  else if\n",
        "  ( i >= 90 & i < 100){\n",
        "  Ocena[j] <- 5\n",
        "  }\n",
        "  else{\n",
        "    Ocena[j] <- 2\n",
        "  }\n",
        "  j = j + 1\n",
        "}\n",
        "df['Ocena'] <- Ocena\n",
        "filter_df = df[df['Wiek'] < 30, ]"
      ],
      "metadata": {
        "id": "CRXFKoqLt3NY"
      },
      "execution_count": 4,
      "outputs": []
    },
    {
      "cell_type": "markdown",
      "source": [
        "\n",
        "**Exercise 4: Data Visualization**.\n",
        "\n",
        "Using the average credit score data:\n",
        "\n",
        "\n",
        "|       Przedmiot       | Średnia | Rocznik |\n",
        "| :-------------------: | :-----: | :-----: |\n",
        "| Analiza i Bazy Danych |   71    |  2022   |\n",
        "|   Metody numeryczne   |   67    |  2022   |\n",
        "|  Eksploracja danych   |   89    |  2022   |\n",
        "\n",
        "Prepare a bar chart for the year 2022. The chart is to have a title and appropriately labeled axes.\n"
      ],
      "metadata": {
        "id": "Kek3DMxZt4dA"
      }
    },
    {
      "cell_type": "code",
      "source": [
        "sredni_wynik <- data.frame(\n",
        "  Przedmiot <- c('Analiza i Bazy Danych', 'Metody Numeryczne', 'Eksploracja danych'),\n",
        "  Srednia <- c(71, 67, 89),\n",
        "  Rocznik <- c(2022, 2022, 2022)\n",
        ")\n",
        "\n",
        "#install.packages('ggplot2')\n",
        "library(ggplot2)\n",
        "\n",
        "wykres <- ggplot(sredni_wynik, aes(x = Przedmiot, y = Srednia)) +\n",
        "  labs(title = 'Średni wynik rocznika 2022',\n",
        "       x = 'Nazwa przedmiotu',\n",
        "       y = 'Średnia') +\n",
        "  geom_bar(stat = \"identity\", fill = \"skyblue\")\n",
        "\n",
        "print(wykres)\n",
        "\n",
        "\n",
        "#zadanie domowe\n",
        "wyniki_grupa_A_Mat <- c(60, 65, 75, 68, 62)\n",
        "wyniki_grupa_B_Mat <- c(78, 80, 85, 92, 88)\n",
        "\n",
        "wyniki_grupa_A_Hist <- c(80, 65, 75, 68, 72)\n",
        "wyniki_grupa_B_Hist <- c(78, 80, 85, 92, 88)\n",
        "\n",
        "sredni_wynik2 <- data.frame(\n",
        "srednia2 <- c(mean(wyniki_grupa_A_Mat),mean(wyniki_grupa_B_Mat)),\n",
        "grupa2 <- c('grupa a', 'grupa b')\n",
        ")\n",
        "\n",
        "wykres <- ggplot(sredni_wynik2, aes(x = grupa2, y = srednia2)) +\n",
        "  geom_bar(stat = \"identity\", fill = \"skyblue\") +\n",
        "  labs(title = 'Średni wynik grup z matematyki',\n",
        "       x = 'Nazwa grupy',\n",
        "       y = 'średnia')\n",
        "print(wykres)"
      ],
      "metadata": {
        "id": "SX_X2zMpt6Bg",
        "colab": {
          "base_uri": "https://localhost:8080/",
          "height": 857
        },
        "outputId": "e19932c1-7069-488d-de04-592d267b6fc9"
      },
      "execution_count": 5,
      "outputs": [
        {
          "output_type": "display_data",
          "data": {
            "text/plain": [
              "plot without title"
            ],
            "image/png": "[encoded data removed]"
          },
          "metadata": {
            "image/png": {
              "width": 420,
              "height": 420
            }
          }
        },
        {
          "output_type": "display_data",
          "data": {
            "text/plain": [
              "plot without title"
            ],
            "image/png": "[encoded data removed]"
          },
          "metadata": {
            "image/png": {
              "width": 420,
              "height": 420
            }
          }
        }
      ]
    }
  ]
}