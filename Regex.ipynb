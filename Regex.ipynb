{
  "nbformat": 4,
  "nbformat_minor": 0,
  "metadata": {
    "colab": {
      "provenance": [],
      "authorship_tag": "ABX9TyOhvhCo3sxrqe1KBdNdLyWE",
      "include_colab_link": true
    },
    "kernelspec": {
      "name": "ir",
      "display_name": "R"
    },
    "language_info": {
      "name": "R"
    }
  },
  "cells": [
    {
      "cell_type": "markdown",
      "metadata": {
        "id": "view-in-github",
        "colab_type": "text"
      },
      "source": [
        "<a href=\"https://colab.research.google.com/github/patryklatka/Analysis-and-Databases/blob/main/Regex.ipynb\" target=\"_parent\"><img src=\"https://colab.research.google.com/assets/colab-badge.svg\" alt=\"Open In Colab\"/></a>"
      ]
    },
    {
      "cell_type": "markdown",
      "source": [
        "###In this exercise, I learned about the basic use of regular expressions and POSIX syntax.###"
      ],
      "metadata": {
        "id": "pPdeSqeWK6Wy"
      }
    },
    {
      "cell_type": "code",
      "execution_count": 9,
      "metadata": {
        "id": "-7mHozxJELcp",
        "colab": {
          "base_uri": "https://localhost:8080/"
        },
        "outputId": "e738c768-e706-4553-e0d1-22bdc87df5ac"
      },
      "outputs": [
        {
          "output_type": "stream",
          "name": "stderr",
          "text": [
            "Installing package into ‘/usr/local/lib/R/site-library’\n",
            "(as ‘lib’ is unspecified)\n",
            "\n"
          ]
        }
      ],
      "source": [
        "dsn_database = \"wbauer_adb_2023\"   # Specify the name of  Database\n",
        "dsn_hostname = \"pgsql-196447.vipserv.org\"  # Specify host name\n",
        "dsn_port = \"5432\"                # Specify your port number.\n",
        "dsn_uid = \"wbauer_adb\"         # Specify your username.\n",
        "dsn_pwd = \"adb2020\"        # Specify your password.\n",
        "\n",
        "install.packages(\"RPostgres\")\n",
        "library(DBI)\n",
        "library(RPostgres)\n",
        "library(testthat)\n",
        "\n",
        "con <- dbConnect(Postgres(), dbname = dsn_database, host=dsn_hostname, port=dsn_port, user=dsn_uid, password=dsn_pwd)"
      ]
    },
    {
      "cell_type": "code",
      "source": [
        "film_in_category <- function(category)\n",
        "{\n",
        "    # Function that returns the result of a database query for the movie title, language, and category for the given:\n",
        "    # - id: if categry is integer\n",
        "    # - name: if category is a character, exactly like the given value\n",
        "    # Example of the resulting table:\n",
        "    # | |title |languge |category|\n",
        "    # |0 |Amadeus Holy |English |Action|\n",
        "    #\n",
        "    # The resulting table is to be sorted by as many movies and language.\n",
        "    #\n",
        "    # If the input conditions are not met then the function should return NULL.\n",
        "    #\n",
        "    # Parameters:\n",
        "    # category (integer,character): the value of the category by id (if integer type) or name (if character type) for which we are executing the query.\n",
        "    #\n",
        "    # Returns:\n",
        "    # DataFrame: the DataFrame containing the results of the query.\n",
        "\n",
        "    if(is.integer(category)){\n",
        "        film_in_category <- dbGetQuery(con, paste(\"SELECT film.title title, language.name as languge, category.name as category\n",
        "                        FROM film_category\n",
        "                        LEFT JOIN film ON film_category.film_id = film.film_id\n",
        "                        LEFT JOIN language ON film.language_id = language.language_id\n",
        "                        LEFT JOIN category ON category.category_id = film_category.category_id\n",
        "                        WHERE film_category.category_id =\", category,\n",
        "                                                  \"ORDER BY film.title , language.name  \", sep=\"\"))\n",
        "\n",
        "        return(film_in_category)\n",
        "    }\n",
        "\n",
        "    if(is.character(category)){\n",
        "        film_in_category <- dbGetQuery(con, paste(\"SELECT film.title title, language.name as languge, category.name as category\n",
        "                        FROM film_category\n",
        "                        LEFT JOIN film ON film_category.film_id = film.film_id\n",
        "                        LEFT JOIN language ON film.language_id = language.language_id\n",
        "                        LEFT JOIN category ON category.category_id = film_category.category_id\n",
        "                        WHERE category.name = '\", category,\"'\",\n",
        "                        \"ORDER BY film.title , language.name  \", sep=\"\"))\n",
        "\n",
        "        return(film_in_category)\n",
        "    }\n",
        "\n",
        "\n",
        "\n",
        "    else{\n",
        "        return(NULL)\n",
        "    }\n",
        "\n",
        "\n",
        "\n",
        "}"
      ],
      "metadata": {
        "id": "SZX1NbqOFHaJ"
      },
      "execution_count": 3,
      "outputs": []
    },
    {
      "cell_type": "code",
      "source": [
        "film_in_category_case_insensitive <- function(category)\n",
        "{\n",
        "    # Function that returns the result of a database query for the movie title, language, and category for the given:\n",
        "    # - id: if categry is integer\n",
        "    # - name: if category is character\n",
        "    # Example of the resulting table:\n",
        "    # | |title |languge |category|\n",
        "    # |0 |Amadeus Holy |English |Action|\n",
        "    #\n",
        "    # The resulting table is to be sorted by so many movie and language.\n",
        "    #\n",
        "    # If the input conditions are not met then the function should return NULL.\n",
        "\n",
        "    # Parameters:\n",
        "    # category (integer,str): the value of the category by id (if integer type) or name (if character type) for which we are executing the query.\n",
        "    #\n",
        "    # Returns:\n",
        "    # DataFrame: the DataFrame containing the results of the query\n",
        "\n",
        "    if(is.integer(category)){\n",
        "        film_in_category <- dbGetQuery(con, paste(\"SELECT film.title as title, language.name as languge, category.name as category\n",
        "                        FROM film_category\n",
        "                        INNER JOIN film ON film_category.film_id = film.film_id\n",
        "                        INNER JOIN language ON film.language_id = language.language_id\n",
        "                        INNER JOIN category ON category.category_id = film_category.category_id\n",
        "                        WHERE category.category_id =\", category,\n",
        "                                                  \"ORDER BY film.title ASC, language.name ASC \", sep=\"\"))\n",
        "\n",
        "        return(film_in_category)\n",
        "    }\n",
        "\n",
        "    else if(is.character(category)){\n",
        "        query <- sprintf(\"SELECT film.title title, language.name as languge, category.name as category\n",
        "                        FROM language\n",
        "                        INNER JOIN film ON language.language_id = film.language_id\n",
        "                        INNER JOIN film_category ON film.film_id = film_category.film_id\n",
        "                        INNER JOIN category ON category.category_id = film_category.category_id\n",
        "                        WHERE LOWER(category.name) = LOWER('%s')\n",
        "                        ORDER BY film.title , language.name  \",category)\n",
        "\n",
        "        film_in_category <- dbGetQuery(con, query)\n",
        "\n",
        "        return(film_in_category)\n",
        "    }\n",
        "\n",
        "\n",
        "\n",
        "    else{\n",
        "        return(NULL)\n",
        "    }\n",
        "}"
      ],
      "metadata": {
        "id": "Y3IepKqxFFJp"
      },
      "execution_count": 4,
      "outputs": []
    },
    {
      "cell_type": "code",
      "source": [
        "film_cast <- function(title)\n",
        "{\n",
        "    # A function that returns the result of a database query for the cast of a movie with the exact given title.\n",
        "    # Example of the resulting table:\n",
        "    # | |first_name |last_name |.\n",
        "    # |0 |Greg |Chaplin |\n",
        "    #\n",
        "    # The resulting table is to be sorted by the customer's last name and first name.\n",
        "    # If the input conditions are not met then the function should return NULL.\n",
        "    #\n",
        "    # Parameters:\n",
        "    # title (character): the value of the id of the category for which we perform the query.\n",
        "    #\n",
        "    # Returns:\n",
        "    # DataFrame: the DataFrame containing the results of the query\n",
        "\n",
        "    if(is.character(title)){\n",
        "        film_cast <- dbGetQuery(con, paste(\"SELECT a.first_name AS first_name, a.last_name AS last_name\n",
        "                                FROM actor a\n",
        "                                LEFT JOIN film_actor fa ON a.actor_id = fa.actor_id\n",
        "                                LEFT JOIN film f ON fa.film_id = f.film_id\n",
        "                                WHERE f.title = '\",title,\"'\",\n",
        "                                \"ORDER BY a.last_name, a.first_name\", sep=''))\n",
        "\n",
        "        return(film_cast)\n",
        "\n",
        "    }\n",
        "\n",
        "\n",
        "    else{\n",
        "    return(NULL)\n",
        "    }\n",
        "}"
      ],
      "metadata": {
        "id": "wk_YxghAFDVA"
      },
      "execution_count": 5,
      "outputs": []
    },
    {
      "cell_type": "code",
      "source": [
        "film_title_case_insensitive <- function(words)\n",
        "{\n",
        "    # A function that returns the result of a database query for movie titles containing at least one of the specified words from the words list.\n",
        "    # Example of the resulting table:\n",
        "    # | |title |\n",
        "    # |0 |Crystal Breaking |\n",
        "    #\n",
        "    # The resulting table is to be sorted by the customer's last name and first name.\n",
        "    #\n",
        "    # If the input conditions are not met then the function should return NULL.\n",
        "    #\n",
        "    # Parameters:\n",
        "    # words(list[character]): minimum film length value.\n",
        "    #\n",
        "    # Returns:\n",
        "    # DataFrame: dataFrame containing the results of the query\n",
        "\n",
        "    if(is.character(words)){\n",
        "        word = '('\n",
        "        for(el in words){\n",
        "            if(el == words[1]){\n",
        "                word <- paste(word, el, sep='')\n",
        "            }\n",
        "            else{\n",
        "                word <- paste(word, '|', el, sep='')\n",
        "            }\n",
        "\n",
        "        }\n",
        "\n",
        "\n",
        "\n",
        "        film_title_case_insensitive <- dbGetQuery(con, paste(\"SELECT film.title AS title\n",
        "                                                  FROM film\n",
        "                                                  WHERE film.title ~*'( |^)\", word, \")( |$)'\",\n",
        "                                                             \"ORDER BY film.title\", sep=''))\n",
        "\n",
        "        return(film_title_case_insensitive)\n",
        "    }\n",
        "\n",
        "\n",
        "\n",
        "\n",
        "    else{\n",
        "        return(NULL)\n",
        "    }\n",
        "}"
      ],
      "metadata": {
        "id": "y0kIifmwFBI5"
      },
      "execution_count": 6,
      "outputs": []
    },
    {
      "cell_type": "markdown",
      "source": [
        "**Find all the names of countries beginning with P.**"
      ],
      "metadata": {
        "id": "Tv-qECcYMwef"
      }
    },
    {
      "cell_type": "code",
      "source": [
        "solution <- dbGetQuery(con, \"SELECT country.country\n",
        "                   FROM country\n",
        "                   WHERE country ~ '^P'\")\n",
        "solution"
      ],
      "metadata": {
        "id": "HJAcf8ibE-oD",
        "colab": {
          "base_uri": "https://localhost:8080/",
          "height": 303
        },
        "outputId": "743700df-2f1e-4850-a143-76b11732717f"
      },
      "execution_count": 10,
      "outputs": [
        {
          "output_type": "display_data",
          "data": {
            "text/html": [
              "<table class=\"dataframe\">\n",
              "<caption>A data.frame: 6 × 1</caption>\n",
              "<thead>\n",
              "\t<tr><th scope=col>country</th></tr>\n",
              "\t<tr><th scope=col>&lt;chr&gt;</th></tr>\n",
              "</thead>\n",
              "<tbody>\n",
              "\t<tr><td>Pakistan   </td></tr>\n",
              "\t<tr><td>Paraguay   </td></tr>\n",
              "\t<tr><td>Peru       </td></tr>\n",
              "\t<tr><td>Philippines</td></tr>\n",
              "\t<tr><td>Poland     </td></tr>\n",
              "\t<tr><td>Puerto Rico</td></tr>\n",
              "</tbody>\n",
              "</table>\n"
            ],
            "text/markdown": "\nA data.frame: 6 × 1\n\n| country &lt;chr&gt; |\n|---|\n| Pakistan    |\n| Paraguay    |\n| Peru        |\n| Philippines |\n| Poland      |\n| Puerto Rico |\n\n",
            "text/latex": "A data.frame: 6 × 1\n\\begin{tabular}{l}\n country\\\\\n <chr>\\\\\n\\hline\n\t Pakistan   \\\\\n\t Paraguay   \\\\\n\t Peru       \\\\\n\t Philippines\\\\\n\t Poland     \\\\\n\t Puerto Rico\\\\\n\\end{tabular}\n",
            "text/plain": [
              "  country    \n",
              "1 Pakistan   \n",
              "2 Paraguay   \n",
              "3 Peru       \n",
              "4 Philippines\n",
              "5 Poland     \n",
              "6 Puerto Rico"
            ]
          },
          "metadata": {}
        }
      ]
    },
    {
      "cell_type": "markdown",
      "source": [
        "**Find all the names of countries beginning with P and ending with s.**"
      ],
      "metadata": {
        "id": "55QYmg6XMzLv"
      }
    },
    {
      "cell_type": "code",
      "source": [
        "solution <- dbGetQuery(con, \"SELECT country.country\n",
        "                   FROM country\n",
        "                   WHERE country ~ '^P.*s$'\")\n",
        "solution"
      ],
      "metadata": {
        "id": "9DXIq4ChE960",
        "colab": {
          "base_uri": "https://localhost:8080/",
          "height": 164
        },
        "outputId": "86d73c13-4804-4766-d53a-9b54b63ae65a"
      },
      "execution_count": 11,
      "outputs": [
        {
          "output_type": "display_data",
          "data": {
            "text/html": [
              "<table class=\"dataframe\">\n",
              "<caption>A data.frame: 1 × 1</caption>\n",
              "<thead>\n",
              "\t<tr><th scope=col>country</th></tr>\n",
              "\t<tr><th scope=col>&lt;chr&gt;</th></tr>\n",
              "</thead>\n",
              "<tbody>\n",
              "\t<tr><td>Philippines</td></tr>\n",
              "</tbody>\n",
              "</table>\n"
            ],
            "text/markdown": "\nA data.frame: 1 × 1\n\n| country &lt;chr&gt; |\n|---|\n| Philippines |\n\n",
            "text/latex": "A data.frame: 1 × 1\n\\begin{tabular}{l}\n country\\\\\n <chr>\\\\\n\\hline\n\t Philippines\\\\\n\\end{tabular}\n",
            "text/plain": [
              "  country    \n",
              "1 Philippines"
            ]
          },
          "metadata": {}
        }
      ]
    },
    {
      "cell_type": "markdown",
      "source": [
        "**Find all movie titles with digits in them.**"
      ],
      "metadata": {
        "id": "5NnHGFVoM1XH"
      }
    },
    {
      "cell_type": "code",
      "source": [
        "solution <- dbGetQuery(con, \"SELECT film.title\n",
        "                   FROM film\n",
        "                   WHERE title ~ '[0-9]'\")\n",
        "solution"
      ],
      "metadata": {
        "id": "S6W2gpMxE9Q0",
        "colab": {
          "base_uri": "https://localhost:8080/",
          "height": 133
        },
        "outputId": "42571a55-24ed-4c32-de77-82d6a4f3486c"
      },
      "execution_count": 17,
      "outputs": [
        {
          "output_type": "display_data",
          "data": {
            "text/html": [
              "<table class=\"dataframe\">\n",
              "<caption>A data.frame: 0 × 1</caption>\n",
              "<thead>\n",
              "\t<tr><th scope=col>title</th></tr>\n",
              "\t<tr><th scope=col>&lt;chr&gt;</th></tr>\n",
              "</thead>\n",
              "<tbody>\n",
              "</tbody>\n",
              "</table>\n"
            ],
            "text/markdown": "\nA data.frame: 0 × 1\n\n| title &lt;chr&gt; |\n|---|\n\n",
            "text/latex": "A data.frame: 0 × 1\n\\begin{tabular}{l}\n title\\\\\n <chr>\\\\\n\\hline\n\\end{tabular}\n",
            "text/plain": [
              "     title"
            ]
          },
          "metadata": {}
        }
      ]
    },
    {
      "cell_type": "markdown",
      "source": [
        "**Find all employees with a double first or last name.**"
      ],
      "metadata": {
        "id": "If19XbdwM3Z3"
      }
    },
    {
      "cell_type": "code",
      "source": [
        "solution <- dbGetQuery(con, \"SELECT *\n",
        "                   FROM staff\n",
        "                   WHERE first_name ~ '% %'\")\n",
        "solution"
      ],
      "metadata": {
        "id": "OYqZGmWLE7o_",
        "colab": {
          "base_uri": "https://localhost:8080/",
          "height": 98
        },
        "outputId": "cf10fb81-af39-48dc-a86c-a8fc71bbd15f"
      },
      "execution_count": 13,
      "outputs": [
        {
          "output_type": "display_data",
          "data": {
            "text/html": [
              "<table class=\"dataframe\">\n",
              "<caption>A data.frame: 0 × 11</caption>\n",
              "<thead>\n",
              "\t<tr><th scope=col>staff_id</th><th scope=col>first_name</th><th scope=col>last_name</th><th scope=col>address_id</th><th scope=col>email</th><th scope=col>store_id</th><th scope=col>active</th><th scope=col>username</th><th scope=col>password</th><th scope=col>last_update</th><th scope=col>picture</th></tr>\n",
              "\t<tr><th scope=col>&lt;int&gt;</th><th scope=col>&lt;chr&gt;</th><th scope=col>&lt;chr&gt;</th><th scope=col>&lt;int&gt;</th><th scope=col>&lt;chr&gt;</th><th scope=col>&lt;int&gt;</th><th scope=col>&lt;lgl&gt;</th><th scope=col>&lt;chr&gt;</th><th scope=col>&lt;chr&gt;</th><th scope=col>&lt;dttm&gt;</th><th scope=col>&lt;blob&gt;</th></tr>\n",
              "</thead>\n",
              "<tbody>\n",
              "</tbody>\n",
              "</table>\n"
            ],
            "text/markdown": "\nA data.frame: 0 × 11\n\n| staff_id &lt;int&gt; | first_name &lt;chr&gt; | last_name &lt;chr&gt; | address_id &lt;int&gt; | email &lt;chr&gt; | store_id &lt;int&gt; | active &lt;lgl&gt; | username &lt;chr&gt; | password &lt;chr&gt; | last_update &lt;dttm&gt; | picture &lt;blob&gt; |\n|---|---|---|---|---|---|---|---|---|---|---|\n\n",
            "text/latex": "A data.frame: 0 × 11\n\\begin{tabular}{lllllllllll}\n staff\\_id & first\\_name & last\\_name & address\\_id & email & store\\_id & active & username & password & last\\_update & picture\\\\\n <int> & <chr> & <chr> & <int> & <chr> & <int> & <lgl> & <chr> & <chr> & <dttm> & <blob>\\\\\n\\hline\n\\end{tabular}\n",
            "text/plain": [
              "     staff_id first_name last_name address_id email store_id active username\n",
              "     password last_update picture"
            ]
          },
          "metadata": {}
        }
      ]
    },
    {
      "cell_type": "markdown",
      "source": [
        "**Find all names of actors starting with P or C and having 5 characters.**"
      ],
      "metadata": {
        "id": "1KQbU79EM5Zh"
      }
    },
    {
      "cell_type": "code",
      "source": [
        "solution <- dbGetQuery(con, \"SELECT last_name\n",
        "                   FROM actor\n",
        "                   WHERE last_name ~ '^(P|C).{4}$'\")\n",
        "solution"
      ],
      "metadata": {
        "id": "s6-kthZqE2cE",
        "colab": {
          "base_uri": "https://localhost:8080/",
          "height": 321
        },
        "outputId": "00728056-3ab7-4006-b915-ec507f6ac35e"
      },
      "execution_count": 14,
      "outputs": [
        {
          "output_type": "display_data",
          "data": {
            "text/html": [
              "<table class=\"dataframe\">\n",
              "<caption>A data.frame: 6 × 1</caption>\n",
              "<thead>\n",
              "\t<tr><th scope=col>last_name</th></tr>\n",
              "\t<tr><th scope=col>&lt;chr&gt;</th></tr>\n",
              "</thead>\n",
              "<tbody>\n",
              "\t<tr><td>Chase</td></tr>\n",
              "\t<tr><td>Posey</td></tr>\n",
              "\t<tr><td>Pesci</td></tr>\n",
              "\t<tr><td>Crowe</td></tr>\n",
              "\t<tr><td>Chase</td></tr>\n",
              "\t<tr><td>Close</td></tr>\n",
              "</tbody>\n",
              "</table>\n"
            ],
            "text/markdown": "\nA data.frame: 6 × 1\n\n| last_name &lt;chr&gt; |\n|---|\n| Chase |\n| Posey |\n| Pesci |\n| Crowe |\n| Chase |\n| Close |\n\n",
            "text/latex": "A data.frame: 6 × 1\n\\begin{tabular}{l}\n last\\_name\\\\\n <chr>\\\\\n\\hline\n\t Chase\\\\\n\t Posey\\\\\n\t Pesci\\\\\n\t Crowe\\\\\n\t Chase\\\\\n\t Close\\\\\n\\end{tabular}\n",
            "text/plain": [
              "  last_name\n",
              "1 Chase    \n",
              "2 Posey    \n",
              "3 Pesci    \n",
              "4 Crowe    \n",
              "5 Chase    \n",
              "6 Close    "
            ]
          },
          "metadata": {}
        }
      ]
    },
    {
      "cell_type": "markdown",
      "source": [
        "**Find all movie titles with the words Trip or Alone.**"
      ],
      "metadata": {
        "id": "JVKRJXPDM7Lw"
      }
    },
    {
      "cell_type": "code",
      "source": [
        "solution <- dbGetQuery(con, \"SELECT title\n",
        "                   FROM film\n",
        "                   WHERE title ~ '.*(Alone|Trip).*' \")\n",
        "solution"
      ],
      "metadata": {
        "id": "lWefcRfyE0DU",
        "colab": {
          "base_uri": "https://localhost:8080/",
          "height": 241
        },
        "outputId": "3a5116bc-6a3e-4ede-c0b9-eb75f1952980"
      },
      "execution_count": 15,
      "outputs": [
        {
          "output_type": "display_data",
          "data": {
            "text/html": [
              "<table class=\"dataframe\">\n",
              "<caption>A data.frame: 4 × 1</caption>\n",
              "<thead>\n",
              "\t<tr><th scope=col>title</th></tr>\n",
              "\t<tr><th scope=col>&lt;chr&gt;</th></tr>\n",
              "</thead>\n",
              "<tbody>\n",
              "\t<tr><td>Alone Trip   </td></tr>\n",
              "\t<tr><td>Superfly Trip</td></tr>\n",
              "\t<tr><td>Trip Newton  </td></tr>\n",
              "\t<tr><td>Varsity Trip </td></tr>\n",
              "</tbody>\n",
              "</table>\n"
            ],
            "text/markdown": "\nA data.frame: 4 × 1\n\n| title &lt;chr&gt; |\n|---|\n| Alone Trip    |\n| Superfly Trip |\n| Trip Newton   |\n| Varsity Trip  |\n\n",
            "text/latex": "A data.frame: 4 × 1\n\\begin{tabular}{l}\n title\\\\\n <chr>\\\\\n\\hline\n\t Alone Trip   \\\\\n\t Superfly Trip\\\\\n\t Trip Newton  \\\\\n\t Varsity Trip \\\\\n\\end{tabular}\n",
            "text/plain": [
              "  title        \n",
              "1 Alone Trip   \n",
              "2 Superfly Trip\n",
              "3 Trip Newton  \n",
              "4 Varsity Trip "
            ]
          },
          "metadata": {}
        }
      ]
    }
  ]
}