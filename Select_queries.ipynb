{
  "nbformat": 4,
  "nbformat_minor": 0,
  "metadata": {
    "colab": {
      "provenance": [],
      "authorship_tag": "ABX9TyPx/zAKX+1ATo3uwVzTJS6Z",
      "include_colab_link": true
    },
    "kernelspec": {
      "name": "ir",
      "display_name": "R"
    },
    "language_info": {
      "name": "R"
    }
  },
  "cells": [
    {
      "cell_type": "markdown",
      "metadata": {
        "id": "view-in-github",
        "colab_type": "text"
      },
      "source": [
        "<a href=\"https://colab.research.google.com/github/patryklatka/Analysis-and-Databases/blob/main/Select_queries.ipynb\" target=\"_parent\"><img src=\"https://colab.research.google.com/assets/colab-badge.svg\" alt=\"Open In Colab\"/></a>"
      ]
    },
    {
      "cell_type": "markdown",
      "source": [
        "### The purpose of the exercise was to connect to a database using R libraries and perform select queries on a sample database. The tasks used a database from the official PostgeSQL toturial."
      ],
      "metadata": {
        "id": "f_PDY2fJvSnZ"
      }
    },
    {
      "cell_type": "code",
      "source": [
        "library(DBI)\n",
        "library(RPostgres)\n",
        "\n",
        "dsn_database = 'wbauer_adb_2023'\n",
        "dsn_hostname = 'pgsql-196447.vipserv.org'\n",
        "dsn_port = '5432'\n",
        "dsn_uid = 'wbauer_adb'\n",
        "dsn_pwd = 'adb2020'\n",
        "\n",
        "con <- dbConnect(Postgres(), dbname = dsn_database, host=dsn_hostname, port=dsn_port, user=dsn_uid, password=dsn_pwd)\n"
      ],
      "metadata": {
        "id": "xXYdVmhc-xNp"
      },
      "execution_count": 37,
      "outputs": []
    },
    {
      "cell_type": "markdown",
      "source": [
        "**How many categories of movies do we have in the rental shop?**"
      ],
      "metadata": {
        "id": "Xw6PGQQzymEC"
      }
    },
    {
      "cell_type": "code",
      "source": [
        "num_categ <- dbGetQuery(con, \"SELECT count(*)\n",
        "                                FROM category \")\n"
      ],
      "metadata": {
        "id": "o8IXMIKaClzn"
      },
      "execution_count": 38,
      "outputs": []
    },
    {
      "cell_type": "markdown",
      "source": [
        "**View the list of categories in alphabetical order.**"
      ],
      "metadata": {
        "id": "5qXO7-razJ-C"
      }
    },
    {
      "cell_type": "code",
      "source": [
        "categ_alph <- dbGetQuery(con, \"SELECT name\n",
        "                              FROM category\")\n"
      ],
      "metadata": {
        "id": "TyHNV9yiC2Jv"
      },
      "execution_count": 39,
      "outputs": []
    },
    {
      "cell_type": "markdown",
      "source": [
        "**Find the oldest and youngest movie to rent.**"
      ],
      "metadata": {
        "id": "rdIU2lYzzOSw"
      }
    },
    {
      "cell_type": "code",
      "source": [
        "youngest_movie <- dbGetQuery(con, \"SELECT title\n",
        "                             FROM film\n",
        "                             ORDER BY release_year\n",
        "                             LIMIT 1\")\n",
        "\n",
        "oldest_movie <- dbGetQuery(con, \"SELECT title\n",
        "                            FROM film\n",
        "                            ORDER BY release_year\n",
        "                            DESC  LIMIT 1\")\n"
      ],
      "metadata": {
        "id": "DzEHx3LWC1Lw"
      },
      "execution_count": 40,
      "outputs": []
    },
    {
      "cell_type": "markdown",
      "source": [
        "**How many rentals took place between 2005-07-01 and 2005-08-01?**\n",
        "  "
      ],
      "metadata": {
        "id": "w67KMHg8zTWn"
      }
    },
    {
      "cell_type": "code",
      "source": [
        "rentals_0507_058 <- dbGetQuery(con, \"SELECT Count(*)\n",
        "                       FROM rental\n",
        "                       WHERE rental_date BETWEEN '2005/07/01' AND '2005/08/01'\")\n"
      ],
      "metadata": {
        "id": "oPPcOz1aCzOG"
      },
      "execution_count": 41,
      "outputs": []
    },
    {
      "cell_type": "markdown",
      "source": [
        "**How many rentals took place between 2010-01-01 and 2011-02-01?**"
      ],
      "metadata": {
        "id": "v1nglXUZzWzh"
      }
    },
    {
      "cell_type": "code",
      "source": [
        "rentals_1001_1102 <- dbGetQuery(con, \"SELECT Count(*)\n",
        "                       FROM rental\n",
        "                       WHERE rental_date BETWEEN '2010/01/01' AND '2011/02/01'\")\n"
      ],
      "metadata": {
        "id": "U1UipMSMCvyW"
      },
      "execution_count": 42,
      "outputs": []
    },
    {
      "cell_type": "markdown",
      "source": [
        "**Find the largest rental payment.**"
      ],
      "metadata": {
        "id": "psWfe6VszZG_"
      }
    },
    {
      "cell_type": "code",
      "source": [
        "largest_rental <- dbGetQuery(con, 'SELECT max(amount)\n",
        "                         FROM payment')\n",
        "\n"
      ],
      "metadata": {
        "id": "QinZ1_7ICu52"
      },
      "execution_count": 43,
      "outputs": []
    },
    {
      "cell_type": "markdown",
      "source": [
        "**Find all customers from Poland, Nigeria or Bangladesh.**"
      ],
      "metadata": {
        "id": "AkkLxjCTzbaH"
      }
    },
    {
      "cell_type": "code",
      "source": [
        "cust_Pol_Nig_Bang <- dbGetQuery(con, \"SELECT customer.first_name, customer.last_name, country.country\n",
        "                            FROM customer, address, city, country\n",
        "                            WHERE customer.address_id = address.address_id\n",
        "                            AND address.city_id = city.city_id\n",
        "                            AND city.country_id = country.country_id\n",
        "                            AND country.country IN ('Poland', 'Nigeria','Bangladesh')\")\n"
      ],
      "metadata": {
        "id": "_l3ragHECuBU"
      },
      "execution_count": 44,
      "outputs": []
    },
    {
      "cell_type": "markdown",
      "source": [
        "**Where do staff members live?**"
      ],
      "metadata": {
        "id": "Bz9qoD6QzeVI"
      }
    },
    {
      "cell_type": "code",
      "source": [
        "staff_houses <- dbGetQuery(con, \"SELECT address.address\n",
        "                       FROM address, staff\n",
        "                       WHERE staff.address_id = address.address_id\")\n"
      ],
      "metadata": {
        "id": "YZ9Yirm0CtGc"
      },
      "execution_count": 45,
      "outputs": []
    },
    {
      "cell_type": "markdown",
      "source": [
        "**How many staff members live in Argentina or Spain?**"
      ],
      "metadata": {
        "id": "uL5Vb333zgXX"
      }
    },
    {
      "cell_type": "code",
      "source": [
        "staff_Arg_Spa <- dbGetQuery(con, \"SELECT count(*)\n",
        "                  FROM staff, address, city, country\n",
        "                  WHERE staff.address_id = address.address_id\n",
        "                  AND address.city_id = city.city_id\n",
        "                  AND city.country_id = country.country_id\n",
        "                  AND country.country IN ('Argentina', 'Spain')\")\n"
      ],
      "metadata": {
        "id": "HQuhZtzxCsF8"
      },
      "execution_count": 46,
      "outputs": []
    },
    {
      "cell_type": "markdown",
      "source": [
        "**What categories of movies were rented by customers?**"
      ],
      "metadata": {
        "id": "8Eu6C9ROzjS_"
      }
    },
    {
      "cell_type": "code",
      "source": [
        "categ_rented_by_customers <- dbGetQuery(con, \"SELECT DISTINCT category.name\n",
        "                                FROM category\n",
        "                                INNER JOIN film_category ON category.category_id = film_category.category_id\n",
        "                                INNER JOIN film ON film_category.film_id = film.film_id\n",
        "                                INNEr JOIN inventory ON film.film_id = inventory.film_id\n",
        "                                INNER JOIN rental ON inventory.inventory_id = rental.inventory_id\n",
        "                                INNER JOIN customer ON rental.customer_id = customer.customer_id\")\n"
      ],
      "metadata": {
        "id": "2bv_CGKUCqjU"
      },
      "execution_count": 47,
      "outputs": []
    },
    {
      "cell_type": "markdown",
      "source": [
        "**Find all categories of movies rented in America.**"
      ],
      "metadata": {
        "id": "4gDW5Hmhzlgv"
      }
    },
    {
      "cell_type": "code",
      "source": [
        "categ_rented_Ame <- dbGetQuery(con, \"SELECT DISTINCT category.name\n",
        "                                FROM category\n",
        "                                INNER JOIN film_category ON category.category_id = film_category.category_id\n",
        "                                INNER JOIN film ON film_category.film_id = film.film_id\n",
        "                                INNEr JOIN inventory ON film.film_id = inventory.film_id\n",
        "                                INNER JOIN rental ON inventory.inventory_id = rental.inventory_id\n",
        "                                INNER JOIN customer ON rental.customer_id = customer.customer_id\n",
        "                                INNER JOIN address ON customer.address_id = address.address_id\n",
        "                                INNER JOIN city ON address.city_id = city.city_id\n",
        "                                INNER JOIN country ON city.country_id = country.country_id\n",
        "                                WHERE country.country = 'American Samoa'\")\n"
      ],
      "metadata": {
        "id": "4jp1CMeoCpik"
      },
      "execution_count": 48,
      "outputs": []
    },
    {
      "cell_type": "markdown",
      "source": [
        "**Find all the titles of the films in which he or she starred: Olympia Pfeiffer or Julia Zellweger or Ellen Presley**"
      ],
      "metadata": {
        "id": "7J2IW-XuzniX"
      }
    },
    {
      "cell_type": "code",
      "source": [
        "movies_OP_JZ_EP <- dbGetQuery(con, \"SELECT film.title\n",
        "                     FROM film\n",
        "                     INNER JOIN film_actor ON film.film_id = film_actor.film_id\n",
        "                     INNER JOIN actor on film_actor.actor_id = actor.actor_id\n",
        "                     WHERE (actor.first_name = 'Olympia' AND actor.last_name = 'Pfeiffer')\n",
        "                     OR (actor.first_name = 'Julia ' AND actor.last_name = 'Zellweger ')\n",
        "                     OR (actor.first_name = 'Ellen ' AND actor.last_name = 'Presley')\")\n"
      ],
      "metadata": {
        "id": "dmi0vsNtCoC8"
      },
      "execution_count": 49,
      "outputs": []
    }
  ]
}