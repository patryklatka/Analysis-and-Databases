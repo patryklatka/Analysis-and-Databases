{
  "nbformat": 4,
  "nbformat_minor": 0,
  "metadata": {
    "colab": {
      "provenance": [],
      "authorship_tag": "ABX9TyOycBcJ6CZQMpJVPL8bVuT2",
      "include_colab_link": true
    },
    "kernelspec": {
      "name": "ir",
      "display_name": "R"
    },
    "language_info": {
      "name": "R"
    }
  },
  "cells": [
    {
      "cell_type": "markdown",
      "metadata": {
        "id": "view-in-github",
        "colab_type": "text"
      },
      "source": [
        "<a href=\"https://colab.research.google.com/github/patryklatka/Analysis-and-Databases/blob/main/Tidyverse_part2.ipynb\" target=\"_parent\"><img src=\"https://colab.research.google.com/assets/colab-badge.svg\" alt=\"Open In Colab\"/></a>"
      ]
    },
    {
      "cell_type": "markdown",
      "source": [
        "###In this exercise, I continued to study the tidyverse package. ###"
      ],
      "metadata": {
        "id": "i1Q9DltjlFId"
      }
    },
    {
      "cell_type": "code",
      "execution_count": 18,
      "metadata": {
        "id": "V2JHIIEQGNar",
        "colab": {
          "base_uri": "https://localhost:8080/"
        },
        "outputId": "b13f88e6-e123-44ab-f4bf-077846fafbad"
      },
      "outputs": [
        {
          "output_type": "stream",
          "name": "stderr",
          "text": [
            "Installing package into ‘/usr/local/lib/R/site-library’\n",
            "(as ‘lib’ is unspecified)\n",
            "\n",
            "Installing package into ‘/usr/local/lib/R/site-library’\n",
            "(as ‘lib’ is unspecified)\n",
            "\n",
            "Installing package into ‘/usr/local/lib/R/site-library’\n",
            "(as ‘lib’ is unspecified)\n",
            "\n"
          ]
        }
      ],
      "source": [
        "install.packages(\"tidyr\")\n",
        "install.packages(\"tidyverse\")\n",
        "install.packages(\"nycflights13\")\n",
        "library(tidyr)\n",
        "library(tidyverse)\n",
        "library(nycflights13)\n",
        "\n",
        "\n",
        "# Create sample data\n",
        "set.seed(1111) # random number\n",
        "produkty <- c(\"Produkt_A\", \"Produkt_B\", \"Produkt_C\")\n",
        "kwartały <- c(\"Q1\", \"Q2\", \"Q3\", \"Q4\")\n",
        "lata = c(2018, 2019, 2020, 2021, 2022)\n",
        "sales_data <- data.frame(\n",
        "  Produkt = rep(produkty, each = length(lata)),\n",
        "  Rok = rep(lata, times = length(produkty)),\n",
        "  Q1 = sample(100:500, length(lata)*length(produkty)),\n",
        "  Q2 = sample(100:500, length(lata)*length(produkty)),\n",
        "  Q3 = sample(100:500, length(lata)*length(produkty)),\n",
        "  Q4 = sample(100:500, length(lata)*length(produkty))\n",
        ")\n",
        "\n",
        "set.seed(1111) # random number\n",
        "produkty <- c(\"Produkt_A\", \"Produkt_B\", \"Produkt_C\")\n",
        "sklepy <- c(\"Sklep_X\", \"Sklep_Y\", \"Sklep_Z\")\n",
        "miesiace <- c(\"Styczeń\", \"Luty\", \"Marzec\")\n",
        "\n",
        "sales_data_advanced <- data.frame(\n",
        "  Produkt = rep(produkty, each = length(sklepy) * length(miesiace)),\n",
        "  Sklep = rep(sklepy, times = length(produkty) * length(miesiace)),\n",
        "  Miesiac = rep(miesiace, each = length(produkty) * length(sklepy)),\n",
        "  Sprzedaz = sample(100:500, 27),\n",
        "  Koszty = sample(30:200, 27),\n",
        "  Zysk = NA\n",
        ")\n",
        "sales_data_advanced$Zysk <- sales_data_advanced$Sprzedaz - sales_data_advanced$Koszty\n",
        "\n"
      ]
    },
    {
      "cell_type": "markdown",
      "source": [
        "**Analysis of the sales_data dataset.\n",
        "It contains information about quarterly sales of various products in wide format.**\n",
        "\n",
        "**Use the pivot_longer() function to convert the sales_data dataset from wide format to long format. The resulting dataset should have columns: Product, Quarter, and Sales.**\n",
        "\n",
        "**Create a summary table that shows the total sales for each product across all quarters. You can use the group_by() and summarize() functions from the dplyr package.**\n",
        "\n",
        "**Now use the pivot_wider() function to restore the data in wide format.**"
      ],
      "metadata": {
        "id": "rZ4f6nY8nzrE"
      }
    },
    {
      "cell_type": "code",
      "source": [
        "solution = sales_data %>% pivot_longer(cols=c('Q1','Q2','Q3','Q4'), names_to = 'Kwartał') %>% group_by(Produkt, Kwartał) %>% summarise(Sprzedaz=sum(value), .groups='drop')\n",
        "solution"
      ],
      "metadata": {
        "colab": {
          "base_uri": "https://localhost:8080/",
          "height": 474
        },
        "id": "1WyNhGwYnxW3",
        "outputId": "800f2aa8-c0bd-4d2a-d31c-5127791bfc28"
      },
      "execution_count": 19,
      "outputs": [
        {
          "output_type": "display_data",
          "data": {
            "text/html": [
              "<table class=\"dataframe\">\n",
              "<caption>A tibble: 12 × 3</caption>\n",
              "<thead>\n",
              "\t<tr><th scope=col>Produkt</th><th scope=col>Kwartał</th><th scope=col>Sprzedaz</th></tr>\n",
              "\t<tr><th scope=col>&lt;chr&gt;</th><th scope=col>&lt;chr&gt;</th><th scope=col>&lt;int&gt;</th></tr>\n",
              "</thead>\n",
              "<tbody>\n",
              "\t<tr><td>Produkt_A</td><td>Q1</td><td>1745</td></tr>\n",
              "\t<tr><td>Produkt_A</td><td>Q2</td><td>1660</td></tr>\n",
              "\t<tr><td>Produkt_A</td><td>Q3</td><td>1330</td></tr>\n",
              "\t<tr><td>Produkt_A</td><td>Q4</td><td>1719</td></tr>\n",
              "\t<tr><td>Produkt_B</td><td>Q1</td><td> 978</td></tr>\n",
              "\t<tr><td>Produkt_B</td><td>Q2</td><td>1715</td></tr>\n",
              "\t<tr><td>Produkt_B</td><td>Q3</td><td>1617</td></tr>\n",
              "\t<tr><td>Produkt_B</td><td>Q4</td><td>1588</td></tr>\n",
              "\t<tr><td>Produkt_C</td><td>Q1</td><td>1000</td></tr>\n",
              "\t<tr><td>Produkt_C</td><td>Q2</td><td>1335</td></tr>\n",
              "\t<tr><td>Produkt_C</td><td>Q3</td><td>1690</td></tr>\n",
              "\t<tr><td>Produkt_C</td><td>Q4</td><td>1831</td></tr>\n",
              "</tbody>\n",
              "</table>\n"
            ],
            "text/markdown": "\nA tibble: 12 × 3\n\n| Produkt &lt;chr&gt; | Kwartał &lt;chr&gt; | Sprzedaz &lt;int&gt; |\n|---|---|---|\n| Produkt_A | Q1 | 1745 |\n| Produkt_A | Q2 | 1660 |\n| Produkt_A | Q3 | 1330 |\n| Produkt_A | Q4 | 1719 |\n| Produkt_B | Q1 |  978 |\n| Produkt_B | Q2 | 1715 |\n| Produkt_B | Q3 | 1617 |\n| Produkt_B | Q4 | 1588 |\n| Produkt_C | Q1 | 1000 |\n| Produkt_C | Q2 | 1335 |\n| Produkt_C | Q3 | 1690 |\n| Produkt_C | Q4 | 1831 |\n\n",
            "text/latex": "A tibble: 12 × 3\n\\begin{tabular}{lll}\n Produkt & Kwartał & Sprzedaz\\\\\n <chr> & <chr> & <int>\\\\\n\\hline\n\t Produkt\\_A & Q1 & 1745\\\\\n\t Produkt\\_A & Q2 & 1660\\\\\n\t Produkt\\_A & Q3 & 1330\\\\\n\t Produkt\\_A & Q4 & 1719\\\\\n\t Produkt\\_B & Q1 &  978\\\\\n\t Produkt\\_B & Q2 & 1715\\\\\n\t Produkt\\_B & Q3 & 1617\\\\\n\t Produkt\\_B & Q4 & 1588\\\\\n\t Produkt\\_C & Q1 & 1000\\\\\n\t Produkt\\_C & Q2 & 1335\\\\\n\t Produkt\\_C & Q3 & 1690\\\\\n\t Produkt\\_C & Q4 & 1831\\\\\n\\end{tabular}\n",
            "text/plain": [
              "   Produkt   Kwartał Sprzedaz\n",
              "1  Produkt_A Q1      1745    \n",
              "2  Produkt_A Q2      1660    \n",
              "3  Produkt_A Q3      1330    \n",
              "4  Produkt_A Q4      1719    \n",
              "5  Produkt_B Q1       978    \n",
              "6  Produkt_B Q2      1715    \n",
              "7  Produkt_B Q3      1617    \n",
              "8  Produkt_B Q4      1588    \n",
              "9  Produkt_C Q1      1000    \n",
              "10 Produkt_C Q2      1335    \n",
              "11 Produkt_C Q3      1690    \n",
              "12 Produkt_C Q4      1831    "
            ]
          },
          "metadata": {}
        }
      ]
    },
    {
      "cell_type": "markdown",
      "source": [
        "**A dataset of product sales performance at various stores for several months. It contains information on sales, costs, and profits for different products in different stores.**\n",
        "\n",
        "**1.Data filtering: Select only those records where the profit is positive.**\n",
        "\n",
        "**2.Sorting data: Sort the data by descending profit, and then by product name ascending.**\n",
        "\n",
        "**3.Create new columns: Add a Margin_Percent column that will contain the percentage profit margin for each record.**\n",
        "\n",
        "**4.Data aggregation: Create a table that shows the average sales, costs and profit for each store.**\n",
        "\n",
        "**5.Additional data transformation: Add a new Cost_per_Sales column representing the percentage of costs to sales.**\n",
        "\n",
        "**6.Advanced data selection: Select the records with the highest costs per sale for each product.**"
      ],
      "metadata": {
        "id": "Gr6CbHNXpZuF"
      }
    },
    {
      "cell_type": "code",
      "source": [
        "task_1 = sales_data_advanced %>% filter(Zysk > 0)\n",
        "task_1"
      ],
      "metadata": {
        "colab": {
          "base_uri": "https://localhost:8080/",
          "height": 944
        },
        "id": "eSxuX6CXpYJY",
        "outputId": "6e8cb8df-cc8f-4332-fde7-8ebc72c25ace"
      },
      "execution_count": 20,
      "outputs": [
        {
          "output_type": "display_data",
          "data": {
            "text/html": [
              "<table class=\"dataframe\">\n",
              "<caption>A data.frame: 27 × 6</caption>\n",
              "<thead>\n",
              "\t<tr><th scope=col>Produkt</th><th scope=col>Sklep</th><th scope=col>Miesiac</th><th scope=col>Sprzedaz</th><th scope=col>Koszty</th><th scope=col>Zysk</th></tr>\n",
              "\t<tr><th scope=col>&lt;chr&gt;</th><th scope=col>&lt;chr&gt;</th><th scope=col>&lt;chr&gt;</th><th scope=col>&lt;int&gt;</th><th scope=col>&lt;int&gt;</th><th scope=col>&lt;int&gt;</th></tr>\n",
              "</thead>\n",
              "<tbody>\n",
              "\t<tr><td>Produkt_A</td><td>Sklep_X</td><td>Styczeń</td><td>399</td><td>117</td><td>282</td></tr>\n",
              "\t<tr><td>Produkt_A</td><td>Sklep_Y</td><td>Styczeń</td><td>149</td><td> 94</td><td> 55</td></tr>\n",
              "\t<tr><td>Produkt_A</td><td>Sklep_Z</td><td>Styczeń</td><td>381</td><td> 39</td><td>342</td></tr>\n",
              "\t<tr><td>Produkt_A</td><td>Sklep_X</td><td>Styczeń</td><td>391</td><td>148</td><td>243</td></tr>\n",
              "\t<tr><td>Produkt_A</td><td>Sklep_Y</td><td>Styczeń</td><td>425</td><td>113</td><td>312</td></tr>\n",
              "\t<tr><td>Produkt_A</td><td>Sklep_Z</td><td>Styczeń</td><td>210</td><td> 85</td><td>125</td></tr>\n",
              "\t<tr><td>Produkt_A</td><td>Sklep_X</td><td>Styczeń</td><td>162</td><td>102</td><td> 60</td></tr>\n",
              "\t<tr><td>Produkt_A</td><td>Sklep_Y</td><td>Styczeń</td><td>138</td><td> 62</td><td> 76</td></tr>\n",
              "\t<tr><td>Produkt_A</td><td>Sklep_Z</td><td>Styczeń</td><td>164</td><td> 69</td><td> 95</td></tr>\n",
              "\t<tr><td>Produkt_B</td><td>Sklep_X</td><td>Luty   </td><td>304</td><td> 68</td><td>236</td></tr>\n",
              "\t<tr><td>Produkt_B</td><td>Sklep_Y</td><td>Luty   </td><td>281</td><td>170</td><td>111</td></tr>\n",
              "\t<tr><td>Produkt_B</td><td>Sklep_Z</td><td>Luty   </td><td>251</td><td> 78</td><td>173</td></tr>\n",
              "\t<tr><td>Produkt_B</td><td>Sklep_X</td><td>Luty   </td><td>229</td><td>108</td><td>121</td></tr>\n",
              "\t<tr><td>Produkt_B</td><td>Sklep_Y</td><td>Luty   </td><td>117</td><td>101</td><td> 16</td></tr>\n",
              "\t<tr><td>Produkt_B</td><td>Sklep_Z</td><td>Luty   </td><td>122</td><td> 33</td><td> 89</td></tr>\n",
              "\t<tr><td>Produkt_B</td><td>Sklep_X</td><td>Luty   </td><td>308</td><td> 50</td><td>258</td></tr>\n",
              "\t<tr><td>Produkt_B</td><td>Sklep_Y</td><td>Luty   </td><td>296</td><td>152</td><td>144</td></tr>\n",
              "\t<tr><td>Produkt_B</td><td>Sklep_Z</td><td>Luty   </td><td>320</td><td> 63</td><td>257</td></tr>\n",
              "\t<tr><td>Produkt_C</td><td>Sklep_X</td><td>Marzec </td><td>279</td><td>169</td><td>110</td></tr>\n",
              "\t<tr><td>Produkt_C</td><td>Sklep_Y</td><td>Marzec </td><td>457</td><td> 42</td><td>415</td></tr>\n",
              "\t<tr><td>Produkt_C</td><td>Sklep_Z</td><td>Marzec </td><td>197</td><td>188</td><td>  9</td></tr>\n",
              "\t<tr><td>Produkt_C</td><td>Sklep_X</td><td>Marzec </td><td>200</td><td>199</td><td>  1</td></tr>\n",
              "\t<tr><td>Produkt_C</td><td>Sklep_Y</td><td>Marzec </td><td>351</td><td>153</td><td>198</td></tr>\n",
              "\t<tr><td>Produkt_C</td><td>Sklep_Z</td><td>Marzec </td><td>482</td><td> 31</td><td>451</td></tr>\n",
              "\t<tr><td>Produkt_C</td><td>Sklep_X</td><td>Marzec </td><td>470</td><td>151</td><td>319</td></tr>\n",
              "\t<tr><td>Produkt_C</td><td>Sklep_Y</td><td>Marzec </td><td>368</td><td>193</td><td>175</td></tr>\n",
              "\t<tr><td>Produkt_C</td><td>Sklep_Z</td><td>Marzec </td><td>277</td><td>105</td><td>172</td></tr>\n",
              "</tbody>\n",
              "</table>\n"
            ],
            "text/markdown": "\nA data.frame: 27 × 6\n\n| Produkt &lt;chr&gt; | Sklep &lt;chr&gt; | Miesiac &lt;chr&gt; | Sprzedaz &lt;int&gt; | Koszty &lt;int&gt; | Zysk &lt;int&gt; |\n|---|---|---|---|---|---|\n| Produkt_A | Sklep_X | Styczeń | 399 | 117 | 282 |\n| Produkt_A | Sklep_Y | Styczeń | 149 |  94 |  55 |\n| Produkt_A | Sklep_Z | Styczeń | 381 |  39 | 342 |\n| Produkt_A | Sklep_X | Styczeń | 391 | 148 | 243 |\n| Produkt_A | Sklep_Y | Styczeń | 425 | 113 | 312 |\n| Produkt_A | Sklep_Z | Styczeń | 210 |  85 | 125 |\n| Produkt_A | Sklep_X | Styczeń | 162 | 102 |  60 |\n| Produkt_A | Sklep_Y | Styczeń | 138 |  62 |  76 |\n| Produkt_A | Sklep_Z | Styczeń | 164 |  69 |  95 |\n| Produkt_B | Sklep_X | Luty    | 304 |  68 | 236 |\n| Produkt_B | Sklep_Y | Luty    | 281 | 170 | 111 |\n| Produkt_B | Sklep_Z | Luty    | 251 |  78 | 173 |\n| Produkt_B | Sklep_X | Luty    | 229 | 108 | 121 |\n| Produkt_B | Sklep_Y | Luty    | 117 | 101 |  16 |\n| Produkt_B | Sklep_Z | Luty    | 122 |  33 |  89 |\n| Produkt_B | Sklep_X | Luty    | 308 |  50 | 258 |\n| Produkt_B | Sklep_Y | Luty    | 296 | 152 | 144 |\n| Produkt_B | Sklep_Z | Luty    | 320 |  63 | 257 |\n| Produkt_C | Sklep_X | Marzec  | 279 | 169 | 110 |\n| Produkt_C | Sklep_Y | Marzec  | 457 |  42 | 415 |\n| Produkt_C | Sklep_Z | Marzec  | 197 | 188 |   9 |\n| Produkt_C | Sklep_X | Marzec  | 200 | 199 |   1 |\n| Produkt_C | Sklep_Y | Marzec  | 351 | 153 | 198 |\n| Produkt_C | Sklep_Z | Marzec  | 482 |  31 | 451 |\n| Produkt_C | Sklep_X | Marzec  | 470 | 151 | 319 |\n| Produkt_C | Sklep_Y | Marzec  | 368 | 193 | 175 |\n| Produkt_C | Sklep_Z | Marzec  | 277 | 105 | 172 |\n\n",
            "text/latex": "A data.frame: 27 × 6\n\\begin{tabular}{llllll}\n Produkt & Sklep & Miesiac & Sprzedaz & Koszty & Zysk\\\\\n <chr> & <chr> & <chr> & <int> & <int> & <int>\\\\\n\\hline\n\t Produkt\\_A & Sklep\\_X & Styczeń & 399 & 117 & 282\\\\\n\t Produkt\\_A & Sklep\\_Y & Styczeń & 149 &  94 &  55\\\\\n\t Produkt\\_A & Sklep\\_Z & Styczeń & 381 &  39 & 342\\\\\n\t Produkt\\_A & Sklep\\_X & Styczeń & 391 & 148 & 243\\\\\n\t Produkt\\_A & Sklep\\_Y & Styczeń & 425 & 113 & 312\\\\\n\t Produkt\\_A & Sklep\\_Z & Styczeń & 210 &  85 & 125\\\\\n\t Produkt\\_A & Sklep\\_X & Styczeń & 162 & 102 &  60\\\\\n\t Produkt\\_A & Sklep\\_Y & Styczeń & 138 &  62 &  76\\\\\n\t Produkt\\_A & Sklep\\_Z & Styczeń & 164 &  69 &  95\\\\\n\t Produkt\\_B & Sklep\\_X & Luty    & 304 &  68 & 236\\\\\n\t Produkt\\_B & Sklep\\_Y & Luty    & 281 & 170 & 111\\\\\n\t Produkt\\_B & Sklep\\_Z & Luty    & 251 &  78 & 173\\\\\n\t Produkt\\_B & Sklep\\_X & Luty    & 229 & 108 & 121\\\\\n\t Produkt\\_B & Sklep\\_Y & Luty    & 117 & 101 &  16\\\\\n\t Produkt\\_B & Sklep\\_Z & Luty    & 122 &  33 &  89\\\\\n\t Produkt\\_B & Sklep\\_X & Luty    & 308 &  50 & 258\\\\\n\t Produkt\\_B & Sklep\\_Y & Luty    & 296 & 152 & 144\\\\\n\t Produkt\\_B & Sklep\\_Z & Luty    & 320 &  63 & 257\\\\\n\t Produkt\\_C & Sklep\\_X & Marzec  & 279 & 169 & 110\\\\\n\t Produkt\\_C & Sklep\\_Y & Marzec  & 457 &  42 & 415\\\\\n\t Produkt\\_C & Sklep\\_Z & Marzec  & 197 & 188 &   9\\\\\n\t Produkt\\_C & Sklep\\_X & Marzec  & 200 & 199 &   1\\\\\n\t Produkt\\_C & Sklep\\_Y & Marzec  & 351 & 153 & 198\\\\\n\t Produkt\\_C & Sklep\\_Z & Marzec  & 482 &  31 & 451\\\\\n\t Produkt\\_C & Sklep\\_X & Marzec  & 470 & 151 & 319\\\\\n\t Produkt\\_C & Sklep\\_Y & Marzec  & 368 & 193 & 175\\\\\n\t Produkt\\_C & Sklep\\_Z & Marzec  & 277 & 105 & 172\\\\\n\\end{tabular}\n",
            "text/plain": [
              "   Produkt   Sklep   Miesiac Sprzedaz Koszty Zysk\n",
              "1  Produkt_A Sklep_X Styczeń 399      117    282 \n",
              "2  Produkt_A Sklep_Y Styczeń 149       94     55 \n",
              "3  Produkt_A Sklep_Z Styczeń 381       39    342 \n",
              "4  Produkt_A Sklep_X Styczeń 391      148    243 \n",
              "5  Produkt_A Sklep_Y Styczeń 425      113    312 \n",
              "6  Produkt_A Sklep_Z Styczeń 210       85    125 \n",
              "7  Produkt_A Sklep_X Styczeń 162      102     60 \n",
              "8  Produkt_A Sklep_Y Styczeń 138       62     76 \n",
              "9  Produkt_A Sklep_Z Styczeń 164       69     95 \n",
              "10 Produkt_B Sklep_X Luty    304       68    236 \n",
              "11 Produkt_B Sklep_Y Luty    281      170    111 \n",
              "12 Produkt_B Sklep_Z Luty    251       78    173 \n",
              "13 Produkt_B Sklep_X Luty    229      108    121 \n",
              "14 Produkt_B Sklep_Y Luty    117      101     16 \n",
              "15 Produkt_B Sklep_Z Luty    122       33     89 \n",
              "16 Produkt_B Sklep_X Luty    308       50    258 \n",
              "17 Produkt_B Sklep_Y Luty    296      152    144 \n",
              "18 Produkt_B Sklep_Z Luty    320       63    257 \n",
              "19 Produkt_C Sklep_X Marzec  279      169    110 \n",
              "20 Produkt_C Sklep_Y Marzec  457       42    415 \n",
              "21 Produkt_C Sklep_Z Marzec  197      188      9 \n",
              "22 Produkt_C Sklep_X Marzec  200      199      1 \n",
              "23 Produkt_C Sklep_Y Marzec  351      153    198 \n",
              "24 Produkt_C Sklep_Z Marzec  482       31    451 \n",
              "25 Produkt_C Sklep_X Marzec  470      151    319 \n",
              "26 Produkt_C Sklep_Y Marzec  368      193    175 \n",
              "27 Produkt_C Sklep_Z Marzec  277      105    172 "
            ]
          },
          "metadata": {}
        }
      ]
    },
    {
      "cell_type": "code",
      "source": [
        "task_2 = sales_data_advanced %>% arrange(desc(Zysk))\n",
        "task_2"
      ],
      "metadata": {
        "colab": {
          "base_uri": "https://localhost:8080/",
          "height": 944
        },
        "id": "aPcFrBNWqETP",
        "outputId": "7202bf62-ca2f-450f-815b-62cffecd6aab"
      },
      "execution_count": 21,
      "outputs": [
        {
          "output_type": "display_data",
          "data": {
            "text/html": [
              "<table class=\"dataframe\">\n",
              "<caption>A data.frame: 27 × 6</caption>\n",
              "<thead>\n",
              "\t<tr><th scope=col>Produkt</th><th scope=col>Sklep</th><th scope=col>Miesiac</th><th scope=col>Sprzedaz</th><th scope=col>Koszty</th><th scope=col>Zysk</th></tr>\n",
              "\t<tr><th scope=col>&lt;chr&gt;</th><th scope=col>&lt;chr&gt;</th><th scope=col>&lt;chr&gt;</th><th scope=col>&lt;int&gt;</th><th scope=col>&lt;int&gt;</th><th scope=col>&lt;int&gt;</th></tr>\n",
              "</thead>\n",
              "<tbody>\n",
              "\t<tr><td>Produkt_C</td><td>Sklep_Z</td><td>Marzec </td><td>482</td><td> 31</td><td>451</td></tr>\n",
              "\t<tr><td>Produkt_C</td><td>Sklep_Y</td><td>Marzec </td><td>457</td><td> 42</td><td>415</td></tr>\n",
              "\t<tr><td>Produkt_A</td><td>Sklep_Z</td><td>Styczeń</td><td>381</td><td> 39</td><td>342</td></tr>\n",
              "\t<tr><td>Produkt_C</td><td>Sklep_X</td><td>Marzec </td><td>470</td><td>151</td><td>319</td></tr>\n",
              "\t<tr><td>Produkt_A</td><td>Sklep_Y</td><td>Styczeń</td><td>425</td><td>113</td><td>312</td></tr>\n",
              "\t<tr><td>Produkt_A</td><td>Sklep_X</td><td>Styczeń</td><td>399</td><td>117</td><td>282</td></tr>\n",
              "\t<tr><td>Produkt_B</td><td>Sklep_X</td><td>Luty   </td><td>308</td><td> 50</td><td>258</td></tr>\n",
              "\t<tr><td>Produkt_B</td><td>Sklep_Z</td><td>Luty   </td><td>320</td><td> 63</td><td>257</td></tr>\n",
              "\t<tr><td>Produkt_A</td><td>Sklep_X</td><td>Styczeń</td><td>391</td><td>148</td><td>243</td></tr>\n",
              "\t<tr><td>Produkt_B</td><td>Sklep_X</td><td>Luty   </td><td>304</td><td> 68</td><td>236</td></tr>\n",
              "\t<tr><td>Produkt_C</td><td>Sklep_Y</td><td>Marzec </td><td>351</td><td>153</td><td>198</td></tr>\n",
              "\t<tr><td>Produkt_C</td><td>Sklep_Y</td><td>Marzec </td><td>368</td><td>193</td><td>175</td></tr>\n",
              "\t<tr><td>Produkt_B</td><td>Sklep_Z</td><td>Luty   </td><td>251</td><td> 78</td><td>173</td></tr>\n",
              "\t<tr><td>Produkt_C</td><td>Sklep_Z</td><td>Marzec </td><td>277</td><td>105</td><td>172</td></tr>\n",
              "\t<tr><td>Produkt_B</td><td>Sklep_Y</td><td>Luty   </td><td>296</td><td>152</td><td>144</td></tr>\n",
              "\t<tr><td>Produkt_A</td><td>Sklep_Z</td><td>Styczeń</td><td>210</td><td> 85</td><td>125</td></tr>\n",
              "\t<tr><td>Produkt_B</td><td>Sklep_X</td><td>Luty   </td><td>229</td><td>108</td><td>121</td></tr>\n",
              "\t<tr><td>Produkt_B</td><td>Sklep_Y</td><td>Luty   </td><td>281</td><td>170</td><td>111</td></tr>\n",
              "\t<tr><td>Produkt_C</td><td>Sklep_X</td><td>Marzec </td><td>279</td><td>169</td><td>110</td></tr>\n",
              "\t<tr><td>Produkt_A</td><td>Sklep_Z</td><td>Styczeń</td><td>164</td><td> 69</td><td> 95</td></tr>\n",
              "\t<tr><td>Produkt_B</td><td>Sklep_Z</td><td>Luty   </td><td>122</td><td> 33</td><td> 89</td></tr>\n",
              "\t<tr><td>Produkt_A</td><td>Sklep_Y</td><td>Styczeń</td><td>138</td><td> 62</td><td> 76</td></tr>\n",
              "\t<tr><td>Produkt_A</td><td>Sklep_X</td><td>Styczeń</td><td>162</td><td>102</td><td> 60</td></tr>\n",
              "\t<tr><td>Produkt_A</td><td>Sklep_Y</td><td>Styczeń</td><td>149</td><td> 94</td><td> 55</td></tr>\n",
              "\t<tr><td>Produkt_B</td><td>Sklep_Y</td><td>Luty   </td><td>117</td><td>101</td><td> 16</td></tr>\n",
              "\t<tr><td>Produkt_C</td><td>Sklep_Z</td><td>Marzec </td><td>197</td><td>188</td><td>  9</td></tr>\n",
              "\t<tr><td>Produkt_C</td><td>Sklep_X</td><td>Marzec </td><td>200</td><td>199</td><td>  1</td></tr>\n",
              "</tbody>\n",
              "</table>\n"
            ],
            "text/markdown": "\nA data.frame: 27 × 6\n\n| Produkt &lt;chr&gt; | Sklep &lt;chr&gt; | Miesiac &lt;chr&gt; | Sprzedaz &lt;int&gt; | Koszty &lt;int&gt; | Zysk &lt;int&gt; |\n|---|---|---|---|---|---|\n| Produkt_C | Sklep_Z | Marzec  | 482 |  31 | 451 |\n| Produkt_C | Sklep_Y | Marzec  | 457 |  42 | 415 |\n| Produkt_A | Sklep_Z | Styczeń | 381 |  39 | 342 |\n| Produkt_C | Sklep_X | Marzec  | 470 | 151 | 319 |\n| Produkt_A | Sklep_Y | Styczeń | 425 | 113 | 312 |\n| Produkt_A | Sklep_X | Styczeń | 399 | 117 | 282 |\n| Produkt_B | Sklep_X | Luty    | 308 |  50 | 258 |\n| Produkt_B | Sklep_Z | Luty    | 320 |  63 | 257 |\n| Produkt_A | Sklep_X | Styczeń | 391 | 148 | 243 |\n| Produkt_B | Sklep_X | Luty    | 304 |  68 | 236 |\n| Produkt_C | Sklep_Y | Marzec  | 351 | 153 | 198 |\n| Produkt_C | Sklep_Y | Marzec  | 368 | 193 | 175 |\n| Produkt_B | Sklep_Z | Luty    | 251 |  78 | 173 |\n| Produkt_C | Sklep_Z | Marzec  | 277 | 105 | 172 |\n| Produkt_B | Sklep_Y | Luty    | 296 | 152 | 144 |\n| Produkt_A | Sklep_Z | Styczeń | 210 |  85 | 125 |\n| Produkt_B | Sklep_X | Luty    | 229 | 108 | 121 |\n| Produkt_B | Sklep_Y | Luty    | 281 | 170 | 111 |\n| Produkt_C | Sklep_X | Marzec  | 279 | 169 | 110 |\n| Produkt_A | Sklep_Z | Styczeń | 164 |  69 |  95 |\n| Produkt_B | Sklep_Z | Luty    | 122 |  33 |  89 |\n| Produkt_A | Sklep_Y | Styczeń | 138 |  62 |  76 |\n| Produkt_A | Sklep_X | Styczeń | 162 | 102 |  60 |\n| Produkt_A | Sklep_Y | Styczeń | 149 |  94 |  55 |\n| Produkt_B | Sklep_Y | Luty    | 117 | 101 |  16 |\n| Produkt_C | Sklep_Z | Marzec  | 197 | 188 |   9 |\n| Produkt_C | Sklep_X | Marzec  | 200 | 199 |   1 |\n\n",
            "text/latex": "A data.frame: 27 × 6\n\\begin{tabular}{llllll}\n Produkt & Sklep & Miesiac & Sprzedaz & Koszty & Zysk\\\\\n <chr> & <chr> & <chr> & <int> & <int> & <int>\\\\\n\\hline\n\t Produkt\\_C & Sklep\\_Z & Marzec  & 482 &  31 & 451\\\\\n\t Produkt\\_C & Sklep\\_Y & Marzec  & 457 &  42 & 415\\\\\n\t Produkt\\_A & Sklep\\_Z & Styczeń & 381 &  39 & 342\\\\\n\t Produkt\\_C & Sklep\\_X & Marzec  & 470 & 151 & 319\\\\\n\t Produkt\\_A & Sklep\\_Y & Styczeń & 425 & 113 & 312\\\\\n\t Produkt\\_A & Sklep\\_X & Styczeń & 399 & 117 & 282\\\\\n\t Produkt\\_B & Sklep\\_X & Luty    & 308 &  50 & 258\\\\\n\t Produkt\\_B & Sklep\\_Z & Luty    & 320 &  63 & 257\\\\\n\t Produkt\\_A & Sklep\\_X & Styczeń & 391 & 148 & 243\\\\\n\t Produkt\\_B & Sklep\\_X & Luty    & 304 &  68 & 236\\\\\n\t Produkt\\_C & Sklep\\_Y & Marzec  & 351 & 153 & 198\\\\\n\t Produkt\\_C & Sklep\\_Y & Marzec  & 368 & 193 & 175\\\\\n\t Produkt\\_B & Sklep\\_Z & Luty    & 251 &  78 & 173\\\\\n\t Produkt\\_C & Sklep\\_Z & Marzec  & 277 & 105 & 172\\\\\n\t Produkt\\_B & Sklep\\_Y & Luty    & 296 & 152 & 144\\\\\n\t Produkt\\_A & Sklep\\_Z & Styczeń & 210 &  85 & 125\\\\\n\t Produkt\\_B & Sklep\\_X & Luty    & 229 & 108 & 121\\\\\n\t Produkt\\_B & Sklep\\_Y & Luty    & 281 & 170 & 111\\\\\n\t Produkt\\_C & Sklep\\_X & Marzec  & 279 & 169 & 110\\\\\n\t Produkt\\_A & Sklep\\_Z & Styczeń & 164 &  69 &  95\\\\\n\t Produkt\\_B & Sklep\\_Z & Luty    & 122 &  33 &  89\\\\\n\t Produkt\\_A & Sklep\\_Y & Styczeń & 138 &  62 &  76\\\\\n\t Produkt\\_A & Sklep\\_X & Styczeń & 162 & 102 &  60\\\\\n\t Produkt\\_A & Sklep\\_Y & Styczeń & 149 &  94 &  55\\\\\n\t Produkt\\_B & Sklep\\_Y & Luty    & 117 & 101 &  16\\\\\n\t Produkt\\_C & Sklep\\_Z & Marzec  & 197 & 188 &   9\\\\\n\t Produkt\\_C & Sklep\\_X & Marzec  & 200 & 199 &   1\\\\\n\\end{tabular}\n",
            "text/plain": [
              "   Produkt   Sklep   Miesiac Sprzedaz Koszty Zysk\n",
              "1  Produkt_C Sklep_Z Marzec  482       31    451 \n",
              "2  Produkt_C Sklep_Y Marzec  457       42    415 \n",
              "3  Produkt_A Sklep_Z Styczeń 381       39    342 \n",
              "4  Produkt_C Sklep_X Marzec  470      151    319 \n",
              "5  Produkt_A Sklep_Y Styczeń 425      113    312 \n",
              "6  Produkt_A Sklep_X Styczeń 399      117    282 \n",
              "7  Produkt_B Sklep_X Luty    308       50    258 \n",
              "8  Produkt_B Sklep_Z Luty    320       63    257 \n",
              "9  Produkt_A Sklep_X Styczeń 391      148    243 \n",
              "10 Produkt_B Sklep_X Luty    304       68    236 \n",
              "11 Produkt_C Sklep_Y Marzec  351      153    198 \n",
              "12 Produkt_C Sklep_Y Marzec  368      193    175 \n",
              "13 Produkt_B Sklep_Z Luty    251       78    173 \n",
              "14 Produkt_C Sklep_Z Marzec  277      105    172 \n",
              "15 Produkt_B Sklep_Y Luty    296      152    144 \n",
              "16 Produkt_A Sklep_Z Styczeń 210       85    125 \n",
              "17 Produkt_B Sklep_X Luty    229      108    121 \n",
              "18 Produkt_B Sklep_Y Luty    281      170    111 \n",
              "19 Produkt_C Sklep_X Marzec  279      169    110 \n",
              "20 Produkt_A Sklep_Z Styczeń 164       69     95 \n",
              "21 Produkt_B Sklep_Z Luty    122       33     89 \n",
              "22 Produkt_A Sklep_Y Styczeń 138       62     76 \n",
              "23 Produkt_A Sklep_X Styczeń 162      102     60 \n",
              "24 Produkt_A Sklep_Y Styczeń 149       94     55 \n",
              "25 Produkt_B Sklep_Y Luty    117      101     16 \n",
              "26 Produkt_C Sklep_Z Marzec  197      188      9 \n",
              "27 Produkt_C Sklep_X Marzec  200      199      1 "
            ]
          },
          "metadata": {}
        }
      ]
    },
    {
      "cell_type": "code",
      "source": [
        "task_3 = sales_data_advanced %>% mutate(Marza_Procentowa = Zysk/Sprzedaz * 100)\n",
        "task_3"
      ],
      "metadata": {
        "colab": {
          "base_uri": "https://localhost:8080/",
          "height": 944
        },
        "id": "f3A5aVI8qD0P",
        "outputId": "a49bbdb7-b108-4f93-a8b8-d7c0f843589d"
      },
      "execution_count": 22,
      "outputs": [
        {
          "output_type": "display_data",
          "data": {
            "text/html": [
              "<table class=\"dataframe\">\n",
              "<caption>A data.frame: 27 × 7</caption>\n",
              "<thead>\n",
              "\t<tr><th scope=col>Produkt</th><th scope=col>Sklep</th><th scope=col>Miesiac</th><th scope=col>Sprzedaz</th><th scope=col>Koszty</th><th scope=col>Zysk</th><th scope=col>Marza_Procentowa</th></tr>\n",
              "\t<tr><th scope=col>&lt;chr&gt;</th><th scope=col>&lt;chr&gt;</th><th scope=col>&lt;chr&gt;</th><th scope=col>&lt;int&gt;</th><th scope=col>&lt;int&gt;</th><th scope=col>&lt;int&gt;</th><th scope=col>&lt;dbl&gt;</th></tr>\n",
              "</thead>\n",
              "<tbody>\n",
              "\t<tr><td>Produkt_A</td><td>Sklep_X</td><td>Styczeń</td><td>399</td><td>117</td><td>282</td><td>70.676692</td></tr>\n",
              "\t<tr><td>Produkt_A</td><td>Sklep_Y</td><td>Styczeń</td><td>149</td><td> 94</td><td> 55</td><td>36.912752</td></tr>\n",
              "\t<tr><td>Produkt_A</td><td>Sklep_Z</td><td>Styczeń</td><td>381</td><td> 39</td><td>342</td><td>89.763780</td></tr>\n",
              "\t<tr><td>Produkt_A</td><td>Sklep_X</td><td>Styczeń</td><td>391</td><td>148</td><td>243</td><td>62.148338</td></tr>\n",
              "\t<tr><td>Produkt_A</td><td>Sklep_Y</td><td>Styczeń</td><td>425</td><td>113</td><td>312</td><td>73.411765</td></tr>\n",
              "\t<tr><td>Produkt_A</td><td>Sklep_Z</td><td>Styczeń</td><td>210</td><td> 85</td><td>125</td><td>59.523810</td></tr>\n",
              "\t<tr><td>Produkt_A</td><td>Sklep_X</td><td>Styczeń</td><td>162</td><td>102</td><td> 60</td><td>37.037037</td></tr>\n",
              "\t<tr><td>Produkt_A</td><td>Sklep_Y</td><td>Styczeń</td><td>138</td><td> 62</td><td> 76</td><td>55.072464</td></tr>\n",
              "\t<tr><td>Produkt_A</td><td>Sklep_Z</td><td>Styczeń</td><td>164</td><td> 69</td><td> 95</td><td>57.926829</td></tr>\n",
              "\t<tr><td>Produkt_B</td><td>Sklep_X</td><td>Luty   </td><td>304</td><td> 68</td><td>236</td><td>77.631579</td></tr>\n",
              "\t<tr><td>Produkt_B</td><td>Sklep_Y</td><td>Luty   </td><td>281</td><td>170</td><td>111</td><td>39.501779</td></tr>\n",
              "\t<tr><td>Produkt_B</td><td>Sklep_Z</td><td>Luty   </td><td>251</td><td> 78</td><td>173</td><td>68.924303</td></tr>\n",
              "\t<tr><td>Produkt_B</td><td>Sklep_X</td><td>Luty   </td><td>229</td><td>108</td><td>121</td><td>52.838428</td></tr>\n",
              "\t<tr><td>Produkt_B</td><td>Sklep_Y</td><td>Luty   </td><td>117</td><td>101</td><td> 16</td><td>13.675214</td></tr>\n",
              "\t<tr><td>Produkt_B</td><td>Sklep_Z</td><td>Luty   </td><td>122</td><td> 33</td><td> 89</td><td>72.950820</td></tr>\n",
              "\t<tr><td>Produkt_B</td><td>Sklep_X</td><td>Luty   </td><td>308</td><td> 50</td><td>258</td><td>83.766234</td></tr>\n",
              "\t<tr><td>Produkt_B</td><td>Sklep_Y</td><td>Luty   </td><td>296</td><td>152</td><td>144</td><td>48.648649</td></tr>\n",
              "\t<tr><td>Produkt_B</td><td>Sklep_Z</td><td>Luty   </td><td>320</td><td> 63</td><td>257</td><td>80.312500</td></tr>\n",
              "\t<tr><td>Produkt_C</td><td>Sklep_X</td><td>Marzec </td><td>279</td><td>169</td><td>110</td><td>39.426523</td></tr>\n",
              "\t<tr><td>Produkt_C</td><td>Sklep_Y</td><td>Marzec </td><td>457</td><td> 42</td><td>415</td><td>90.809628</td></tr>\n",
              "\t<tr><td>Produkt_C</td><td>Sklep_Z</td><td>Marzec </td><td>197</td><td>188</td><td>  9</td><td> 4.568528</td></tr>\n",
              "\t<tr><td>Produkt_C</td><td>Sklep_X</td><td>Marzec </td><td>200</td><td>199</td><td>  1</td><td> 0.500000</td></tr>\n",
              "\t<tr><td>Produkt_C</td><td>Sklep_Y</td><td>Marzec </td><td>351</td><td>153</td><td>198</td><td>56.410256</td></tr>\n",
              "\t<tr><td>Produkt_C</td><td>Sklep_Z</td><td>Marzec </td><td>482</td><td> 31</td><td>451</td><td>93.568465</td></tr>\n",
              "\t<tr><td>Produkt_C</td><td>Sklep_X</td><td>Marzec </td><td>470</td><td>151</td><td>319</td><td>67.872340</td></tr>\n",
              "\t<tr><td>Produkt_C</td><td>Sklep_Y</td><td>Marzec </td><td>368</td><td>193</td><td>175</td><td>47.554348</td></tr>\n",
              "\t<tr><td>Produkt_C</td><td>Sklep_Z</td><td>Marzec </td><td>277</td><td>105</td><td>172</td><td>62.093863</td></tr>\n",
              "</tbody>\n",
              "</table>\n"
            ],
            "text/markdown": "\nA data.frame: 27 × 7\n\n| Produkt &lt;chr&gt; | Sklep &lt;chr&gt; | Miesiac &lt;chr&gt; | Sprzedaz &lt;int&gt; | Koszty &lt;int&gt; | Zysk &lt;int&gt; | Marza_Procentowa &lt;dbl&gt; |\n|---|---|---|---|---|---|---|\n| Produkt_A | Sklep_X | Styczeń | 399 | 117 | 282 | 70.676692 |\n| Produkt_A | Sklep_Y | Styczeń | 149 |  94 |  55 | 36.912752 |\n| Produkt_A | Sklep_Z | Styczeń | 381 |  39 | 342 | 89.763780 |\n| Produkt_A | Sklep_X | Styczeń | 391 | 148 | 243 | 62.148338 |\n| Produkt_A | Sklep_Y | Styczeń | 425 | 113 | 312 | 73.411765 |\n| Produkt_A | Sklep_Z | Styczeń | 210 |  85 | 125 | 59.523810 |\n| Produkt_A | Sklep_X | Styczeń | 162 | 102 |  60 | 37.037037 |\n| Produkt_A | Sklep_Y | Styczeń | 138 |  62 |  76 | 55.072464 |\n| Produkt_A | Sklep_Z | Styczeń | 164 |  69 |  95 | 57.926829 |\n| Produkt_B | Sklep_X | Luty    | 304 |  68 | 236 | 77.631579 |\n| Produkt_B | Sklep_Y | Luty    | 281 | 170 | 111 | 39.501779 |\n| Produkt_B | Sklep_Z | Luty    | 251 |  78 | 173 | 68.924303 |\n| Produkt_B | Sklep_X | Luty    | 229 | 108 | 121 | 52.838428 |\n| Produkt_B | Sklep_Y | Luty    | 117 | 101 |  16 | 13.675214 |\n| Produkt_B | Sklep_Z | Luty    | 122 |  33 |  89 | 72.950820 |\n| Produkt_B | Sklep_X | Luty    | 308 |  50 | 258 | 83.766234 |\n| Produkt_B | Sklep_Y | Luty    | 296 | 152 | 144 | 48.648649 |\n| Produkt_B | Sklep_Z | Luty    | 320 |  63 | 257 | 80.312500 |\n| Produkt_C | Sklep_X | Marzec  | 279 | 169 | 110 | 39.426523 |\n| Produkt_C | Sklep_Y | Marzec  | 457 |  42 | 415 | 90.809628 |\n| Produkt_C | Sklep_Z | Marzec  | 197 | 188 |   9 |  4.568528 |\n| Produkt_C | Sklep_X | Marzec  | 200 | 199 |   1 |  0.500000 |\n| Produkt_C | Sklep_Y | Marzec  | 351 | 153 | 198 | 56.410256 |\n| Produkt_C | Sklep_Z | Marzec  | 482 |  31 | 451 | 93.568465 |\n| Produkt_C | Sklep_X | Marzec  | 470 | 151 | 319 | 67.872340 |\n| Produkt_C | Sklep_Y | Marzec  | 368 | 193 | 175 | 47.554348 |\n| Produkt_C | Sklep_Z | Marzec  | 277 | 105 | 172 | 62.093863 |\n\n",
            "text/latex": "A data.frame: 27 × 7\n\\begin{tabular}{lllllll}\n Produkt & Sklep & Miesiac & Sprzedaz & Koszty & Zysk & Marza\\_Procentowa\\\\\n <chr> & <chr> & <chr> & <int> & <int> & <int> & <dbl>\\\\\n\\hline\n\t Produkt\\_A & Sklep\\_X & Styczeń & 399 & 117 & 282 & 70.676692\\\\\n\t Produkt\\_A & Sklep\\_Y & Styczeń & 149 &  94 &  55 & 36.912752\\\\\n\t Produkt\\_A & Sklep\\_Z & Styczeń & 381 &  39 & 342 & 89.763780\\\\\n\t Produkt\\_A & Sklep\\_X & Styczeń & 391 & 148 & 243 & 62.148338\\\\\n\t Produkt\\_A & Sklep\\_Y & Styczeń & 425 & 113 & 312 & 73.411765\\\\\n\t Produkt\\_A & Sklep\\_Z & Styczeń & 210 &  85 & 125 & 59.523810\\\\\n\t Produkt\\_A & Sklep\\_X & Styczeń & 162 & 102 &  60 & 37.037037\\\\\n\t Produkt\\_A & Sklep\\_Y & Styczeń & 138 &  62 &  76 & 55.072464\\\\\n\t Produkt\\_A & Sklep\\_Z & Styczeń & 164 &  69 &  95 & 57.926829\\\\\n\t Produkt\\_B & Sklep\\_X & Luty    & 304 &  68 & 236 & 77.631579\\\\\n\t Produkt\\_B & Sklep\\_Y & Luty    & 281 & 170 & 111 & 39.501779\\\\\n\t Produkt\\_B & Sklep\\_Z & Luty    & 251 &  78 & 173 & 68.924303\\\\\n\t Produkt\\_B & Sklep\\_X & Luty    & 229 & 108 & 121 & 52.838428\\\\\n\t Produkt\\_B & Sklep\\_Y & Luty    & 117 & 101 &  16 & 13.675214\\\\\n\t Produkt\\_B & Sklep\\_Z & Luty    & 122 &  33 &  89 & 72.950820\\\\\n\t Produkt\\_B & Sklep\\_X & Luty    & 308 &  50 & 258 & 83.766234\\\\\n\t Produkt\\_B & Sklep\\_Y & Luty    & 296 & 152 & 144 & 48.648649\\\\\n\t Produkt\\_B & Sklep\\_Z & Luty    & 320 &  63 & 257 & 80.312500\\\\\n\t Produkt\\_C & Sklep\\_X & Marzec  & 279 & 169 & 110 & 39.426523\\\\\n\t Produkt\\_C & Sklep\\_Y & Marzec  & 457 &  42 & 415 & 90.809628\\\\\n\t Produkt\\_C & Sklep\\_Z & Marzec  & 197 & 188 &   9 &  4.568528\\\\\n\t Produkt\\_C & Sklep\\_X & Marzec  & 200 & 199 &   1 &  0.500000\\\\\n\t Produkt\\_C & Sklep\\_Y & Marzec  & 351 & 153 & 198 & 56.410256\\\\\n\t Produkt\\_C & Sklep\\_Z & Marzec  & 482 &  31 & 451 & 93.568465\\\\\n\t Produkt\\_C & Sklep\\_X & Marzec  & 470 & 151 & 319 & 67.872340\\\\\n\t Produkt\\_C & Sklep\\_Y & Marzec  & 368 & 193 & 175 & 47.554348\\\\\n\t Produkt\\_C & Sklep\\_Z & Marzec  & 277 & 105 & 172 & 62.093863\\\\\n\\end{tabular}\n",
            "text/plain": [
              "   Produkt   Sklep   Miesiac Sprzedaz Koszty Zysk Marza_Procentowa\n",
              "1  Produkt_A Sklep_X Styczeń 399      117    282  70.676692       \n",
              "2  Produkt_A Sklep_Y Styczeń 149       94     55  36.912752       \n",
              "3  Produkt_A Sklep_Z Styczeń 381       39    342  89.763780       \n",
              "4  Produkt_A Sklep_X Styczeń 391      148    243  62.148338       \n",
              "5  Produkt_A Sklep_Y Styczeń 425      113    312  73.411765       \n",
              "6  Produkt_A Sklep_Z Styczeń 210       85    125  59.523810       \n",
              "7  Produkt_A Sklep_X Styczeń 162      102     60  37.037037       \n",
              "8  Produkt_A Sklep_Y Styczeń 138       62     76  55.072464       \n",
              "9  Produkt_A Sklep_Z Styczeń 164       69     95  57.926829       \n",
              "10 Produkt_B Sklep_X Luty    304       68    236  77.631579       \n",
              "11 Produkt_B Sklep_Y Luty    281      170    111  39.501779       \n",
              "12 Produkt_B Sklep_Z Luty    251       78    173  68.924303       \n",
              "13 Produkt_B Sklep_X Luty    229      108    121  52.838428       \n",
              "14 Produkt_B Sklep_Y Luty    117      101     16  13.675214       \n",
              "15 Produkt_B Sklep_Z Luty    122       33     89  72.950820       \n",
              "16 Produkt_B Sklep_X Luty    308       50    258  83.766234       \n",
              "17 Produkt_B Sklep_Y Luty    296      152    144  48.648649       \n",
              "18 Produkt_B Sklep_Z Luty    320       63    257  80.312500       \n",
              "19 Produkt_C Sklep_X Marzec  279      169    110  39.426523       \n",
              "20 Produkt_C Sklep_Y Marzec  457       42    415  90.809628       \n",
              "21 Produkt_C Sklep_Z Marzec  197      188      9   4.568528       \n",
              "22 Produkt_C Sklep_X Marzec  200      199      1   0.500000       \n",
              "23 Produkt_C Sklep_Y Marzec  351      153    198  56.410256       \n",
              "24 Produkt_C Sklep_Z Marzec  482       31    451  93.568465       \n",
              "25 Produkt_C Sklep_X Marzec  470      151    319  67.872340       \n",
              "26 Produkt_C Sklep_Y Marzec  368      193    175  47.554348       \n",
              "27 Produkt_C Sklep_Z Marzec  277      105    172  62.093863       "
            ]
          },
          "metadata": {}
        }
      ]
    },
    {
      "cell_type": "code",
      "source": [
        "task_4 = sales_data_advanced %>% group_by(Sklep) %>% summarise(sredniaSprzedaz=mean(Sprzedaz), sredniKoszt = mean(Koszty), sredniZysk=mean(Zysk))\n",
        "task_4"
      ],
      "metadata": {
        "colab": {
          "base_uri": "https://localhost:8080/",
          "height": 192
        },
        "id": "IHU8ZKZZqDSv",
        "outputId": "a76207a0-0ea9-4d02-c332-78371e0f9721"
      },
      "execution_count": 23,
      "outputs": [
        {
          "output_type": "display_data",
          "data": {
            "text/html": [
              "<table class=\"dataframe\">\n",
              "<caption>A tibble: 3 × 4</caption>\n",
              "<thead>\n",
              "\t<tr><th scope=col>Sklep</th><th scope=col>sredniaSprzedaz</th><th scope=col>sredniKoszt</th><th scope=col>sredniZysk</th></tr>\n",
              "\t<tr><th scope=col>&lt;chr&gt;</th><th scope=col>&lt;dbl&gt;</th><th scope=col>&lt;dbl&gt;</th><th scope=col>&lt;dbl&gt;</th></tr>\n",
              "</thead>\n",
              "<tbody>\n",
              "\t<tr><td>Sklep_X</td><td>304.6667</td><td>123.55556</td><td>181.1111</td></tr>\n",
              "\t<tr><td>Sklep_Y</td><td>286.8889</td><td>120.00000</td><td>166.8889</td></tr>\n",
              "\t<tr><td>Sklep_Z</td><td>267.1111</td><td> 76.77778</td><td>190.3333</td></tr>\n",
              "</tbody>\n",
              "</table>\n"
            ],
            "text/markdown": "\nA tibble: 3 × 4\n\n| Sklep &lt;chr&gt; | sredniaSprzedaz &lt;dbl&gt; | sredniKoszt &lt;dbl&gt; | sredniZysk &lt;dbl&gt; |\n|---|---|---|---|\n| Sklep_X | 304.6667 | 123.55556 | 181.1111 |\n| Sklep_Y | 286.8889 | 120.00000 | 166.8889 |\n| Sklep_Z | 267.1111 |  76.77778 | 190.3333 |\n\n",
            "text/latex": "A tibble: 3 × 4\n\\begin{tabular}{llll}\n Sklep & sredniaSprzedaz & sredniKoszt & sredniZysk\\\\\n <chr> & <dbl> & <dbl> & <dbl>\\\\\n\\hline\n\t Sklep\\_X & 304.6667 & 123.55556 & 181.1111\\\\\n\t Sklep\\_Y & 286.8889 & 120.00000 & 166.8889\\\\\n\t Sklep\\_Z & 267.1111 &  76.77778 & 190.3333\\\\\n\\end{tabular}\n",
            "text/plain": [
              "  Sklep   sredniaSprzedaz sredniKoszt sredniZysk\n",
              "1 Sklep_X 304.6667        123.55556   181.1111  \n",
              "2 Sklep_Y 286.8889        120.00000   166.8889  \n",
              "3 Sklep_Z 267.1111         76.77778   190.3333  "
            ]
          },
          "metadata": {}
        }
      ]
    },
    {
      "cell_type": "code",
      "source": [
        "task_5 = sales_data_advanced %>% mutate(Koszty_na_Sprzedaz=Koszty/Sprzedaz*100)\n",
        "task_5"
      ],
      "metadata": {
        "colab": {
          "base_uri": "https://localhost:8080/",
          "height": 944
        },
        "id": "treDDNrxqCrY",
        "outputId": "4d855896-b6dc-4d76-de7f-02050fb9dfd3"
      },
      "execution_count": 24,
      "outputs": [
        {
          "output_type": "display_data",
          "data": {
            "text/html": [
              "<table class=\"dataframe\">\n",
              "<caption>A data.frame: 27 × 7</caption>\n",
              "<thead>\n",
              "\t<tr><th scope=col>Produkt</th><th scope=col>Sklep</th><th scope=col>Miesiac</th><th scope=col>Sprzedaz</th><th scope=col>Koszty</th><th scope=col>Zysk</th><th scope=col>Koszty_na_Sprzedaz</th></tr>\n",
              "\t<tr><th scope=col>&lt;chr&gt;</th><th scope=col>&lt;chr&gt;</th><th scope=col>&lt;chr&gt;</th><th scope=col>&lt;int&gt;</th><th scope=col>&lt;int&gt;</th><th scope=col>&lt;int&gt;</th><th scope=col>&lt;dbl&gt;</th></tr>\n",
              "</thead>\n",
              "<tbody>\n",
              "\t<tr><td>Produkt_A</td><td>Sklep_X</td><td>Styczeń</td><td>399</td><td>117</td><td>282</td><td>29.323308</td></tr>\n",
              "\t<tr><td>Produkt_A</td><td>Sklep_Y</td><td>Styczeń</td><td>149</td><td> 94</td><td> 55</td><td>63.087248</td></tr>\n",
              "\t<tr><td>Produkt_A</td><td>Sklep_Z</td><td>Styczeń</td><td>381</td><td> 39</td><td>342</td><td>10.236220</td></tr>\n",
              "\t<tr><td>Produkt_A</td><td>Sklep_X</td><td>Styczeń</td><td>391</td><td>148</td><td>243</td><td>37.851662</td></tr>\n",
              "\t<tr><td>Produkt_A</td><td>Sklep_Y</td><td>Styczeń</td><td>425</td><td>113</td><td>312</td><td>26.588235</td></tr>\n",
              "\t<tr><td>Produkt_A</td><td>Sklep_Z</td><td>Styczeń</td><td>210</td><td> 85</td><td>125</td><td>40.476190</td></tr>\n",
              "\t<tr><td>Produkt_A</td><td>Sklep_X</td><td>Styczeń</td><td>162</td><td>102</td><td> 60</td><td>62.962963</td></tr>\n",
              "\t<tr><td>Produkt_A</td><td>Sklep_Y</td><td>Styczeń</td><td>138</td><td> 62</td><td> 76</td><td>44.927536</td></tr>\n",
              "\t<tr><td>Produkt_A</td><td>Sklep_Z</td><td>Styczeń</td><td>164</td><td> 69</td><td> 95</td><td>42.073171</td></tr>\n",
              "\t<tr><td>Produkt_B</td><td>Sklep_X</td><td>Luty   </td><td>304</td><td> 68</td><td>236</td><td>22.368421</td></tr>\n",
              "\t<tr><td>Produkt_B</td><td>Sklep_Y</td><td>Luty   </td><td>281</td><td>170</td><td>111</td><td>60.498221</td></tr>\n",
              "\t<tr><td>Produkt_B</td><td>Sklep_Z</td><td>Luty   </td><td>251</td><td> 78</td><td>173</td><td>31.075697</td></tr>\n",
              "\t<tr><td>Produkt_B</td><td>Sklep_X</td><td>Luty   </td><td>229</td><td>108</td><td>121</td><td>47.161572</td></tr>\n",
              "\t<tr><td>Produkt_B</td><td>Sklep_Y</td><td>Luty   </td><td>117</td><td>101</td><td> 16</td><td>86.324786</td></tr>\n",
              "\t<tr><td>Produkt_B</td><td>Sklep_Z</td><td>Luty   </td><td>122</td><td> 33</td><td> 89</td><td>27.049180</td></tr>\n",
              "\t<tr><td>Produkt_B</td><td>Sklep_X</td><td>Luty   </td><td>308</td><td> 50</td><td>258</td><td>16.233766</td></tr>\n",
              "\t<tr><td>Produkt_B</td><td>Sklep_Y</td><td>Luty   </td><td>296</td><td>152</td><td>144</td><td>51.351351</td></tr>\n",
              "\t<tr><td>Produkt_B</td><td>Sklep_Z</td><td>Luty   </td><td>320</td><td> 63</td><td>257</td><td>19.687500</td></tr>\n",
              "\t<tr><td>Produkt_C</td><td>Sklep_X</td><td>Marzec </td><td>279</td><td>169</td><td>110</td><td>60.573477</td></tr>\n",
              "\t<tr><td>Produkt_C</td><td>Sklep_Y</td><td>Marzec </td><td>457</td><td> 42</td><td>415</td><td> 9.190372</td></tr>\n",
              "\t<tr><td>Produkt_C</td><td>Sklep_Z</td><td>Marzec </td><td>197</td><td>188</td><td>  9</td><td>95.431472</td></tr>\n",
              "\t<tr><td>Produkt_C</td><td>Sklep_X</td><td>Marzec </td><td>200</td><td>199</td><td>  1</td><td>99.500000</td></tr>\n",
              "\t<tr><td>Produkt_C</td><td>Sklep_Y</td><td>Marzec </td><td>351</td><td>153</td><td>198</td><td>43.589744</td></tr>\n",
              "\t<tr><td>Produkt_C</td><td>Sklep_Z</td><td>Marzec </td><td>482</td><td> 31</td><td>451</td><td> 6.431535</td></tr>\n",
              "\t<tr><td>Produkt_C</td><td>Sklep_X</td><td>Marzec </td><td>470</td><td>151</td><td>319</td><td>32.127660</td></tr>\n",
              "\t<tr><td>Produkt_C</td><td>Sklep_Y</td><td>Marzec </td><td>368</td><td>193</td><td>175</td><td>52.445652</td></tr>\n",
              "\t<tr><td>Produkt_C</td><td>Sklep_Z</td><td>Marzec </td><td>277</td><td>105</td><td>172</td><td>37.906137</td></tr>\n",
              "</tbody>\n",
              "</table>\n"
            ],
            "text/markdown": "\nA data.frame: 27 × 7\n\n| Produkt &lt;chr&gt; | Sklep &lt;chr&gt; | Miesiac &lt;chr&gt; | Sprzedaz &lt;int&gt; | Koszty &lt;int&gt; | Zysk &lt;int&gt; | Koszty_na_Sprzedaz &lt;dbl&gt; |\n|---|---|---|---|---|---|---|\n| Produkt_A | Sklep_X | Styczeń | 399 | 117 | 282 | 29.323308 |\n| Produkt_A | Sklep_Y | Styczeń | 149 |  94 |  55 | 63.087248 |\n| Produkt_A | Sklep_Z | Styczeń | 381 |  39 | 342 | 10.236220 |\n| Produkt_A | Sklep_X | Styczeń | 391 | 148 | 243 | 37.851662 |\n| Produkt_A | Sklep_Y | Styczeń | 425 | 113 | 312 | 26.588235 |\n| Produkt_A | Sklep_Z | Styczeń | 210 |  85 | 125 | 40.476190 |\n| Produkt_A | Sklep_X | Styczeń | 162 | 102 |  60 | 62.962963 |\n| Produkt_A | Sklep_Y | Styczeń | 138 |  62 |  76 | 44.927536 |\n| Produkt_A | Sklep_Z | Styczeń | 164 |  69 |  95 | 42.073171 |\n| Produkt_B | Sklep_X | Luty    | 304 |  68 | 236 | 22.368421 |\n| Produkt_B | Sklep_Y | Luty    | 281 | 170 | 111 | 60.498221 |\n| Produkt_B | Sklep_Z | Luty    | 251 |  78 | 173 | 31.075697 |\n| Produkt_B | Sklep_X | Luty    | 229 | 108 | 121 | 47.161572 |\n| Produkt_B | Sklep_Y | Luty    | 117 | 101 |  16 | 86.324786 |\n| Produkt_B | Sklep_Z | Luty    | 122 |  33 |  89 | 27.049180 |\n| Produkt_B | Sklep_X | Luty    | 308 |  50 | 258 | 16.233766 |\n| Produkt_B | Sklep_Y | Luty    | 296 | 152 | 144 | 51.351351 |\n| Produkt_B | Sklep_Z | Luty    | 320 |  63 | 257 | 19.687500 |\n| Produkt_C | Sklep_X | Marzec  | 279 | 169 | 110 | 60.573477 |\n| Produkt_C | Sklep_Y | Marzec  | 457 |  42 | 415 |  9.190372 |\n| Produkt_C | Sklep_Z | Marzec  | 197 | 188 |   9 | 95.431472 |\n| Produkt_C | Sklep_X | Marzec  | 200 | 199 |   1 | 99.500000 |\n| Produkt_C | Sklep_Y | Marzec  | 351 | 153 | 198 | 43.589744 |\n| Produkt_C | Sklep_Z | Marzec  | 482 |  31 | 451 |  6.431535 |\n| Produkt_C | Sklep_X | Marzec  | 470 | 151 | 319 | 32.127660 |\n| Produkt_C | Sklep_Y | Marzec  | 368 | 193 | 175 | 52.445652 |\n| Produkt_C | Sklep_Z | Marzec  | 277 | 105 | 172 | 37.906137 |\n\n",
            "text/latex": "A data.frame: 27 × 7\n\\begin{tabular}{lllllll}\n Produkt & Sklep & Miesiac & Sprzedaz & Koszty & Zysk & Koszty\\_na\\_Sprzedaz\\\\\n <chr> & <chr> & <chr> & <int> & <int> & <int> & <dbl>\\\\\n\\hline\n\t Produkt\\_A & Sklep\\_X & Styczeń & 399 & 117 & 282 & 29.323308\\\\\n\t Produkt\\_A & Sklep\\_Y & Styczeń & 149 &  94 &  55 & 63.087248\\\\\n\t Produkt\\_A & Sklep\\_Z & Styczeń & 381 &  39 & 342 & 10.236220\\\\\n\t Produkt\\_A & Sklep\\_X & Styczeń & 391 & 148 & 243 & 37.851662\\\\\n\t Produkt\\_A & Sklep\\_Y & Styczeń & 425 & 113 & 312 & 26.588235\\\\\n\t Produkt\\_A & Sklep\\_Z & Styczeń & 210 &  85 & 125 & 40.476190\\\\\n\t Produkt\\_A & Sklep\\_X & Styczeń & 162 & 102 &  60 & 62.962963\\\\\n\t Produkt\\_A & Sklep\\_Y & Styczeń & 138 &  62 &  76 & 44.927536\\\\\n\t Produkt\\_A & Sklep\\_Z & Styczeń & 164 &  69 &  95 & 42.073171\\\\\n\t Produkt\\_B & Sklep\\_X & Luty    & 304 &  68 & 236 & 22.368421\\\\\n\t Produkt\\_B & Sklep\\_Y & Luty    & 281 & 170 & 111 & 60.498221\\\\\n\t Produkt\\_B & Sklep\\_Z & Luty    & 251 &  78 & 173 & 31.075697\\\\\n\t Produkt\\_B & Sklep\\_X & Luty    & 229 & 108 & 121 & 47.161572\\\\\n\t Produkt\\_B & Sklep\\_Y & Luty    & 117 & 101 &  16 & 86.324786\\\\\n\t Produkt\\_B & Sklep\\_Z & Luty    & 122 &  33 &  89 & 27.049180\\\\\n\t Produkt\\_B & Sklep\\_X & Luty    & 308 &  50 & 258 & 16.233766\\\\\n\t Produkt\\_B & Sklep\\_Y & Luty    & 296 & 152 & 144 & 51.351351\\\\\n\t Produkt\\_B & Sklep\\_Z & Luty    & 320 &  63 & 257 & 19.687500\\\\\n\t Produkt\\_C & Sklep\\_X & Marzec  & 279 & 169 & 110 & 60.573477\\\\\n\t Produkt\\_C & Sklep\\_Y & Marzec  & 457 &  42 & 415 &  9.190372\\\\\n\t Produkt\\_C & Sklep\\_Z & Marzec  & 197 & 188 &   9 & 95.431472\\\\\n\t Produkt\\_C & Sklep\\_X & Marzec  & 200 & 199 &   1 & 99.500000\\\\\n\t Produkt\\_C & Sklep\\_Y & Marzec  & 351 & 153 & 198 & 43.589744\\\\\n\t Produkt\\_C & Sklep\\_Z & Marzec  & 482 &  31 & 451 &  6.431535\\\\\n\t Produkt\\_C & Sklep\\_X & Marzec  & 470 & 151 & 319 & 32.127660\\\\\n\t Produkt\\_C & Sklep\\_Y & Marzec  & 368 & 193 & 175 & 52.445652\\\\\n\t Produkt\\_C & Sklep\\_Z & Marzec  & 277 & 105 & 172 & 37.906137\\\\\n\\end{tabular}\n",
            "text/plain": [
              "   Produkt   Sklep   Miesiac Sprzedaz Koszty Zysk Koszty_na_Sprzedaz\n",
              "1  Produkt_A Sklep_X Styczeń 399      117    282  29.323308         \n",
              "2  Produkt_A Sklep_Y Styczeń 149       94     55  63.087248         \n",
              "3  Produkt_A Sklep_Z Styczeń 381       39    342  10.236220         \n",
              "4  Produkt_A Sklep_X Styczeń 391      148    243  37.851662         \n",
              "5  Produkt_A Sklep_Y Styczeń 425      113    312  26.588235         \n",
              "6  Produkt_A Sklep_Z Styczeń 210       85    125  40.476190         \n",
              "7  Produkt_A Sklep_X Styczeń 162      102     60  62.962963         \n",
              "8  Produkt_A Sklep_Y Styczeń 138       62     76  44.927536         \n",
              "9  Produkt_A Sklep_Z Styczeń 164       69     95  42.073171         \n",
              "10 Produkt_B Sklep_X Luty    304       68    236  22.368421         \n",
              "11 Produkt_B Sklep_Y Luty    281      170    111  60.498221         \n",
              "12 Produkt_B Sklep_Z Luty    251       78    173  31.075697         \n",
              "13 Produkt_B Sklep_X Luty    229      108    121  47.161572         \n",
              "14 Produkt_B Sklep_Y Luty    117      101     16  86.324786         \n",
              "15 Produkt_B Sklep_Z Luty    122       33     89  27.049180         \n",
              "16 Produkt_B Sklep_X Luty    308       50    258  16.233766         \n",
              "17 Produkt_B Sklep_Y Luty    296      152    144  51.351351         \n",
              "18 Produkt_B Sklep_Z Luty    320       63    257  19.687500         \n",
              "19 Produkt_C Sklep_X Marzec  279      169    110  60.573477         \n",
              "20 Produkt_C Sklep_Y Marzec  457       42    415   9.190372         \n",
              "21 Produkt_C Sklep_Z Marzec  197      188      9  95.431472         \n",
              "22 Produkt_C Sklep_X Marzec  200      199      1  99.500000         \n",
              "23 Produkt_C Sklep_Y Marzec  351      153    198  43.589744         \n",
              "24 Produkt_C Sklep_Z Marzec  482       31    451   6.431535         \n",
              "25 Produkt_C Sklep_X Marzec  470      151    319  32.127660         \n",
              "26 Produkt_C Sklep_Y Marzec  368      193    175  52.445652         \n",
              "27 Produkt_C Sklep_Z Marzec  277      105    172  37.906137         "
            ]
          },
          "metadata": {}
        }
      ]
    },
    {
      "cell_type": "code",
      "source": [
        "task_6 = sales_data_advanced %>% group_by(Produkt) %>% summarise(sredniaSprzedaz=mean(Sprzedaz), sredniKoszt = mean(Koszty)) %>% mutate(Koszty_na_Sprzedaz=sredniKoszt/sredniaSprzedaz*100)\n",
        "task_6"
      ],
      "metadata": {
        "colab": {
          "base_uri": "https://localhost:8080/",
          "height": 192
        },
        "id": "xzE92bkgqCN4",
        "outputId": "9a0e4b00-34a8-4c18-e78a-9745f17a8ffa"
      },
      "execution_count": 25,
      "outputs": [
        {
          "output_type": "display_data",
          "data": {
            "text/html": [
              "<table class=\"dataframe\">\n",
              "<caption>A tibble: 3 × 4</caption>\n",
              "<thead>\n",
              "\t<tr><th scope=col>Produkt</th><th scope=col>sredniaSprzedaz</th><th scope=col>sredniKoszt</th><th scope=col>Koszty_na_Sprzedaz</th></tr>\n",
              "\t<tr><th scope=col>&lt;chr&gt;</th><th scope=col>&lt;dbl&gt;</th><th scope=col>&lt;dbl&gt;</th><th scope=col>&lt;dbl&gt;</th></tr>\n",
              "</thead>\n",
              "<tbody>\n",
              "\t<tr><td>Produkt_A</td><td>268.7778</td><td> 92.11111</td><td>34.27036</td></tr>\n",
              "\t<tr><td>Produkt_B</td><td>247.5556</td><td> 91.44444</td><td>36.93896</td></tr>\n",
              "\t<tr><td>Produkt_C</td><td>342.3333</td><td>136.77778</td><td>39.95456</td></tr>\n",
              "</tbody>\n",
              "</table>\n"
            ],
            "text/markdown": "\nA tibble: 3 × 4\n\n| Produkt &lt;chr&gt; | sredniaSprzedaz &lt;dbl&gt; | sredniKoszt &lt;dbl&gt; | Koszty_na_Sprzedaz &lt;dbl&gt; |\n|---|---|---|---|\n| Produkt_A | 268.7778 |  92.11111 | 34.27036 |\n| Produkt_B | 247.5556 |  91.44444 | 36.93896 |\n| Produkt_C | 342.3333 | 136.77778 | 39.95456 |\n\n",
            "text/latex": "A tibble: 3 × 4\n\\begin{tabular}{llll}\n Produkt & sredniaSprzedaz & sredniKoszt & Koszty\\_na\\_Sprzedaz\\\\\n <chr> & <dbl> & <dbl> & <dbl>\\\\\n\\hline\n\t Produkt\\_A & 268.7778 &  92.11111 & 34.27036\\\\\n\t Produkt\\_B & 247.5556 &  91.44444 & 36.93896\\\\\n\t Produkt\\_C & 342.3333 & 136.77778 & 39.95456\\\\\n\\end{tabular}\n",
            "text/plain": [
              "  Produkt   sredniaSprzedaz sredniKoszt Koszty_na_Sprzedaz\n",
              "1 Produkt_A 268.7778         92.11111   34.27036          \n",
              "2 Produkt_B 247.5556         91.44444   36.93896          \n",
              "3 Produkt_C 342.3333        136.77778   39.95456          "
            ]
          },
          "metadata": {}
        }
      ]
    },
    {
      "cell_type": "markdown",
      "source": [
        "**Analysis of the flights dataset**\n",
        "\n",
        "**1.Determine which carrier has the longest arrival delays? Analyze whether the delays are related only to the carrier or also to the destination airport.**\n",
        "\n",
        "**2.Find the flights that are the most delayed on departure from each airport.**"
      ],
      "metadata": {
        "id": "C2V5GZJUqOXZ"
      }
    },
    {
      "cell_type": "code",
      "source": [
        "#added the variable ,x' to check the first x rows to examine whether the delays are associated with a given guide and with the destination direction, as there may have been individual deviations from the standard trip duration.\n",
        "x = 100000"
      ],
      "metadata": {
        "id": "8VOkFE3LqBNI"
      },
      "execution_count": 26,
      "outputs": []
    },
    {
      "cell_type": "code",
      "source": [
        "#check which airlines had the most delays for x equal to 1000, 10000, 100000 sequentially always EV, DL, UA and B6 airlines have the most delays\n",
        "excersise_1a = flights %>% arrange(desc(arr_delay)) %>% head(x) %>% group_by(carrier) %>% summarise(iloscOpoznienien = n()) %>% arrange(desc(iloscOpoznienien)) %>% mutate(procent = iloscOpoznienien/x * 100) %>% head(5)\n",
        "excersise_1a"
      ],
      "metadata": {
        "colab": {
          "base_uri": "https://localhost:8080/",
          "height": 255
        },
        "id": "DkO4DL0Mq5H4",
        "outputId": "fc27ef17-8e98-4297-be10-819d6b3f5276"
      },
      "execution_count": 27,
      "outputs": [
        {
          "output_type": "display_data",
          "data": {
            "text/html": [
              "<table class=\"dataframe\">\n",
              "<caption>A tibble: 5 × 3</caption>\n",
              "<thead>\n",
              "\t<tr><th scope=col>carrier</th><th scope=col>iloscOpoznienien</th><th scope=col>procent</th></tr>\n",
              "\t<tr><th scope=col>&lt;chr&gt;</th><th scope=col>&lt;int&gt;</th><th scope=col>&lt;dbl&gt;</th></tr>\n",
              "</thead>\n",
              "<tbody>\n",
              "\t<tr><td>EV</td><td>19442</td><td>19.442</td></tr>\n",
              "\t<tr><td>B6</td><td>17948</td><td>17.948</td></tr>\n",
              "\t<tr><td>UA</td><td>16561</td><td>16.561</td></tr>\n",
              "\t<tr><td>DL</td><td>11749</td><td>11.749</td></tr>\n",
              "\t<tr><td>MQ</td><td> 8811</td><td> 8.811</td></tr>\n",
              "</tbody>\n",
              "</table>\n"
            ],
            "text/markdown": "\nA tibble: 5 × 3\n\n| carrier &lt;chr&gt; | iloscOpoznienien &lt;int&gt; | procent &lt;dbl&gt; |\n|---|---|---|\n| EV | 19442 | 19.442 |\n| B6 | 17948 | 17.948 |\n| UA | 16561 | 16.561 |\n| DL | 11749 | 11.749 |\n| MQ |  8811 |  8.811 |\n\n",
            "text/latex": "A tibble: 5 × 3\n\\begin{tabular}{lll}\n carrier & iloscOpoznienien & procent\\\\\n <chr> & <int> & <dbl>\\\\\n\\hline\n\t EV & 19442 & 19.442\\\\\n\t B6 & 17948 & 17.948\\\\\n\t UA & 16561 & 16.561\\\\\n\t DL & 11749 & 11.749\\\\\n\t MQ &  8811 &  8.811\\\\\n\\end{tabular}\n",
            "text/plain": [
              "  carrier iloscOpoznienien procent\n",
              "1 EV      19442            19.442 \n",
              "2 B6      17948            17.948 \n",
              "3 UA      16561            16.561 \n",
              "4 DL      11749            11.749 \n",
              "5 MQ       8811             8.811 "
            ]
          },
          "metadata": {}
        }
      ]
    },
    {
      "cell_type": "code",
      "source": [
        "#checking which flight directions had the most delays for x equal to 1000, 10000, 100000 sequentially always ATL and ORD directions have the most delays\n",
        "excersise_1b = flights %>% arrange(desc(arr_delay)) %>% head(x) %>% group_by(dest) %>% summarise(iloscOpoznienien = n()) %>% arrange(desc(iloscOpoznienien)) %>% mutate(procent = iloscOpoznienien/x * 100) %>% head(10)\n",
        "excersise_1b"
      ],
      "metadata": {
        "colab": {
          "base_uri": "https://localhost:8080/",
          "height": 411
        },
        "id": "w101md_qq4lH",
        "outputId": "c9b8cd85-c1d0-4278-beeb-a6a6ce50a189"
      },
      "execution_count": 28,
      "outputs": [
        {
          "output_type": "display_data",
          "data": {
            "text/html": [
              "<table class=\"dataframe\">\n",
              "<caption>A tibble: 10 × 3</caption>\n",
              "<thead>\n",
              "\t<tr><th scope=col>dest</th><th scope=col>iloscOpoznienien</th><th scope=col>procent</th></tr>\n",
              "\t<tr><th scope=col>&lt;chr&gt;</th><th scope=col>&lt;int&gt;</th><th scope=col>&lt;dbl&gt;</th></tr>\n",
              "</thead>\n",
              "<tbody>\n",
              "\t<tr><td>ATL</td><td>5748</td><td>5.748</td></tr>\n",
              "\t<tr><td>ORD</td><td>4829</td><td>4.829</td></tr>\n",
              "\t<tr><td>LAX</td><td>4345</td><td>4.345</td></tr>\n",
              "\t<tr><td>CLT</td><td>4237</td><td>4.237</td></tr>\n",
              "\t<tr><td>MCO</td><td>4069</td><td>4.069</td></tr>\n",
              "\t<tr><td>FLL</td><td>3983</td><td>3.983</td></tr>\n",
              "\t<tr><td>SFO</td><td>3735</td><td>3.735</td></tr>\n",
              "\t<tr><td>BOS</td><td>3473</td><td>3.473</td></tr>\n",
              "\t<tr><td>DCA</td><td>2915</td><td>2.915</td></tr>\n",
              "\t<tr><td>MIA</td><td>2817</td><td>2.817</td></tr>\n",
              "</tbody>\n",
              "</table>\n"
            ],
            "text/markdown": "\nA tibble: 10 × 3\n\n| dest &lt;chr&gt; | iloscOpoznienien &lt;int&gt; | procent &lt;dbl&gt; |\n|---|---|---|\n| ATL | 5748 | 5.748 |\n| ORD | 4829 | 4.829 |\n| LAX | 4345 | 4.345 |\n| CLT | 4237 | 4.237 |\n| MCO | 4069 | 4.069 |\n| FLL | 3983 | 3.983 |\n| SFO | 3735 | 3.735 |\n| BOS | 3473 | 3.473 |\n| DCA | 2915 | 2.915 |\n| MIA | 2817 | 2.817 |\n\n",
            "text/latex": "A tibble: 10 × 3\n\\begin{tabular}{lll}\n dest & iloscOpoznienien & procent\\\\\n <chr> & <int> & <dbl>\\\\\n\\hline\n\t ATL & 5748 & 5.748\\\\\n\t ORD & 4829 & 4.829\\\\\n\t LAX & 4345 & 4.345\\\\\n\t CLT & 4237 & 4.237\\\\\n\t MCO & 4069 & 4.069\\\\\n\t FLL & 3983 & 3.983\\\\\n\t SFO & 3735 & 3.735\\\\\n\t BOS & 3473 & 3.473\\\\\n\t DCA & 2915 & 2.915\\\\\n\t MIA & 2817 & 2.817\\\\\n\\end{tabular}\n",
            "text/plain": [
              "   dest iloscOpoznienien procent\n",
              "1  ATL  5748             5.748  \n",
              "2  ORD  4829             4.829  \n",
              "3  LAX  4345             4.345  \n",
              "4  CLT  4237             4.237  \n",
              "5  MCO  4069             4.069  \n",
              "6  FLL  3983             3.983  \n",
              "7  SFO  3735             3.735  \n",
              "8  BOS  3473             3.473  \n",
              "9  DCA  2915             2.915  \n",
              "10 MIA  2817             2.817  "
            ]
          },
          "metadata": {}
        }
      ]
    },
    {
      "cell_type": "code",
      "source": [
        "#group the data by origin, then calculate the maximum departure delay time for each airport\n",
        "excersise_2 = flights %>% group_by(origin) %>% slice_max(arr_delay, na_rm = TRUE)\n",
        "excersise_2"
      ],
      "metadata": {
        "colab": {
          "base_uri": "https://localhost:8080/",
          "height": 316
        },
        "id": "cN6tLCqxq4DX",
        "outputId": "5ae142b1-3dd7-4524-cc19-ae4467d12afa"
      },
      "execution_count": 30,
      "outputs": [
        {
          "output_type": "display_data",
          "data": {
            "text/html": [
              "<table class=\"dataframe\">\n",
              "<caption>A grouped_df: 3 × 19</caption>\n",
              "<thead>\n",
              "\t<tr><th scope=col>year</th><th scope=col>month</th><th scope=col>day</th><th scope=col>dep_time</th><th scope=col>sched_dep_time</th><th scope=col>dep_delay</th><th scope=col>arr_time</th><th scope=col>sched_arr_time</th><th scope=col>arr_delay</th><th scope=col>carrier</th><th scope=col>flight</th><th scope=col>tailnum</th><th scope=col>origin</th><th scope=col>dest</th><th scope=col>air_time</th><th scope=col>distance</th><th scope=col>hour</th><th scope=col>minute</th><th scope=col>time_hour</th></tr>\n",
              "\t<tr><th scope=col>&lt;int&gt;</th><th scope=col>&lt;int&gt;</th><th scope=col>&lt;int&gt;</th><th scope=col>&lt;int&gt;</th><th scope=col>&lt;int&gt;</th><th scope=col>&lt;dbl&gt;</th><th scope=col>&lt;int&gt;</th><th scope=col>&lt;int&gt;</th><th scope=col>&lt;dbl&gt;</th><th scope=col>&lt;chr&gt;</th><th scope=col>&lt;int&gt;</th><th scope=col>&lt;chr&gt;</th><th scope=col>&lt;chr&gt;</th><th scope=col>&lt;chr&gt;</th><th scope=col>&lt;dbl&gt;</th><th scope=col>&lt;dbl&gt;</th><th scope=col>&lt;dbl&gt;</th><th scope=col>&lt;dbl&gt;</th><th scope=col>&lt;dttm&gt;</th></tr>\n",
              "</thead>\n",
              "<tbody>\n",
              "\t<tr><td>2013</td><td>1</td><td>10</td><td>1121</td><td>1635</td><td>1126</td><td>1239</td><td>1810</td><td>1109</td><td>MQ</td><td>3695</td><td>N517MQ</td><td>EWR</td><td>ORD</td><td>111</td><td> 719</td><td>16</td><td>35</td><td>2013-01-10 16:00:00</td></tr>\n",
              "\t<tr><td>2013</td><td>1</td><td> 9</td><td> 641</td><td> 900</td><td>1301</td><td>1242</td><td>1530</td><td>1272</td><td>HA</td><td>  51</td><td>N384HA</td><td>JFK</td><td>HNL</td><td>640</td><td>4983</td><td> 9</td><td> 0</td><td>2013-01-09 09:00:00</td></tr>\n",
              "\t<tr><td>2013</td><td>3</td><td>17</td><td>2321</td><td> 810</td><td> 911</td><td> 135</td><td>1020</td><td> 915</td><td>DL</td><td>2119</td><td>N927DA</td><td>LGA</td><td>MSP</td><td>167</td><td>1020</td><td> 8</td><td>10</td><td>2013-03-17 08:00:00</td></tr>\n",
              "</tbody>\n",
              "</table>\n"
            ],
            "text/markdown": "\nA grouped_df: 3 × 19\n\n| year &lt;int&gt; | month &lt;int&gt; | day &lt;int&gt; | dep_time &lt;int&gt; | sched_dep_time &lt;int&gt; | dep_delay &lt;dbl&gt; | arr_time &lt;int&gt; | sched_arr_time &lt;int&gt; | arr_delay &lt;dbl&gt; | carrier &lt;chr&gt; | flight &lt;int&gt; | tailnum &lt;chr&gt; | origin &lt;chr&gt; | dest &lt;chr&gt; | air_time &lt;dbl&gt; | distance &lt;dbl&gt; | hour &lt;dbl&gt; | minute &lt;dbl&gt; | time_hour &lt;dttm&gt; |\n|---|---|---|---|---|---|---|---|---|---|---|---|---|---|---|---|---|---|---|\n| 2013 | 1 | 10 | 1121 | 1635 | 1126 | 1239 | 1810 | 1109 | MQ | 3695 | N517MQ | EWR | ORD | 111 |  719 | 16 | 35 | 2013-01-10 16:00:00 |\n| 2013 | 1 |  9 |  641 |  900 | 1301 | 1242 | 1530 | 1272 | HA |   51 | N384HA | JFK | HNL | 640 | 4983 |  9 |  0 | 2013-01-09 09:00:00 |\n| 2013 | 3 | 17 | 2321 |  810 |  911 |  135 | 1020 |  915 | DL | 2119 | N927DA | LGA | MSP | 167 | 1020 |  8 | 10 | 2013-03-17 08:00:00 |\n\n",
            "text/latex": "A grouped\\_df: 3 × 19\n\\begin{tabular}{lllllllllllllllllll}\n year & month & day & dep\\_time & sched\\_dep\\_time & dep\\_delay & arr\\_time & sched\\_arr\\_time & arr\\_delay & carrier & flight & tailnum & origin & dest & air\\_time & distance & hour & minute & time\\_hour\\\\\n <int> & <int> & <int> & <int> & <int> & <dbl> & <int> & <int> & <dbl> & <chr> & <int> & <chr> & <chr> & <chr> & <dbl> & <dbl> & <dbl> & <dbl> & <dttm>\\\\\n\\hline\n\t 2013 & 1 & 10 & 1121 & 1635 & 1126 & 1239 & 1810 & 1109 & MQ & 3695 & N517MQ & EWR & ORD & 111 &  719 & 16 & 35 & 2013-01-10 16:00:00\\\\\n\t 2013 & 1 &  9 &  641 &  900 & 1301 & 1242 & 1530 & 1272 & HA &   51 & N384HA & JFK & HNL & 640 & 4983 &  9 &  0 & 2013-01-09 09:00:00\\\\\n\t 2013 & 3 & 17 & 2321 &  810 &  911 &  135 & 1020 &  915 & DL & 2119 & N927DA & LGA & MSP & 167 & 1020 &  8 & 10 & 2013-03-17 08:00:00\\\\\n\\end{tabular}\n",
            "text/plain": [
              "  year month day dep_time sched_dep_time dep_delay arr_time sched_arr_time\n",
              "1 2013 1     10  1121     1635           1126      1239     1810          \n",
              "2 2013 1      9   641      900           1301      1242     1530          \n",
              "3 2013 3     17  2321      810            911       135     1020          \n",
              "  arr_delay carrier flight tailnum origin dest air_time distance hour minute\n",
              "1 1109      MQ      3695   N517MQ  EWR    ORD  111       719     16   35    \n",
              "2 1272      HA        51   N384HA  JFK    HNL  640      4983      9    0    \n",
              "3  915      DL      2119   N927DA  LGA    MSP  167      1020      8   10    \n",
              "  time_hour          \n",
              "1 2013-01-10 16:00:00\n",
              "2 2013-01-09 09:00:00\n",
              "3 2013-03-17 08:00:00"
            ]
          },
          "metadata": {}
        }
      ]
    },
    {
      "cell_type": "markdown",
      "source": [
        "**Analysis of the Billboard chart dataset.\n",
        "The dataset contains information about songs that made the list in 2000.**\n",
        "\n",
        "**Load the dataset using the read_csv() function.**\n",
        "\n",
        "**1.Make a table containing all the songs that dropped from the list in September 2000.**\n",
        "\n",
        "**2.Determine which song of a given genre was on the list the longest.**"
      ],
      "metadata": {
        "id": "v1HsuVqvriG2"
      }
    },
    {
      "cell_type": "code",
      "source": [
        "billboard <- read.csv(\"billboard.csv\")\n",
        "\n",
        "#convert date.entered column to Date type to work on it later\n",
        "billboard$date.entered <- as.Date(billboard$date.entered)\n",
        "\n",
        "\n",
        "\n",
        "#change date.entered to Date type\n",
        "billboard$date.entered <- as.Date(billboard$date.entered)\n",
        "\n",
        "\n",
        "\n",
        "#time to September in a week, if negative then entry date is after September 2000\n",
        "czas_do_wrzesnia <- ((as.Date(\"2000-09-02\")-billboard$date.entered)/7) %>% as.integer()\n",
        "\n",
        "\n",
        "my_function <- function(df, cz_do_wrz){\n",
        "    result <- data.frame()\n",
        "\n",
        "    for(i in c(1:nrow(df))){\n",
        "\n",
        "        if((cz_do_wrz[i] %in% c(-3,-2,-1,0))){\n",
        "            ilosc_tyg_do_sprawdzenia <- 4+cz_do_wrz[i]\n",
        "            for(j in c(1:ilosc_tyg_do_sprawdzenia)){\n",
        "                tydzien_sprawdzony <- df[i,] %>% select(matches(paste('x', j,'[^0-9].+',sep='' )))\n",
        "                if((is.na(tydzien_sprawdzony)) & !(do.call(paste0, df[i,]) %in% do.call(paste0, result)) ){\n",
        "                    result <- rbind(result, df[i,])\n",
        "                }\n",
        "            }\n",
        "\n",
        "        }\n",
        "        if((cz_do_wrz[i] > 0) && (!is.na(df[i, cz_do_wrz[i] +7 ])) ){\n",
        "            for(j in c(1:4)){\n",
        "                tydzien_sprawdzony <- df[i,] %>% select(matches(paste('x', cz_do_wrz[i] + j,'[^0-9].+',sep='' )))\n",
        "                if((is.na(tydzien_sprawdzony) & !(do.call(paste0, df[i,]) %in% do.call(paste0, result)))){\n",
        "\n",
        "                    result <- rbind(result, df[i,])\n",
        "\n",
        "                }\n",
        "            }\n",
        "        }\n",
        "\n",
        "    }\n",
        "\n",
        "    return(result)\n",
        "}"
      ],
      "metadata": {
        "id": "A_56wWWAq2df"
      },
      "execution_count": 31,
      "outputs": []
    },
    {
      "cell_type": "code",
      "source": [
        "ex_1 <- my_function(df = billboard,cz_do_wrz =  czas_do_wrzesnia)\n",
        "ex_1"
      ],
      "metadata": {
        "colab": {
          "base_uri": "https://localhost:8080/",
          "height": 1000
        },
        "id": "Bs4OFfupnDrB",
        "outputId": "da48d819-ee1b-439d-8a35-41d5ca6da78c"
      },
      "execution_count": 32,
      "outputs": [
        {
          "output_type": "display_data",
          "data": {
            "text/html": [
              "<table class=\"dataframe\">\n",
              "<caption>A data.frame: 19 × 83</caption>\n",
              "<thead>\n",
              "\t<tr><th></th><th scope=col>year</th><th scope=col>artist.inverted</th><th scope=col>track</th><th scope=col>time</th><th scope=col>genre</th><th scope=col>date.entered</th><th scope=col>date.peaked</th><th scope=col>x1st.week</th><th scope=col>x2nd.week</th><th scope=col>x3rd.week</th><th scope=col>⋯</th><th scope=col>x67th.week</th><th scope=col>x68th.week</th><th scope=col>x69th.week</th><th scope=col>x70th.week</th><th scope=col>x71st.week</th><th scope=col>x72nd.week</th><th scope=col>x73rd.week</th><th scope=col>x74th.week</th><th scope=col>x75th.week</th><th scope=col>x76th.week</th></tr>\n",
              "\t<tr><th></th><th scope=col>&lt;int&gt;</th><th scope=col>&lt;chr&gt;</th><th scope=col>&lt;chr&gt;</th><th scope=col>&lt;chr&gt;</th><th scope=col>&lt;chr&gt;</th><th scope=col>&lt;date&gt;</th><th scope=col>&lt;chr&gt;</th><th scope=col>&lt;int&gt;</th><th scope=col>&lt;int&gt;</th><th scope=col>&lt;int&gt;</th><th scope=col>⋯</th><th scope=col>&lt;lgl&gt;</th><th scope=col>&lt;lgl&gt;</th><th scope=col>&lt;lgl&gt;</th><th scope=col>&lt;lgl&gt;</th><th scope=col>&lt;lgl&gt;</th><th scope=col>&lt;lgl&gt;</th><th scope=col>&lt;lgl&gt;</th><th scope=col>&lt;lgl&gt;</th><th scope=col>&lt;lgl&gt;</th><th scope=col>&lt;lgl&gt;</th></tr>\n",
              "</thead>\n",
              "<tbody>\n",
              "\t<tr><th scope=row>27</th><td>2000</td><td>Aguilera, Christina </td><td>I Turn To You                                               </td><td>4:00</td><td>Rock   </td><td>2000-04-15</td><td>2000-07-01</td><td>50</td><td>39</td><td>30</td><td>⋯</td><td>NA</td><td>NA</td><td>NA</td><td>NA</td><td>NA</td><td>NA</td><td>NA</td><td>NA</td><td>NA</td><td>NA</td></tr>\n",
              "\t<tr><th scope=row>32</th><td>2000</td><td>Eminem              </td><td>The Real Slim Shady                                         </td><td>4:42</td><td>Rap    </td><td>2000-05-06</td><td>2000-06-24</td><td>70</td><td>32</td><td>20</td><td>⋯</td><td>NA</td><td>NA</td><td>NA</td><td>NA</td><td>NA</td><td>NA</td><td>NA</td><td>NA</td><td>NA</td><td>NA</td></tr>\n",
              "\t<tr><th scope=row>52</th><td>2000</td><td>Spears, Britney     </td><td>Oops!.. I Did It Again                                      </td><td>3:30</td><td>Rock   </td><td>2000-04-22</td><td>2000-06-10</td><td>67</td><td>38</td><td>26</td><td>⋯</td><td>NA</td><td>NA</td><td>NA</td><td>NA</td><td>NA</td><td>NA</td><td>NA</td><td>NA</td><td>NA</td><td>NA</td></tr>\n",
              "\t<tr><th scope=row>72</th><td>2000</td><td>Jay-Z               </td><td>Big Pimpin'                                                 </td><td>3:55</td><td>Rap    </td><td>2000-04-22</td><td>2000-07-08</td><td>69</td><td>52</td><td>39</td><td>⋯</td><td>NA</td><td>NA</td><td>NA</td><td>NA</td><td>NA</td><td>NA</td><td>NA</td><td>NA</td><td>NA</td><td>NA</td></tr>\n",
              "\t<tr><th scope=row>90</th><td>2000</td><td>Avant               </td><td>Separated                                                   </td><td>4:13</td><td>Rock   </td><td>2000-04-29</td><td>2000-05-20</td><td>62</td><td>32</td><td>30</td><td>⋯</td><td>NA</td><td>NA</td><td>NA</td><td>NA</td><td>NA</td><td>NA</td><td>NA</td><td>NA</td><td>NA</td><td>NA</td></tr>\n",
              "\t<tr><th scope=row>98</th><td>2000</td><td>Goo Goo Dolls       </td><td>Broadway                                                    </td><td>3:54</td><td>Rock   </td><td>2000-04-22</td><td>2000-07-01</td><td>74</td><td>58</td><td>53</td><td>⋯</td><td>NA</td><td>NA</td><td>NA</td><td>NA</td><td>NA</td><td>NA</td><td>NA</td><td>NA</td><td>NA</td><td>NA</td></tr>\n",
              "\t<tr><th scope=row>119</th><td>2000</td><td>Jones, Donell       </td><td>Where I Wanna Be                                            </td><td>6:22</td><td>Rock   </td><td>2000-04-22</td><td>2000-07-08</td><td>81</td><td>71</td><td>65</td><td>⋯</td><td>NA</td><td>NA</td><td>NA</td><td>NA</td><td>NA</td><td>NA</td><td>NA</td><td>NA</td><td>NA</td><td>NA</td></tr>\n",
              "\t<tr><th scope=row>122</th><td>2000</td><td>Backstreet Boys, The</td><td>The One                                                     </td><td>3:46</td><td>Rock   </td><td>2000-05-27</td><td>2000-07-01</td><td>58</td><td>50</td><td>43</td><td>⋯</td><td>NA</td><td>NA</td><td>NA</td><td>NA</td><td>NA</td><td>NA</td><td>NA</td><td>NA</td><td>NA</td><td>NA</td></tr>\n",
              "\t<tr><th scope=row>147</th><td>2000</td><td>Rascal Flatts       </td><td>Prayin' For Daylight                                        </td><td>3:36</td><td>Country</td><td>2000-05-06</td><td>2000-08-12</td><td>87</td><td>78</td><td>72</td><td>⋯</td><td>NA</td><td>NA</td><td>NA</td><td>NA</td><td>NA</td><td>NA</td><td>NA</td><td>NA</td><td>NA</td><td>NA</td></tr>\n",
              "\t<tr><th scope=row>156</th><td>2000</td><td>Walker, Clay        </td><td>The Chain Of Love                                           </td><td>5:03</td><td>Country</td><td>2000-04-15</td><td>2000-06-10</td><td>73</td><td>65</td><td>57</td><td>⋯</td><td>NA</td><td>NA</td><td>NA</td><td>NA</td><td>NA</td><td>NA</td><td>NA</td><td>NA</td><td>NA</td><td>NA</td></tr>\n",
              "\t<tr><th scope=row>178</th><td>2000</td><td>Heatherly, Eric     </td><td>Flowers On The Wall                                         </td><td>3:16</td><td>Country</td><td>2000-04-29</td><td>2000-08-12</td><td>95</td><td>88</td><td>88</td><td>⋯</td><td>NA</td><td>NA</td><td>NA</td><td>NA</td><td>NA</td><td>NA</td><td>NA</td><td>NA</td><td>NA</td><td>NA</td></tr>\n",
              "\t<tr><th scope=row>213</th><td>2000</td><td>Lil' Kim            </td><td>No Matter What They Say                                     </td><td>4:12</td><td>Rap    </td><td>2000-07-15</td><td>2000-08-05</td><td>80</td><td>72</td><td>67</td><td>⋯</td><td>NA</td><td>NA</td><td>NA</td><td>NA</td><td>NA</td><td>NA</td><td>NA</td><td>NA</td><td>NA</td><td>NA</td></tr>\n",
              "\t<tr><th scope=row>216</th><td>2000</td><td><span style=white-space:pre-wrap>Splender            </span></td><td><span style=white-space:pre-wrap>I Think God Can Explain                                     </span></td><td>3:55</td><td><span style=white-space:pre-wrap>R&amp;B    </span></td><td>2000-06-10</td><td>2000-06-24</td><td>71</td><td>66</td><td>62</td><td>⋯</td><td>NA</td><td>NA</td><td>NA</td><td>NA</td><td>NA</td><td>NA</td><td>NA</td><td>NA</td><td>NA</td><td>NA</td></tr>\n",
              "\t<tr><th scope=row>229</th><td>2000</td><td>Dixie Chicks, The   </td><td>Cold Day In July                                            </td><td>5:12</td><td>Country</td><td>2000-06-24</td><td>2000-08-05</td><td>80</td><td>79</td><td>76</td><td>⋯</td><td>NA</td><td>NA</td><td>NA</td><td>NA</td><td>NA</td><td>NA</td><td>NA</td><td>NA</td><td>NA</td><td>NA</td></tr>\n",
              "\t<tr><th scope=row>230</th><td>2000</td><td>Price, Kelly        </td><td>As We Lay                                                   </td><td>6:20</td><td>Rock   </td><td>2000-07-15</td><td>2000-08-05</td><td>82</td><td>69</td><td>69</td><td>⋯</td><td>NA</td><td>NA</td><td>NA</td><td>NA</td><td>NA</td><td>NA</td><td>NA</td><td>NA</td><td>NA</td><td>NA</td></tr>\n",
              "\t<tr><th scope=row>285</th><td>2000</td><td>LFO                 </td><td>West Side Story                                             </td><td>3:27</td><td>Rock   </td><td>2000-08-05</td><td>2000-08-12</td><td>96</td><td>84</td><td>88</td><td>⋯</td><td>NA</td><td>NA</td><td>NA</td><td>NA</td><td>NA</td><td>NA</td><td>NA</td><td>NA</td><td>NA</td><td>NA</td></tr>\n",
              "\t<tr><th scope=row>288</th><td>2000</td><td><span style=white-space:pre-wrap>2Ge+her             </span></td><td>The Hardest Part Of Breaking Up (Is Getting Back Your Stuff)</td><td>3:15</td><td><span style=white-space:pre-wrap>R&amp;B    </span></td><td>2000-09-02</td><td>2000-09-09</td><td>91</td><td>87</td><td>92</td><td>⋯</td><td>NA</td><td>NA</td><td>NA</td><td>NA</td><td>NA</td><td>NA</td><td>NA</td><td>NA</td><td>NA</td><td>NA</td></tr>\n",
              "\t<tr><th scope=row>295</th><td>2000</td><td><span style=white-space:pre-wrap>Levert, Gerald      </span></td><td><span style=white-space:pre-wrap>Baby U Are                                                  </span></td><td>4:10</td><td><span style=white-space:pre-wrap>R&amp;B    </span></td><td>2000-08-19</td><td>2000-08-26</td><td>96</td><td>89</td><td>92</td><td>⋯</td><td>NA</td><td>NA</td><td>NA</td><td>NA</td><td>NA</td><td>NA</td><td>NA</td><td>NA</td><td>NA</td><td>NA</td></tr>\n",
              "\t<tr><th scope=row>315</th><td>2000</td><td>Zombie Nation       </td><td>Kernkraft 400                                               </td><td>3:30</td><td>Rock   </td><td>2000-09-02</td><td>2000-09-02</td><td>99</td><td>99</td><td>NA</td><td>⋯</td><td>NA</td><td>NA</td><td>NA</td><td>NA</td><td>NA</td><td>NA</td><td>NA</td><td>NA</td><td>NA</td><td>NA</td></tr>\n",
              "</tbody>\n",
              "</table>\n"
            ],
            "text/markdown": "\nA data.frame: 19 × 83\n\n| <!--/--> | year &lt;int&gt; | artist.inverted &lt;chr&gt; | track &lt;chr&gt; | time &lt;chr&gt; | genre &lt;chr&gt; | date.entered &lt;date&gt; | date.peaked &lt;chr&gt; | x1st.week &lt;int&gt; | x2nd.week &lt;int&gt; | x3rd.week &lt;int&gt; | ⋯ ⋯ | x67th.week &lt;lgl&gt; | x68th.week &lt;lgl&gt; | x69th.week &lt;lgl&gt; | x70th.week &lt;lgl&gt; | x71st.week &lt;lgl&gt; | x72nd.week &lt;lgl&gt; | x73rd.week &lt;lgl&gt; | x74th.week &lt;lgl&gt; | x75th.week &lt;lgl&gt; | x76th.week &lt;lgl&gt; |\n|---|---|---|---|---|---|---|---|---|---|---|---|---|---|---|---|---|---|---|---|---|---|\n| 27 | 2000 | Aguilera, Christina  | I Turn To You                                                | 4:00 | Rock    | 2000-04-15 | 2000-07-01 | 50 | 39 | 30 | ⋯ | NA | NA | NA | NA | NA | NA | NA | NA | NA | NA |\n| 32 | 2000 | Eminem               | The Real Slim Shady                                          | 4:42 | Rap     | 2000-05-06 | 2000-06-24 | 70 | 32 | 20 | ⋯ | NA | NA | NA | NA | NA | NA | NA | NA | NA | NA |\n| 52 | 2000 | Spears, Britney      | Oops!.. I Did It Again                                       | 3:30 | Rock    | 2000-04-22 | 2000-06-10 | 67 | 38 | 26 | ⋯ | NA | NA | NA | NA | NA | NA | NA | NA | NA | NA |\n| 72 | 2000 | Jay-Z                | Big Pimpin'                                                  | 3:55 | Rap     | 2000-04-22 | 2000-07-08 | 69 | 52 | 39 | ⋯ | NA | NA | NA | NA | NA | NA | NA | NA | NA | NA |\n| 90 | 2000 | Avant                | Separated                                                    | 4:13 | Rock    | 2000-04-29 | 2000-05-20 | 62 | 32 | 30 | ⋯ | NA | NA | NA | NA | NA | NA | NA | NA | NA | NA |\n| 98 | 2000 | Goo Goo Dolls        | Broadway                                                     | 3:54 | Rock    | 2000-04-22 | 2000-07-01 | 74 | 58 | 53 | ⋯ | NA | NA | NA | NA | NA | NA | NA | NA | NA | NA |\n| 119 | 2000 | Jones, Donell        | Where I Wanna Be                                             | 6:22 | Rock    | 2000-04-22 | 2000-07-08 | 81 | 71 | 65 | ⋯ | NA | NA | NA | NA | NA | NA | NA | NA | NA | NA |\n| 122 | 2000 | Backstreet Boys, The | The One                                                      | 3:46 | Rock    | 2000-05-27 | 2000-07-01 | 58 | 50 | 43 | ⋯ | NA | NA | NA | NA | NA | NA | NA | NA | NA | NA |\n| 147 | 2000 | Rascal Flatts        | Prayin' For Daylight                                         | 3:36 | Country | 2000-05-06 | 2000-08-12 | 87 | 78 | 72 | ⋯ | NA | NA | NA | NA | NA | NA | NA | NA | NA | NA |\n| 156 | 2000 | Walker, Clay         | The Chain Of Love                                            | 5:03 | Country | 2000-04-15 | 2000-06-10 | 73 | 65 | 57 | ⋯ | NA | NA | NA | NA | NA | NA | NA | NA | NA | NA |\n| 178 | 2000 | Heatherly, Eric      | Flowers On The Wall                                          | 3:16 | Country | 2000-04-29 | 2000-08-12 | 95 | 88 | 88 | ⋯ | NA | NA | NA | NA | NA | NA | NA | NA | NA | NA |\n| 213 | 2000 | Lil' Kim             | No Matter What They Say                                      | 4:12 | Rap     | 2000-07-15 | 2000-08-05 | 80 | 72 | 67 | ⋯ | NA | NA | NA | NA | NA | NA | NA | NA | NA | NA |\n| 216 | 2000 | Splender             | I Think God Can Explain                                      | 3:55 | R&amp;B     | 2000-06-10 | 2000-06-24 | 71 | 66 | 62 | ⋯ | NA | NA | NA | NA | NA | NA | NA | NA | NA | NA |\n| 229 | 2000 | Dixie Chicks, The    | Cold Day In July                                             | 5:12 | Country | 2000-06-24 | 2000-08-05 | 80 | 79 | 76 | ⋯ | NA | NA | NA | NA | NA | NA | NA | NA | NA | NA |\n| 230 | 2000 | Price, Kelly         | As We Lay                                                    | 6:20 | Rock    | 2000-07-15 | 2000-08-05 | 82 | 69 | 69 | ⋯ | NA | NA | NA | NA | NA | NA | NA | NA | NA | NA |\n| 285 | 2000 | LFO                  | West Side Story                                              | 3:27 | Rock    | 2000-08-05 | 2000-08-12 | 96 | 84 | 88 | ⋯ | NA | NA | NA | NA | NA | NA | NA | NA | NA | NA |\n| 288 | 2000 | 2Ge+her              | The Hardest Part Of Breaking Up (Is Getting Back Your Stuff) | 3:15 | R&amp;B     | 2000-09-02 | 2000-09-09 | 91 | 87 | 92 | ⋯ | NA | NA | NA | NA | NA | NA | NA | NA | NA | NA |\n| 295 | 2000 | Levert, Gerald       | Baby U Are                                                   | 4:10 | R&amp;B     | 2000-08-19 | 2000-08-26 | 96 | 89 | 92 | ⋯ | NA | NA | NA | NA | NA | NA | NA | NA | NA | NA |\n| 315 | 2000 | Zombie Nation        | Kernkraft 400                                                | 3:30 | Rock    | 2000-09-02 | 2000-09-02 | 99 | 99 | NA | ⋯ | NA | NA | NA | NA | NA | NA | NA | NA | NA | NA |\n\n",
            "text/latex": "A data.frame: 19 × 83\n\\begin{tabular}{r|lllllllllllllllllllll}\n  & year & artist.inverted & track & time & genre & date.entered & date.peaked & x1st.week & x2nd.week & x3rd.week & ⋯ & x67th.week & x68th.week & x69th.week & x70th.week & x71st.week & x72nd.week & x73rd.week & x74th.week & x75th.week & x76th.week\\\\\n  & <int> & <chr> & <chr> & <chr> & <chr> & <date> & <chr> & <int> & <int> & <int> & ⋯ & <lgl> & <lgl> & <lgl> & <lgl> & <lgl> & <lgl> & <lgl> & <lgl> & <lgl> & <lgl>\\\\\n\\hline\n\t27 & 2000 & Aguilera, Christina  & I Turn To You                                                & 4:00 & Rock    & 2000-04-15 & 2000-07-01 & 50 & 39 & 30 & ⋯ & NA & NA & NA & NA & NA & NA & NA & NA & NA & NA\\\\\n\t32 & 2000 & Eminem               & The Real Slim Shady                                          & 4:42 & Rap     & 2000-05-06 & 2000-06-24 & 70 & 32 & 20 & ⋯ & NA & NA & NA & NA & NA & NA & NA & NA & NA & NA\\\\\n\t52 & 2000 & Spears, Britney      & Oops!.. I Did It Again                                       & 3:30 & Rock    & 2000-04-22 & 2000-06-10 & 67 & 38 & 26 & ⋯ & NA & NA & NA & NA & NA & NA & NA & NA & NA & NA\\\\\n\t72 & 2000 & Jay-Z                & Big Pimpin'                                                  & 3:55 & Rap     & 2000-04-22 & 2000-07-08 & 69 & 52 & 39 & ⋯ & NA & NA & NA & NA & NA & NA & NA & NA & NA & NA\\\\\n\t90 & 2000 & Avant                & Separated                                                    & 4:13 & Rock    & 2000-04-29 & 2000-05-20 & 62 & 32 & 30 & ⋯ & NA & NA & NA & NA & NA & NA & NA & NA & NA & NA\\\\\n\t98 & 2000 & Goo Goo Dolls        & Broadway                                                     & 3:54 & Rock    & 2000-04-22 & 2000-07-01 & 74 & 58 & 53 & ⋯ & NA & NA & NA & NA & NA & NA & NA & NA & NA & NA\\\\\n\t119 & 2000 & Jones, Donell        & Where I Wanna Be                                             & 6:22 & Rock    & 2000-04-22 & 2000-07-08 & 81 & 71 & 65 & ⋯ & NA & NA & NA & NA & NA & NA & NA & NA & NA & NA\\\\\n\t122 & 2000 & Backstreet Boys, The & The One                                                      & 3:46 & Rock    & 2000-05-27 & 2000-07-01 & 58 & 50 & 43 & ⋯ & NA & NA & NA & NA & NA & NA & NA & NA & NA & NA\\\\\n\t147 & 2000 & Rascal Flatts        & Prayin' For Daylight                                         & 3:36 & Country & 2000-05-06 & 2000-08-12 & 87 & 78 & 72 & ⋯ & NA & NA & NA & NA & NA & NA & NA & NA & NA & NA\\\\\n\t156 & 2000 & Walker, Clay         & The Chain Of Love                                            & 5:03 & Country & 2000-04-15 & 2000-06-10 & 73 & 65 & 57 & ⋯ & NA & NA & NA & NA & NA & NA & NA & NA & NA & NA\\\\\n\t178 & 2000 & Heatherly, Eric      & Flowers On The Wall                                          & 3:16 & Country & 2000-04-29 & 2000-08-12 & 95 & 88 & 88 & ⋯ & NA & NA & NA & NA & NA & NA & NA & NA & NA & NA\\\\\n\t213 & 2000 & Lil' Kim             & No Matter What They Say                                      & 4:12 & Rap     & 2000-07-15 & 2000-08-05 & 80 & 72 & 67 & ⋯ & NA & NA & NA & NA & NA & NA & NA & NA & NA & NA\\\\\n\t216 & 2000 & Splender             & I Think God Can Explain                                      & 3:55 & R\\&B     & 2000-06-10 & 2000-06-24 & 71 & 66 & 62 & ⋯ & NA & NA & NA & NA & NA & NA & NA & NA & NA & NA\\\\\n\t229 & 2000 & Dixie Chicks, The    & Cold Day In July                                             & 5:12 & Country & 2000-06-24 & 2000-08-05 & 80 & 79 & 76 & ⋯ & NA & NA & NA & NA & NA & NA & NA & NA & NA & NA\\\\\n\t230 & 2000 & Price, Kelly         & As We Lay                                                    & 6:20 & Rock    & 2000-07-15 & 2000-08-05 & 82 & 69 & 69 & ⋯ & NA & NA & NA & NA & NA & NA & NA & NA & NA & NA\\\\\n\t285 & 2000 & LFO                  & West Side Story                                              & 3:27 & Rock    & 2000-08-05 & 2000-08-12 & 96 & 84 & 88 & ⋯ & NA & NA & NA & NA & NA & NA & NA & NA & NA & NA\\\\\n\t288 & 2000 & 2Ge+her              & The Hardest Part Of Breaking Up (Is Getting Back Your Stuff) & 3:15 & R\\&B     & 2000-09-02 & 2000-09-09 & 91 & 87 & 92 & ⋯ & NA & NA & NA & NA & NA & NA & NA & NA & NA & NA\\\\\n\t295 & 2000 & Levert, Gerald       & Baby U Are                                                   & 4:10 & R\\&B     & 2000-08-19 & 2000-08-26 & 96 & 89 & 92 & ⋯ & NA & NA & NA & NA & NA & NA & NA & NA & NA & NA\\\\\n\t315 & 2000 & Zombie Nation        & Kernkraft 400                                                & 3:30 & Rock    & 2000-09-02 & 2000-09-02 & 99 & 99 & NA & ⋯ & NA & NA & NA & NA & NA & NA & NA & NA & NA & NA\\\\\n\\end{tabular}\n",
            "text/plain": [
              "    year artist.inverted     \n",
              "27  2000 Aguilera, Christina \n",
              "32  2000 Eminem              \n",
              "52  2000 Spears, Britney     \n",
              "72  2000 Jay-Z               \n",
              "90  2000 Avant               \n",
              "98  2000 Goo Goo Dolls       \n",
              "119 2000 Jones, Donell       \n",
              "122 2000 Backstreet Boys, The\n",
              "147 2000 Rascal Flatts       \n",
              "156 2000 Walker, Clay        \n",
              "178 2000 Heatherly, Eric     \n",
              "213 2000 Lil' Kim            \n",
              "216 2000 Splender            \n",
              "229 2000 Dixie Chicks, The   \n",
              "230 2000 Price, Kelly        \n",
              "285 2000 LFO                 \n",
              "288 2000 2Ge+her             \n",
              "295 2000 Levert, Gerald      \n",
              "315 2000 Zombie Nation       \n",
              "    track                                                        time genre  \n",
              "27  I Turn To You                                                4:00 Rock   \n",
              "32  The Real Slim Shady                                          4:42 Rap    \n",
              "52  Oops!.. I Did It Again                                       3:30 Rock   \n",
              "72  Big Pimpin'                                                  3:55 Rap    \n",
              "90  Separated                                                    4:13 Rock   \n",
              "98  Broadway                                                     3:54 Rock   \n",
              "119 Where I Wanna Be                                             6:22 Rock   \n",
              "122 The One                                                      3:46 Rock   \n",
              "147 Prayin' For Daylight                                         3:36 Country\n",
              "156 The Chain Of Love                                            5:03 Country\n",
              "178 Flowers On The Wall                                          3:16 Country\n",
              "213 No Matter What They Say                                      4:12 Rap    \n",
              "216 I Think God Can Explain                                      3:55 R&B    \n",
              "229 Cold Day In July                                             5:12 Country\n",
              "230 As We Lay                                                    6:20 Rock   \n",
              "285 West Side Story                                              3:27 Rock   \n",
              "288 The Hardest Part Of Breaking Up (Is Getting Back Your Stuff) 3:15 R&B    \n",
              "295 Baby U Are                                                   4:10 R&B    \n",
              "315 Kernkraft 400                                                3:30 Rock   \n",
              "    date.entered date.peaked x1st.week x2nd.week x3rd.week ⋯ x67th.week\n",
              "27  2000-04-15   2000-07-01  50        39        30        ⋯ NA        \n",
              "32  2000-05-06   2000-06-24  70        32        20        ⋯ NA        \n",
              "52  2000-04-22   2000-06-10  67        38        26        ⋯ NA        \n",
              "72  2000-04-22   2000-07-08  69        52        39        ⋯ NA        \n",
              "90  2000-04-29   2000-05-20  62        32        30        ⋯ NA        \n",
              "98  2000-04-22   2000-07-01  74        58        53        ⋯ NA        \n",
              "119 2000-04-22   2000-07-08  81        71        65        ⋯ NA        \n",
              "122 2000-05-27   2000-07-01  58        50        43        ⋯ NA        \n",
              "147 2000-05-06   2000-08-12  87        78        72        ⋯ NA        \n",
              "156 2000-04-15   2000-06-10  73        65        57        ⋯ NA        \n",
              "178 2000-04-29   2000-08-12  95        88        88        ⋯ NA        \n",
              "213 2000-07-15   2000-08-05  80        72        67        ⋯ NA        \n",
              "216 2000-06-10   2000-06-24  71        66        62        ⋯ NA        \n",
              "229 2000-06-24   2000-08-05  80        79        76        ⋯ NA        \n",
              "230 2000-07-15   2000-08-05  82        69        69        ⋯ NA        \n",
              "285 2000-08-05   2000-08-12  96        84        88        ⋯ NA        \n",
              "288 2000-09-02   2000-09-09  91        87        92        ⋯ NA        \n",
              "295 2000-08-19   2000-08-26  96        89        92        ⋯ NA        \n",
              "315 2000-09-02   2000-09-02  99        99        NA        ⋯ NA        \n",
              "    x68th.week x69th.week x70th.week x71st.week x72nd.week x73rd.week\n",
              "27  NA         NA         NA         NA         NA         NA        \n",
              "32  NA         NA         NA         NA         NA         NA        \n",
              "52  NA         NA         NA         NA         NA         NA        \n",
              "72  NA         NA         NA         NA         NA         NA        \n",
              "90  NA         NA         NA         NA         NA         NA        \n",
              "98  NA         NA         NA         NA         NA         NA        \n",
              "119 NA         NA         NA         NA         NA         NA        \n",
              "122 NA         NA         NA         NA         NA         NA        \n",
              "147 NA         NA         NA         NA         NA         NA        \n",
              "156 NA         NA         NA         NA         NA         NA        \n",
              "178 NA         NA         NA         NA         NA         NA        \n",
              "213 NA         NA         NA         NA         NA         NA        \n",
              "216 NA         NA         NA         NA         NA         NA        \n",
              "229 NA         NA         NA         NA         NA         NA        \n",
              "230 NA         NA         NA         NA         NA         NA        \n",
              "285 NA         NA         NA         NA         NA         NA        \n",
              "288 NA         NA         NA         NA         NA         NA        \n",
              "295 NA         NA         NA         NA         NA         NA        \n",
              "315 NA         NA         NA         NA         NA         NA        \n",
              "    x74th.week x75th.week x76th.week\n",
              "27  NA         NA         NA        \n",
              "32  NA         NA         NA        \n",
              "52  NA         NA         NA        \n",
              "72  NA         NA         NA        \n",
              "90  NA         NA         NA        \n",
              "98  NA         NA         NA        \n",
              "119 NA         NA         NA        \n",
              "122 NA         NA         NA        \n",
              "147 NA         NA         NA        \n",
              "156 NA         NA         NA        \n",
              "178 NA         NA         NA        \n",
              "213 NA         NA         NA        \n",
              "216 NA         NA         NA        \n",
              "229 NA         NA         NA        \n",
              "230 NA         NA         NA        \n",
              "285 NA         NA         NA        \n",
              "288 NA         NA         NA        \n",
              "295 NA         NA         NA        \n",
              "315 NA         NA         NA        "
            ]
          },
          "metadata": {}
        }
      ]
    },
    {
      "cell_type": "code",
      "source": [
        "ex_2 <- apply(billboard, 1, function(row) sum(!is.na(row)))\n",
        "song_longest <- billboard[which(ex_2 == max(ex_2)), 'track']\n",
        "song_longest"
      ],
      "metadata": {
        "colab": {
          "base_uri": "https://localhost:8080/",
          "height": 34
        },
        "id": "ihL6vr6MsYK3",
        "outputId": "197bc97f-f26a-47c7-abb0-d24d3c45cee2"
      },
      "execution_count": 33,
      "outputs": [
        {
          "output_type": "display_data",
          "data": {
            "text/html": [
              "'Higher'"
            ],
            "text/markdown": "'Higher'",
            "text/latex": "'Higher'",
            "text/plain": [
              "[1] \"Higher\""
            ]
          },
          "metadata": {}
        }
      ]
    }
  ]
}